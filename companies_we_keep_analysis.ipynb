{
 "cells": [
  {
   "cell_type": "markdown",
   "metadata": {},
   "source": [
    "For more information on the background to this analysis please consult the Github Readme. This analysis accompanies the Global Witness briefing *The companies we keep*. **The outputs presented in this analysis are not in themselves intended to make any specific allegation of wrongdoing against any individual or company identified.**"
   ]
  },
  {
   "cell_type": "markdown",
   "metadata": {
    "toc": true
   },
   "source": [
    "<h1>Table of Contents<span class=\"tocSkip\"></span></h1>\n",
    "<div class=\"toc\"><ul class=\"toc-item\"><li><span><a href=\"#Data-loading-and-preparation\" data-toc-modified-id=\"Data-loading-and-preparation-1\"><span class=\"toc-item-num\">1&nbsp;&nbsp;</span>Data loading and preparation</a></span><ul class=\"toc-item\"><li><span><a href=\"#Load-tools-&amp;-connections\" data-toc-modified-id=\"Load-tools-&amp;-connections-1.1\"><span class=\"toc-item-num\">1.1&nbsp;&nbsp;</span>Load tools &amp; connections</a></span></li><li><span><a href=\"#Load-data\" data-toc-modified-id=\"Load-data-1.2\"><span class=\"toc-item-num\">1.2&nbsp;&nbsp;</span>Load data</a></span></li><li><span><a href=\"#Create-helper-functions\" data-toc-modified-id=\"Create-helper-functions-1.3\"><span class=\"toc-item-num\">1.3&nbsp;&nbsp;</span>Create helper functions</a></span></li><li><span><a href=\"#Create-additonal-DataFrames,-useful-columns-and-variables\" data-toc-modified-id=\"Create-additonal-DataFrames,-useful-columns-and-variables-1.4\"><span class=\"toc-item-num\">1.4&nbsp;&nbsp;</span>Create additonal DataFrames, useful columns and variables</a></span></li></ul></li><li><span><a href=\"#Analysis\" data-toc-modified-id=\"Analysis-2\"><span class=\"toc-item-num\">2&nbsp;&nbsp;</span>Analysis</a></span><ul class=\"toc-item\"><li><span><a href=\"#Basic-summaries-and-counts\" data-toc-modified-id=\"Basic-summaries-and-counts-2.1\"><span class=\"toc-item-num\">2.1&nbsp;&nbsp;</span>Basic summaries and counts</a></span><ul class=\"toc-item\"><li><span><a href=\"#How-many-active-companies-are-there-in-Companies-House?\" data-toc-modified-id=\"How-many-active-companies-are-there-in-Companies-House?-2.1.1\"><span class=\"toc-item-num\">2.1.1&nbsp;&nbsp;</span>How many active companies are there in Companies House?</a></span></li><li><span><a href=\"#How-many-active-companies-are-there-to-which-the-PSC-regime-applies?\" data-toc-modified-id=\"How-many-active-companies-are-there-to-which-the-PSC-regime-applies?-2.1.2\"><span class=\"toc-item-num\">2.1.2&nbsp;&nbsp;</span>How many active companies are there to which the PSC regime applies?</a></span></li><li><span><a href=\"#How-many-companies-to-which-the-PSC-regime-applies-have-filed-at-least-one-PSC-(individual,-corporate,-legal-person-or-super-secure-person)?\" data-toc-modified-id=\"How-many-companies-to-which-the-PSC-regime-applies-have-filed-at-least-one-PSC-(individual,-corporate,-legal-person-or-super-secure-person)?-2.1.3\"><span class=\"toc-item-num\">2.1.3&nbsp;&nbsp;</span>How many companies to which the PSC regime applies have filed at least one PSC (individual, corporate, legal person or super secure person)?</a></span></li><li><span><a href=\"#What-proportion-of-active-companies-to-which-the-PSC-regime-applies-have-not-filed-a-PSC?\" data-toc-modified-id=\"What-proportion-of-active-companies-to-which-the-PSC-regime-applies-have-not-filed-a-PSC?-2.1.4\"><span class=\"toc-item-num\">2.1.4&nbsp;&nbsp;</span>What proportion of active companies to which the PSC regime applies have not filed a PSC?</a></span></li><li><span><a href=\"#How-many-active-companies-have-filed-a-PSC-statment-of-some-kind?\" data-toc-modified-id=\"How-many-active-companies-have-filed-a-PSC-statment-of-some-kind?-2.1.5\"><span class=\"toc-item-num\">2.1.5&nbsp;&nbsp;</span>How many active companies have filed a PSC statment of some kind?</a></span></li><li><span><a href=\"#How-many-active-companies-have-disclosed-at-least-one-indvidual-PSC?\" data-toc-modified-id=\"How-many-active-companies-have-disclosed-at-least-one-indvidual-PSC?-2.1.6\"><span class=\"toc-item-num\">2.1.6&nbsp;&nbsp;</span>How many active companies have disclosed at least one indvidual PSC?</a></span></li><li><span><a href=\"#What-proprotion-of-companies-to-which-the-PSC-regime-applies-have-directly-disclosed-at-least-one-individual-PSC?\" data-toc-modified-id=\"What-proprotion-of-companies-to-which-the-PSC-regime-applies-have-directly-disclosed-at-least-one-individual-PSC?-2.1.7\"><span class=\"toc-item-num\">2.1.7&nbsp;&nbsp;</span>What proprotion of companies to which the PSC regime applies have directly disclosed at least one individual PSC?</a></span></li><li><span><a href=\"#Since-the-register-started,-how-many-unique-companies-have-filed-either-a-statement-or-at-least-one-PSC?\" data-toc-modified-id=\"Since-the-register-started,-how-many-unique-companies-have-filed-either-a-statement-or-at-least-one-PSC?-2.1.8\"><span class=\"toc-item-num\">2.1.8&nbsp;&nbsp;</span>Since the register started, how many unique companies have filed either a statement <strong>or</strong> at least one PSC?</a></span></li><li><span><a href=\"#Distribution-of-number-of-PSCs-per-company-to-which-the-PSC-regime-applies\" data-toc-modified-id=\"Distribution-of-number-of-PSCs-per-company-to-which-the-PSC-regime-applies-2.1.9\"><span class=\"toc-item-num\">2.1.9&nbsp;&nbsp;</span>Distribution of number of PSCs per company to which the PSC regime applies</a></span></li><li><span><a href=\"#How-many-active-companies-to-which-the-PSC-regime-applies-have-not-filed-a-PSC-statement-or-a-PSC-of-any-kind?\" data-toc-modified-id=\"How-many-active-companies-to-which-the-PSC-regime-applies-have-not-filed-a-PSC-statement-or-a-PSC-of-any-kind?-2.1.10\"><span class=\"toc-item-num\">2.1.10&nbsp;&nbsp;</span>How many active companies to which the PSC regime applies have not filed a PSC statement or a PSC of any kind?</a></span></li><li><span><a href=\"#What-types-of-control-do-PSCs-exercise-over-companies?\" data-toc-modified-id=\"What-types-of-control-do-PSCs-exercise-over-companies?-2.1.11\"><span class=\"toc-item-num\">2.1.11&nbsp;&nbsp;</span>What types of control do PSCs exercise over companies?</a></span><ul class=\"toc-item\"><li><span><a href=\"#Grouped-list\" data-toc-modified-id=\"Grouped-list-2.1.11.1\"><span class=\"toc-item-num\">2.1.11.1&nbsp;&nbsp;</span>Grouped list</a></span></li><li><span><a href=\"#Top-10-using-Companies-House-more-granular-categories-given-in-the-original-data\" data-toc-modified-id=\"Top-10-using-Companies-House-more-granular-categories-given-in-the-original-data-2.1.11.2\"><span class=\"toc-item-num\">2.1.11.2&nbsp;&nbsp;</span>Top 10 using Companies House more granular categories given in the original data</a></span></li></ul></li><li><span><a href=\"#How-many-companies-currently-declare-they-are-controlled-by-trusts-in-some-way?\" data-toc-modified-id=\"How-many-companies-currently-declare-they-are-controlled-by-trusts-in-some-way?-2.1.12\"><span class=\"toc-item-num\">2.1.12&nbsp;&nbsp;</span>How many companies currently declare they are controlled by trusts in some way?</a></span></li><li><span><a href=\"#What-are-the-nationalities-of-PSCs?\" data-toc-modified-id=\"What-are-the-nationalities-of-PSCs?-2.1.13\"><span class=\"toc-item-num\">2.1.13&nbsp;&nbsp;</span>What are the nationalities of PSCs?</a></span></li><li><span><a href=\"#What-are-the-different-types-of-PSC-in-the-register?\" data-toc-modified-id=\"What-are-the-different-types-of-PSC-in-the-register?-2.1.14\"><span class=\"toc-item-num\">2.1.14&nbsp;&nbsp;</span>What are the different types of PSC in the register?</a></span></li><li><span><a href=\"#How-many-companies-have-claimed-a-trading-exemption-of-some-kind?\" data-toc-modified-id=\"How-many-companies-have-claimed-a-trading-exemption-of-some-kind?-2.1.15\"><span class=\"toc-item-num\">2.1.15&nbsp;&nbsp;</span>How many companies have claimed a trading exemption of some kind?</a></span></li><li><span><a href=\"#What-are-the-reasons-given-as-to-why-a-company-is-unable-to-file-a-PSC-in-its-statement?\" data-toc-modified-id=\"What-are-the-reasons-given-as-to-why-a-company-is-unable-to-file-a-PSC-in-its-statement?-2.1.16\"><span class=\"toc-item-num\">2.1.16&nbsp;&nbsp;</span>What are the reasons given as to why a company is unable to file a PSC in its statement?</a></span></li><li><span><a href=\"#How-many-companies-are-disclosing-a-statement-that-they-have-no-PSC?\" data-toc-modified-id=\"How-many-companies-are-disclosing-a-statement-that-they-have-no-PSC?-2.1.17\"><span class=\"toc-item-num\">2.1.17&nbsp;&nbsp;</span>How many companies are disclosing a statement that they have no PSC?</a></span></li><li><span><a href=\"#Number-of-companies-that-have-a-no-PSC-statement-or-a-no-PSC-statment-at-the-&quot;top-of-a-chain&quot;\" data-toc-modified-id=\"Number-of-companies-that-have-a-no-PSC-statement-or-a-no-PSC-statment-at-the-&quot;top-of-a-chain&quot;-2.1.18\"><span class=\"toc-item-num\">2.1.18&nbsp;&nbsp;</span>Number of companies that have a no PSC statement or a no PSC statment at the \"top of a chain\"</a></span></li><li><span><a href=\"#How-many-PSCs-are-there-per-company?\" data-toc-modified-id=\"How-many-PSCs-are-there-per-company?-2.1.19\"><span class=\"toc-item-num\">2.1.19&nbsp;&nbsp;</span>How many PSCs are there per company?</a></span></li><li><span><a href=\"#What-proportion-of-companies-are-struggling-to-find-their-PSC?\" data-toc-modified-id=\"What-proportion-of-companies-are-struggling-to-find-their-PSC?-2.1.20\"><span class=\"toc-item-num\">2.1.20&nbsp;&nbsp;</span>What proportion of companies are struggling to find their PSC?</a></span></li></ul></li><li><span><a href=\"#Issues-with-data-quality-in-the-PSC-register\" data-toc-modified-id=\"Issues-with-data-quality-in-the-PSC-register-2.2\"><span class=\"toc-item-num\">2.2&nbsp;&nbsp;</span>Issues with data quality in the PSC register</a></span><ul class=\"toc-item\"><li><span><a href=\"#Is-it-possible-to-report-that-you-have-no-PSC-while-also-reporting-a-PSC-that-is-currently-active?\" data-toc-modified-id=\"Is-it-possible-to-report-that-you-have-no-PSC-while-also-reporting-a-PSC-that-is-currently-active?-2.2.1\"><span class=\"toc-item-num\">2.2.1&nbsp;&nbsp;</span>Is it possible to report that you have no PSC while also reporting a PSC that is currently active?</a></span></li><li><span><a href=\"#Implausible-dates-of-birth\" data-toc-modified-id=\"Implausible-dates-of-birth-2.2.2\"><span class=\"toc-item-num\">2.2.2&nbsp;&nbsp;</span>Implausible dates of birth</a></span><ul class=\"toc-item\"><li><span><a href=\"#The-addresses-which-have-the-most-companies-with-very-young-PSCs-registered-there\" data-toc-modified-id=\"The-addresses-which-have-the-most-companies-with-very-young-PSCs-registered-there-2.2.2.1\"><span class=\"toc-item-num\">2.2.2.1&nbsp;&nbsp;</span>The addresses which have the most companies with very young PSCs registered there</a></span></li></ul></li></ul></li><li><span><a href=\"#Indicators-of-the-extent-possible-non-compliance-to-the-PSC-regime\" data-toc-modified-id=\"Indicators-of-the-extent-possible-non-compliance-to-the-PSC-regime-2.3\"><span class=\"toc-item-num\">2.3&nbsp;&nbsp;</span>Indicators of the extent possible non-compliance to the PSC regime</a></span><ul class=\"toc-item\"><li><span><a href=\"#Potential-nominee-PSCs\" data-toc-modified-id=\"Potential-nominee-PSCs-2.3.1\"><span class=\"toc-item-num\">2.3.1&nbsp;&nbsp;</span>Potential nominee PSCs</a></span><ul class=\"toc-item\"><li><span><a href=\"#Which-PSCs-currently-control-the-most-number-of-companies?\" data-toc-modified-id=\"Which-PSCs-currently-control-the-most-number-of-companies?-2.3.1.1\"><span class=\"toc-item-num\">2.3.1.1&nbsp;&nbsp;</span>Which PSCs currently control the most number of companies?</a></span></li><li><span><a href=\"#How-many-PSCs-control-over-100-companies?\" data-toc-modified-id=\"How-many-PSCs-control-over-100-companies?-2.3.1.2\"><span class=\"toc-item-num\">2.3.1.2&nbsp;&nbsp;</span>How many PSCs control over 100 companies?</a></span></li></ul></li><li><span><a href=\"#How-many-companies-are-controlled-by-PSCs-that-control-over-100-companies?\" data-toc-modified-id=\"How-many-companies-are-controlled-by-PSCs-that-control-over-100-companies?-2.3.2\"><span class=\"toc-item-num\">2.3.2&nbsp;&nbsp;</span>How many companies are controlled by PSCs that control over 100 companies?</a></span></li><li><span><a href=\"#How-many-companies-are-directed-by-individuals-that-direct-over-100-companies?\" data-toc-modified-id=\"How-many-companies-are-directed-by-individuals-that-direct-over-100-companies?-2.3.3\"><span class=\"toc-item-num\">2.3.3&nbsp;&nbsp;</span>How many companies are directed by individuals that direct over 100 companies?</a></span></li><li><span><a href=\"#Number-of-directors-that-direct-over-100-companies\" data-toc-modified-id=\"Number-of-directors-that-direct-over-100-companies-2.3.4\"><span class=\"toc-item-num\">2.3.4&nbsp;&nbsp;</span>Number of directors that direct over 100 companies</a></span></li><li><span><a href=\"#Corporate-PSCs-that-are-likely-not-to-be-Relevant-Legal-Entities\" data-toc-modified-id=\"Corporate-PSCs-that-are-likely-not-to-be-Relevant-Legal-Entities-2.3.5\"><span class=\"toc-item-num\">2.3.5&nbsp;&nbsp;</span>Corporate PSCs that are likely not to be Relevant Legal Entities</a></span><ul class=\"toc-item\"><li><span><a href=\"#Number-of-companies-controlled-by-companies-that-are-registered-or-located-in-countries-without-recognised-stock-exchanges-(i.e.-not-in-in-the-European-Economic-Area,-Japan,-Israel,-Switzerland,-USA)\" data-toc-modified-id=\"Number-of-companies-controlled-by-companies-that-are-registered-or-located-in-countries-without-recognised-stock-exchanges-(i.e.-not-in-in-the-European-Economic-Area,-Japan,-Israel,-Switzerland,-USA)-2.3.5.1\"><span class=\"toc-item-num\">2.3.5.1&nbsp;&nbsp;</span>Number of companies controlled by companies that are registered or located in countries without recognised stock exchanges (i.e. not in in the European Economic Area, Japan, Israel, Switzerland, USA)</a></span></li><li><span><a href=\"#Number-and-proportion-of-likely-non-RLE-PSCs-that-are-located-or-registered-in-secrecy-jurisdictions\" data-toc-modified-id=\"Number-and-proportion-of-likely-non-RLE-PSCs-that-are-located-or-registered-in-secrecy-jurisdictions-2.3.5.2\"><span class=\"toc-item-num\">2.3.5.2&nbsp;&nbsp;</span>Number and proportion of likely non-RLE PSCs that are located or registered in secrecy jurisdictions</a></span></li><li><span><a href=\"#How-many-companies-declare-that-at-least-one-of-their-PSCs-are-companies-in-secrecy-jurisdictions?\" data-toc-modified-id=\"How-many-companies-declare-that-at-least-one-of-their-PSCs-are-companies-in-secrecy-jurisdictions?-2.3.5.3\"><span class=\"toc-item-num\">2.3.5.3&nbsp;&nbsp;</span>How many companies declare that at least one of their PSCs are companies in secrecy jurisdictions?</a></span></li><li><span><a href=\"#How-many-companies-are-controlled-directly-or-indirectly-by-companies-that-are-registered-or-located-in-countries-where-they-are-unlikely-to-be-RLEs?\" data-toc-modified-id=\"How-many-companies-are-controlled-directly-or-indirectly-by-companies-that-are-registered-or-located-in-countries-where-they-are-unlikely-to-be-RLEs?-2.3.5.4\"><span class=\"toc-item-num\">2.3.5.4&nbsp;&nbsp;</span>How many companies are controlled directly or indirectly by companies that are registered or located in countries where they are unlikely to be RLEs?</a></span></li><li><span><a href=\"#How-many-companies-are-controlled-by-a-non-RLE-company,-directly-or-indirectly,-which-is-also-based-in-a-secrecy-jurisdiction?\" data-toc-modified-id=\"How-many-companies-are-controlled-by-a-non-RLE-company,-directly-or-indirectly,-which-is-also-based-in-a-secrecy-jurisdiction?-2.3.5.5\"><span class=\"toc-item-num\">2.3.5.5&nbsp;&nbsp;</span>How many companies are controlled by a non-RLE company, directly or indirectly, which is also based in a secrecy jurisdiction?</a></span></li><li><span><a href=\"#How-many-companies-are-controlled-directly-or-indirectly-by-a-company-based-in-a-secrecy-jurisdiction?\" data-toc-modified-id=\"How-many-companies-are-controlled-directly-or-indirectly-by-a-company-based-in-a-secrecy-jurisdiction?-2.3.5.6\"><span class=\"toc-item-num\">2.3.5.6&nbsp;&nbsp;</span>How many companies are controlled directly or indirectly by a company based in a secrecy jurisdiction?</a></span></li><li><span><a href=\"#What-are-the-most-popular-registered-addresses-of-companies-that-likely-have-non-RLE-foreign-corporate-PSCs?\" data-toc-modified-id=\"What-are-the-most-popular-registered-addresses-of-companies-that-likely-have-non-RLE-foreign-corporate-PSCs?-2.3.5.7\"><span class=\"toc-item-num\">2.3.5.7&nbsp;&nbsp;</span>What are the most popular registered addresses of companies that likely have non-RLE foreign corporate PSCs?</a></span></li><li><span><a href=\"#What-are-the-most-popular-registered-addresses-of-companies-that-have-corproate-PSCs-in-secrecy-jurisdictions?\" data-toc-modified-id=\"What-are-the-most-popular-registered-addresses-of-companies-that-have-corproate-PSCs-in-secrecy-jurisdictions?-2.3.5.8\"><span class=\"toc-item-num\">2.3.5.8&nbsp;&nbsp;</span>What are the most popular registered addresses of companies that have corproate PSCs in secrecy jurisdictions?</a></span></li><li><span><a href=\"#What-are-the-most-popular-secrecy-jurisdictions-for-corporate-PSCs-to-be-registered?\" data-toc-modified-id=\"What-are-the-most-popular-secrecy-jurisdictions-for-corporate-PSCs-to-be-registered?-2.3.5.9\"><span class=\"toc-item-num\">2.3.5.9&nbsp;&nbsp;</span>What are the most popular secrecy jurisdictions for corporate PSCs to be registered?</a></span></li><li><span><a href=\"#How-many-companies-declare-that-all-of-their-PSCs-are-companies-based-in-secrecy-jurisdictions?\" data-toc-modified-id=\"How-many-companies-declare-that-all-of-their-PSCs-are-companies-based-in-secrecy-jurisdictions?-2.3.5.10\"><span class=\"toc-item-num\">2.3.5.10&nbsp;&nbsp;</span>How many companies declare that <em>all</em> of their PSCs are companies based in secrecy jurisdictions?</a></span></li></ul></li><li><span><a href=\"#Filing-&quot;no-PSC&quot;-statements\" data-toc-modified-id=\"Filing-&quot;no-PSC&quot;-statements-2.3.6\"><span class=\"toc-item-num\">2.3.6&nbsp;&nbsp;</span>Filing \"no PSC\" statements</a></span><ul class=\"toc-item\"><li><span><a href=\"#How-does-the-proportion-of-no-PSC-statements-vary-across-different-company-types?\" data-toc-modified-id=\"How-does-the-proportion-of-no-PSC-statements-vary-across-different-company-types?-2.3.6.1\"><span class=\"toc-item-num\">2.3.6.1&nbsp;&nbsp;</span>How does the proportion of no PSC statements vary across different company types?</a></span></li><li><span><a href=\"#Which-addresses-have-the-largest-volume-and-proportion-of-no-PSC-filings?\" data-toc-modified-id=\"Which-addresses-have-the-largest-volume-and-proportion-of-no-PSC-filings?-2.3.6.2\"><span class=\"toc-item-num\">2.3.6.2&nbsp;&nbsp;</span>Which addresses have the largest volume and proportion of no PSC filings?</a></span></li></ul></li><li><span><a href=\"#Circular-control-structure\" data-toc-modified-id=\"Circular-control-structure-2.3.7\"><span class=\"toc-item-num\">2.3.7&nbsp;&nbsp;</span>Circular control structure</a></span><ul class=\"toc-item\"><li><span><a href=\"#How-many-unique-companies-are-part-of-circular-control-structures?\" data-toc-modified-id=\"How-many-unique-companies-are-part-of-circular-control-structures?-2.3.7.1\"><span class=\"toc-item-num\">2.3.7.1&nbsp;&nbsp;</span>How many unique companies are part of circular control structures?</a></span></li></ul></li></ul></li><li><span><a href=\"#Company-factories\" data-toc-modified-id=\"Company-factories-2.4\"><span class=\"toc-item-num\">2.4&nbsp;&nbsp;</span>Company factories</a></span><ul class=\"toc-item\"><li><span><a href=\"#What-are-the-most-common-registered-addresses-for-active-companies?\" data-toc-modified-id=\"What-are-the-most-common-registered-addresses-for-active-companies?-2.4.1\"><span class=\"toc-item-num\">2.4.1&nbsp;&nbsp;</span>What are the most common registered addresses for active companies?</a></span></li><li><span><a href=\"#Which-addresses-have-the-largest-number-of-PSCs-registered-there-(looking-at-active-and-inactive-companies)?\" data-toc-modified-id=\"Which-addresses-have-the-largest-number-of-PSCs-registered-there-(looking-at-active-and-inactive-companies)?-2.4.2\"><span class=\"toc-item-num\">2.4.2&nbsp;&nbsp;</span>Which addresses have the largest number of PSCs registered there (looking at active and inactive companies)?</a></span></li></ul></li><li><span><a href=\"#Scottlish-Limited-Partnerships-(SLPs)-and-the-PSC-regime\" data-toc-modified-id=\"Scottlish-Limited-Partnerships-(SLPs)-and-the-PSC-regime-2.5\"><span class=\"toc-item-num\">2.5&nbsp;&nbsp;</span>Scottlish Limited Partnerships (SLPs) and the PSC regime</a></span><ul class=\"toc-item\"><li><span><a href=\"#Total-number-of-SLPs-in-active-companies-dataset\" data-toc-modified-id=\"Total-number-of-SLPs-in-active-companies-dataset-2.5.1\"><span class=\"toc-item-num\">2.5.1&nbsp;&nbsp;</span>Total number of SLPs in active companies dataset</a></span></li><li><span><a href=\"#Most-popular-registered-addresses-for-SLPs\" data-toc-modified-id=\"Most-popular-registered-addresses-for-SLPs-2.5.2\"><span class=\"toc-item-num\">2.5.2&nbsp;&nbsp;</span>Most popular registered addresses for SLPs</a></span></li><li><span><a href=\"#Incorporation-rate-of-SLPs\" data-toc-modified-id=\"Incorporation-rate-of-SLPs-2.5.3\"><span class=\"toc-item-num\">2.5.3&nbsp;&nbsp;</span>Incorporation rate of SLPs</a></span><ul class=\"toc-item\"><li><span><a href=\"#How-does-this-compare-to-other-Partnership-types-not-covered-by-thge-PSC-legislation?\" data-toc-modified-id=\"How-does-this-compare-to-other-Partnership-types-not-covered-by-thge-PSC-legislation?-2.5.3.1\"><span class=\"toc-item-num\">2.5.3.1&nbsp;&nbsp;</span>How does this compare to other Partnership types not covered by thge PSC legislation?</a></span></li></ul></li><li><span><a href=\"#How-many-and-what-proportion-of-SLPs-have-reported-that-they-have-at-least-one-PSC?\" data-toc-modified-id=\"How-many-and-what-proportion-of-SLPs-have-reported-that-they-have-at-least-one-PSC?-2.5.4\"><span class=\"toc-item-num\">2.5.4&nbsp;&nbsp;</span>How many and what proportion of SLPs have reported that they have at least one PSC?</a></span></li><li><span><a href=\"#How-many-and-what-proportion-of-SLPs-have-filed-a-statement-of-any-kind?\" data-toc-modified-id=\"How-many-and-what-proportion-of-SLPs-have-filed-a-statement-of-any-kind?-2.5.5\"><span class=\"toc-item-num\">2.5.5&nbsp;&nbsp;</span>How many and what proportion of SLPs have filed a statement of any kind?</a></span></li><li><span><a href=\"#What-nationality-are-PSCs-for-SLPs?\" data-toc-modified-id=\"What-nationality-are-PSCs-for-SLPs?-2.5.6\"><span class=\"toc-item-num\">2.5.6&nbsp;&nbsp;</span>What nationality are PSCs for SLPs?</a></span></li><li><span><a href=\"#What-proportion-of-SLP-PSCs-have-an-addresses-or-a-nationality-from-a-from--former-Soviet-country?\" data-toc-modified-id=\"What-proportion-of-SLP-PSCs-have-an-addresses-or-a-nationality-from-a-from--former-Soviet-country?-2.5.7\"><span class=\"toc-item-num\">2.5.7&nbsp;&nbsp;</span>What proportion of SLP PSCs have an addresses or a nationality from a from  former Soviet country?</a></span></li></ul></li></ul></li><li><span><a href=\"#Red-flags\" data-toc-modified-id=\"Red-flags-3\"><span class=\"toc-item-num\">3&nbsp;&nbsp;</span>Red flags</a></span><ul class=\"toc-item\"><li><span><a href=\"#Distribution-of-the-number-of-red-flags-per-company\" data-toc-modified-id=\"Distribution-of-the-number-of-red-flags-per-company-3.1\"><span class=\"toc-item-num\">3.1&nbsp;&nbsp;</span>Distribution of the number of red flags per company</a></span></li></ul></li><li><span><a href=\"#Politicians-that-are-PSC-and/or-officers\" data-toc-modified-id=\"Politicians-that-are-PSC-and/or-officers-4\"><span class=\"toc-item-num\">4&nbsp;&nbsp;</span>Politicians that are PSC and/or officers</a></span></li></ul></div>"
   ]
  },
  {
   "cell_type": "markdown",
   "metadata": {},
   "source": [
    "# Data loading and preparation"
   ]
  },
  {
   "cell_type": "markdown",
   "metadata": {},
   "source": [
    "## Load tools & connections"
   ]
  },
  {
   "cell_type": "code",
   "execution_count": 2,
   "metadata": {},
   "outputs": [],
   "source": [
    "##Import credentials for graph connection\n",
    "import config\n",
    "##Load in libraries\n",
    "import pandas as pd\n",
    "from pandas import Timestamp\n",
    "import numpy as np\n",
    "import json\n",
    "import re\n",
    "from datetime import datetime\n",
    "from dateutil.relativedelta import relativedelta\n",
    "from pandas.io.json import json_normalize\n",
    "import seaborn as sns\n",
    "from py2neo import authenticate, Graph\n",
    "%matplotlib inline\n",
    "import missingno as msno\n",
    "pd.options.display.float_format = '{:20,.2f}'.format\n",
    "pd.set_option('display.max_columns', 500)\n",
    "# set up authentication parameters\n",
    "authenticate(config.graph_url, config.neo4j_user, config.neo4j_pswd)\n",
    "graph = Graph('http://' + config.graph_url)"
   ]
  },
  {
   "cell_type": "markdown",
   "metadata": {},
   "source": [
    "## Load data"
   ]
  },
  {
   "cell_type": "code",
   "execution_count": 3,
   "metadata": {},
   "outputs": [
    {
     "name": "stderr",
     "output_type": "stream",
     "text": [
      "/usr/local/lib/python3.5/dist-packages/IPython/core/interactiveshell.py:2728: DtypeWarning: Columns (39,40,41,42,43,44,45,46,47,48,49,50,51,52) have mixed types. Specify dtype option on import or set low_memory=False.\n",
      "  interactivity=interactivity, compiler=compiler, result=result)\n",
      "/usr/local/lib/python3.5/dist-packages/IPython/core/interactiveshell.py:2728: DtypeWarning: Columns (15,17,18,19,20,21,22,34) have mixed types. Specify dtype option on import or set low_memory=False.\n",
      "  interactivity=interactivity, compiler=compiler, result=result)\n",
      "/usr/local/lib/python3.5/dist-packages/IPython/core/interactiveshell.py:2728: DtypeWarning: Columns (31,32,45) have mixed types. Specify dtype option on import or set low_memory=False.\n",
      "  interactivity=interactivity, compiler=compiler, result=result)\n",
      "/usr/local/lib/python3.5/dist-packages/IPython/core/interactiveshell.py:2728: DtypeWarning: Columns (1,3,4,13,14,17,20,23,25,26,28,29,34,35,36,38,44,47,48,56,61,66,68,69,73,76,79,84,86,87,90,92,93,96,102,107,114,117,118,128,130,136,142,143,144,149,150,153,155,158,159,165,169,170,171,173,177,183,185,187,190,193,194,196,200,203,205,206,208,212,214,215,217,220,225,227) have mixed types. Specify dtype option on import or set low_memory=False.\n",
      "  interactivity=interactivity, compiler=compiler, result=result)\n"
     ]
    }
   ],
   "source": [
    "active_companies = pd.read_csv('data/outputs/active_companies.csv')\n",
    "psc_records = pd.read_csv('data/outputs/psc_records.csv',parse_dates=['month_year_birth'])\n",
    "psc_statements = pd.read_csv('data/outputs/psc_statements.csv',parse_dates=['month_year_birth'])\n",
    "psc_controls = pd.read_csv('data/outputs/psc_controls.csv')\n",
    "every_politican = pd.read_csv('data/outputs/every_politician.csv')\n",
    "secret_jurisdictions = pd.read_csv('data/outputs/secret_jurisdictions.csv',header=None)[0].tolist()\n",
    "url_company_type_codes = pd.read_csv('data/original_data/companies_house_url_type_codes.csv',keep_default_na=False)\n",
    "excludedcompanytypes = url_company_type_codes[url_company_type_codes['Excluded from PSC'] == 'X']['Prefix'].tolist()\n",
    "url_company_type_codes = pd.Series(url_company_type_codes['Company Type'].values,index=url_company_type_codes.Prefix)"
   ]
  },
  {
   "cell_type": "markdown",
   "metadata": {},
   "source": [
    "## Create helper functions"
   ]
  },
  {
   "cell_type": "code",
   "execution_count": 4,
   "metadata": {},
   "outputs": [],
   "source": [
    "unique_company_count = lambda x: len(x.unique())\n",
    "def proportion_and_count(df,column_label,denominator):\n",
    "    s = df[column_label]\n",
    "    count = s.value_counts(normalize=False)\n",
    "    proportion = count / denominator\n",
    "    temp_df = pd.concat([proportion,count],axis=1)\n",
    "    temp_df.columns = ['proportion','count']\n",
    "    return temp_df.sort_values(by='count',ascending=False)\n",
    "def count_pscs_from_address(df,top_slice_num):\n",
    "    temp_company_numbers = active_companies[active_companies['first_and_postcode'].isin(df.reset_index()['first_and_postcode'])]['CompanyNumber']\n",
    "    temp_pscs = active_psc_records[active_psc_records.company_number.isin(temp_company_numbers)]\n",
    "    return temp_pscs.groupby(['name_elements.forename','name_elements.surname','month_year_birth','address.address_line_1','address.postal_code'])[['company_number']]\\\n",
    "    .agg(unique_company_count).sort_values(by='company_number',ascending=False).head(top_slice_num)\n",
    "def count_pscs_from_companies(df,top_slice_num):\n",
    "    temp_company_numbers = df.company_number.unique()\n",
    "    temp_pscs = active_psc_records[active_psc_records.company_number.isin(temp_company_numbers)]\n",
    "    return temp_pscs.groupby(['name_elements.forename','name_elements.surname','month_year_birth','address.address_line_1','address.postal_code'])[['company_number']]\\\n",
    "    .agg(unique_company_count).sort_values(by='company_number',ascending=False).head(top_slice_num)\n",
    "def company_code_creator(x):\n",
    "    if x[:2].isdigit():\n",
    "        return 'EAW'\n",
    "    else: \n",
    "        return x[:2]\n",
    "def group_string(x):\n",
    "    for key in control_type_mapping.keys():\n",
    "        if key in x:\n",
    "            output = control_type_mapping[key]\n",
    "            break\n",
    "        else:\n",
    "            output = \"Can't group!\"\n",
    "    return output\n",
    "def controlled_by_popular_person(df,threshold):\n",
    "    grouped = active_psc_records.groupby(['name_elements.forename','name_elements.surname','month_year_birth','address.postal_code'])\n",
    "    groups = grouped.size()\n",
    "    groups = groups[groups > threshold]\n",
    "    groups = groups.index.values\n",
    "    company_numbers = []\n",
    "    for group in groups:\n",
    "        l = grouped.get_group(group).company_number.tolist()\n",
    "        company_numbers.extend(l)\n",
    "    return df[df.company_number.isin(company_numbers)]\n",
    "def directed_by_popular_person(df,threshold):\n",
    "    grouped = df[(df.position == 'director') & (df.type == 'Person')].groupby(['name','partial_date_of_birth','address.postal_code'])\n",
    "    groups = grouped.size()\n",
    "    groups = groups[groups > threshold]\n",
    "    groups = groups.index.values\n",
    "    company_numbers = []\n",
    "    for group in groups:\n",
    "        l = grouped.get_group(group).company_number.tolist()\n",
    "        company_numbers.extend(l)\n",
    "    return df[df.company_number.isin(company_numbers)]\n",
    "def add_suffix_to_cols(df,suffix):\n",
    "    df2 = df.copy()\n",
    "    old_cols = df2.columns\n",
    "    new_cols = [x + '_'  + suffix if x != 'join_id' else x for x in old_cols]\n",
    "    df2.columns = new_cols\n",
    "    return df2\n",
    "def get_company_name_from_number(df):\n",
    "    mapper = pd.Series(active_companies.CompanyName.values,index=active_companies.CompanyNumber)\n",
    "    df['controlled_company_name'] = df.company_number.map(mapper)\n",
    "    return df"
   ]
  },
  {
   "cell_type": "markdown",
   "metadata": {},
   "source": [
    "## Create additonal DataFrames, useful columns and variables"
   ]
  },
  {
   "cell_type": "code",
   "execution_count": 5,
   "metadata": {},
   "outputs": [
    {
     "name": "stdout",
     "output_type": "stream",
     "text": [
      "Total rows: 4154291\n",
      "Total unique companies: 4154291\n"
     ]
    }
   ],
   "source": [
    "##Convert incorporation date to datetime\n",
    "active_companies['incorporation_date_formatted'] = pd.to_datetime(active_companies['IncorporationDate'],errors='coerce',format = '%d/%m/%Y')\n",
    "##Add in two additional fields to active_companies for company_codes\n",
    "active_companies['type_codes'] = active_companies.CompanyNumber.apply(company_code_creator)\n",
    "active_companies['company_type'] = active_companies.type_codes.map(url_company_type_codes)\n",
    "##Create DataFrames for active PSC records, statements and controls. Exclude non-active companies.\n",
    "active_psc_records = psc_records[pd.isnull(psc_records.ceased_on)].copy()\n",
    "##Make sure that only PSCs of active companies are in the dataset\n",
    "active_psc_records = active_psc_records[active_psc_records.company_number.isin(active_companies.CompanyNumber.unique())]\n",
    "##Remove those records that are exemptions for trading companies\n",
    "trading_exemption_records = active_psc_records[active_psc_records.kind == 'exemptions']\n",
    "active_psc_records = active_psc_records[active_psc_records.kind != 'exemptions' ]\n",
    "active_psc_statements = psc_statements[pd.isnull(psc_statements.ceased_on)].copy()\n",
    "active_psc_statements = active_psc_statements[active_psc_statements.company_number.isin(active_companies.CompanyNumber.unique())]\n",
    "active_psc_controls = psc_controls[psc_controls.company_number.isin(active_psc_records.company_number)].copy()\n",
    "active_psc_controls = psc_controls[psc_controls.company_number.isin(active_companies.CompanyNumber.unique())]\n",
    "##Create useful DataFrames and variables for counts\n",
    "all_active_companies_unique_count = len(active_companies.CompanyNumber.unique())\n",
    "##Exclude companies that are not meant to file PSCs\n",
    "excludedcompanycategories = ['Industrial and Provident Society','Registered Society']\n",
    "additional_excluded_companies = ['CE', 'CS', 'PC']\n",
    "excludedcompanytypes.extend(additional_excluded_companies)\n",
    "active_companies_psc_applies_df = active_companies[~active_companies.CompanyCategory.isin(excludedcompanycategories)].copy()\n",
    "active_companies_psc_applies_df = active_companies_psc_applies_df[~active_companies_psc_applies_df.type_codes.isin(excludedcompanytypes)].copy()\n",
    "##Create variables that are useful later on for calculations    \n",
    "active_companies_psc_applies_unique_count = len(active_companies_psc_applies_df.CompanyNumber.unique())\n",
    "active_psc_statements_unique_company_count = len(active_psc_statements.company_number.unique())\n",
    "active_psc_statements_unique_count = len(active_psc_statements)\n",
    "active_psc_records_unique_count = len(active_psc_records)\n",
    "active_psc_records_unique_company_count = len(active_psc_records.company_number.unique())\n",
    "all_time_statements_and_records_company_numbers = set(psc_records.company_number.unique().tolist() + psc_statements.company_number.unique().tolist())\n",
    "active_statements_and_records_company_numbers = set(active_psc_records.company_number.unique().tolist() + active_psc_statements.company_number.unique().tolist())\n",
    "##Additional columns to help with analysis later on\n",
    "active_psc_records['type_codes'] = active_psc_records.company_number.apply(company_code_creator)\n",
    "active_psc_records['company_type'] = active_psc_records.type_codes.map(url_company_type_codes)\n",
    "active_psc_statements['type_codes'] = active_psc_statements.company_number.apply(company_code_creator)\n",
    "active_psc_statements['company_type'] = active_psc_statements.type_codes.map(url_company_type_codes)\n",
    "active_psc_records = pd.merge(active_psc_records,active_companies[['CompanyNumber','first_and_postcode']],left_on='company_number',right_on='CompanyNumber')\n",
    "##Create a combined statements and records DataFrame for use in getting totals of all companies that have filed a statement or record\n",
    "active_combined_statements_records = pd.concat([active_psc_records,active_psc_statements])\n",
    "##Show that active_companies DataFrame is unique along CompanyNumber\n",
    "print('Total rows: ' + str(len(active_companies)))\n",
    "print('Total unique companies: ' + str(len(active_companies.CompanyNumber.unique())))"
   ]
  },
  {
   "cell_type": "markdown",
   "metadata": {},
   "source": [
    "# Analysis"
   ]
  },
  {
   "cell_type": "markdown",
   "metadata": {},
   "source": [
    "## Basic summaries and counts"
   ]
  },
  {
   "cell_type": "markdown",
   "metadata": {},
   "source": [
    "### How many active companies are there in Companies House?"
   ]
  },
  {
   "cell_type": "markdown",
   "metadata": {},
   "source": [
    "- Note that the PSC regime does not apply do all of these\n",
    "- This includes partnerships. Unless flagged otherwise we use \"companies\" as shorthand for partnerships and companies in what follows"
   ]
  },
  {
   "cell_type": "code",
   "execution_count": 6,
   "metadata": {},
   "outputs": [
    {
     "data": {
      "text/plain": [
       "4154291"
      ]
     },
     "execution_count": 6,
     "metadata": {},
     "output_type": "execute_result"
    }
   ],
   "source": [
    "all_active_companies_unique_count"
   ]
  },
  {
   "cell_type": "markdown",
   "metadata": {},
   "source": [
    "### How many active companies are there to which the PSC regime applies?"
   ]
  },
  {
   "cell_type": "markdown",
   "metadata": {},
   "source": [
    "- We have excluded the company types to which the PSC regime does not apply according to Companies House\n",
    "- We have additionally excluded three broader categories: Registered Societies and Industrial and Provident Societies\n",
    "- Note that this includes a mix of statuses e.g. \"Active - proposal to strike off\" but does not include any companies that have been dissolved. The analysis that follows includes the broad range of statuses in the [Free Company Data Product](http://download.companieshouse.gov.uk/en_output.html) available from Companies House. We refer to these as \"active\" companies"
   ]
  },
  {
   "cell_type": "code",
   "execution_count": 7,
   "metadata": {},
   "outputs": [
    {
     "data": {
      "text/plain": [
       "4096049"
      ]
     },
     "execution_count": 7,
     "metadata": {},
     "output_type": "execute_result"
    }
   ],
   "source": [
    "active_companies_psc_applies_unique_count"
   ]
  },
  {
   "cell_type": "markdown",
   "metadata": {},
   "source": [
    "### How many companies to which the PSC regime applies have filed at least one PSC (individual, corporate, legal person or super secure person)?"
   ]
  },
  {
   "cell_type": "markdown",
   "metadata": {},
   "source": [
    "There are a number of reasons why a company may not have disclosed a PSC including:\n",
    " - The company has filed a statement of some kind saying they have no PSC\n",
    " - The company's confirmation statement is overdue\n",
    " - The company is exempt as a trading company"
   ]
  },
  {
   "cell_type": "code",
   "execution_count": 8,
   "metadata": {},
   "outputs": [
    {
     "data": {
      "text/html": [
       "<div>\n",
       "<style>\n",
       "    .dataframe thead tr:only-child th {\n",
       "        text-align: right;\n",
       "    }\n",
       "\n",
       "    .dataframe thead th {\n",
       "        text-align: left;\n",
       "    }\n",
       "\n",
       "    .dataframe tbody tr th {\n",
       "        vertical-align: top;\n",
       "    }\n",
       "</style>\n",
       "<table border=\"1\" class=\"dataframe\">\n",
       "  <thead>\n",
       "    <tr style=\"text-align: right;\">\n",
       "      <th></th>\n",
       "      <th>count</th>\n",
       "      <th>proprotion</th>\n",
       "    </tr>\n",
       "  </thead>\n",
       "  <tbody>\n",
       "    <tr>\n",
       "      <th>Number of companies that have filed at least one PSC</th>\n",
       "      <td>3564902</td>\n",
       "      <td>0.87</td>\n",
       "    </tr>\n",
       "    <tr>\n",
       "      <th>Number of companies that have not filed a PSC</th>\n",
       "      <td>531147</td>\n",
       "      <td>0.13</td>\n",
       "    </tr>\n",
       "  </tbody>\n",
       "</table>\n",
       "</div>"
      ],
      "text/plain": [
       "                                                      count  \\\n",
       "Number of companies that have filed at least on...  3564902   \n",
       "Number of companies that have not filed a PSC        531147   \n",
       "\n",
       "                                                             proprotion  \n",
       "Number of companies that have filed at least on...                 0.87  \n",
       "Number of companies that have not filed a PSC                      0.13  "
      ]
     },
     "execution_count": 8,
     "metadata": {},
     "output_type": "execute_result"
    }
   ],
   "source": [
    "temp_df = pd.DataFrame({'count': [active_psc_records_unique_company_count,active_companies_psc_applies_unique_count - active_psc_records_unique_company_count]\\\n",
    "            },index=['Number of companies that have filed at least one PSC','Number of companies that have not filed a PSC'])\n",
    "temp_df.to_csv('data/viz/number_of_companies_to_which_psc_applies.csv')\n",
    "temp_df['proprotion'] = temp_df['count'] / active_companies_psc_applies_unique_count\n",
    "temp_df"
   ]
  },
  {
   "cell_type": "markdown",
   "metadata": {},
   "source": [
    "### What proportion of active companies to which the PSC regime applies have not filed a PSC?"
   ]
  },
  {
   "cell_type": "code",
   "execution_count": 9,
   "metadata": {},
   "outputs": [
    {
     "data": {
      "text/plain": [
       "0.12967300928284795"
      ]
     },
     "execution_count": 9,
     "metadata": {},
     "output_type": "execute_result"
    }
   ],
   "source": [
    "(active_companies_psc_applies_unique_count - active_psc_records_unique_company_count) / active_companies_psc_applies_unique_count"
   ]
  },
  {
   "cell_type": "markdown",
   "metadata": {},
   "source": [
    "### How many active companies have filed a PSC statment of some kind?  "
   ]
  },
  {
   "cell_type": "code",
   "execution_count": 10,
   "metadata": {},
   "outputs": [
    {
     "data": {
      "text/plain": [
       "160118"
      ]
     },
     "execution_count": 10,
     "metadata": {},
     "output_type": "execute_result"
    }
   ],
   "source": [
    "(active_companies_psc_applies_unique_count - active_psc_records_unique_company_count) - active_psc_statements_unique_company_count"
   ]
  },
  {
   "cell_type": "markdown",
   "metadata": {},
   "source": [
    "### How many active companies have disclosed at least one indvidual PSC?"
   ]
  },
  {
   "cell_type": "markdown",
   "metadata": {},
   "source": [
    "- This does not include corporate PSCs, legal person PSCs or super secure PSCs"
   ]
  },
  {
   "cell_type": "code",
   "execution_count": 11,
   "metadata": {},
   "outputs": [
    {
     "data": {
      "text/plain": [
       "3269624"
      ]
     },
     "execution_count": 11,
     "metadata": {},
     "output_type": "execute_result"
    }
   ],
   "source": [
    "companies_disclosing_individual_psc_count = len(active_psc_records[active_psc_records.kind == 'individual-person-with-significant-control'].company_number.unique())\n",
    "companies_disclosing_individual_psc_count"
   ]
  },
  {
   "cell_type": "markdown",
   "metadata": {},
   "source": [
    "### What proprotion of companies to which the PSC regime applies have directly disclosed at least one individual PSC?"
   ]
  },
  {
   "cell_type": "markdown",
   "metadata": {},
   "source": [
    "- This does not include corporate PSCs, legal PSCs or super secure PSCs"
   ]
  },
  {
   "cell_type": "code",
   "execution_count": 12,
   "metadata": {},
   "outputs": [
    {
     "data": {
      "text/plain": [
       "0.7982384976351601"
      ]
     },
     "execution_count": 12,
     "metadata": {},
     "output_type": "execute_result"
    }
   ],
   "source": [
    "companies_disclosing_individual_psc_count / active_companies_psc_applies_unique_count"
   ]
  },
  {
   "cell_type": "markdown",
   "metadata": {},
   "source": [
    "### Since the register started, how many unique companies have filed either a statement **or** at least one PSC?"
   ]
  },
  {
   "cell_type": "markdown",
   "metadata": {},
   "source": [
    "- This includes dissolved companies and PSC filings that are no longer active"
   ]
  },
  {
   "cell_type": "code",
   "execution_count": 13,
   "metadata": {},
   "outputs": [
    {
     "data": {
      "text/plain": [
       "4187505"
      ]
     },
     "execution_count": 13,
     "metadata": {},
     "output_type": "execute_result"
    }
   ],
   "source": [
    "len(all_time_statements_and_records_company_numbers)"
   ]
  },
  {
   "cell_type": "markdown",
   "metadata": {},
   "source": [
    "### Distribution of number of PSCs per company to which the PSC regime applies"
   ]
  },
  {
   "cell_type": "markdown",
   "metadata": {},
   "source": [
    "- These counts per company include corporate and super secure PSCs"
   ]
  },
  {
   "cell_type": "code",
   "execution_count": 14,
   "metadata": {},
   "outputs": [
    {
     "data": {
      "text/plain": [
       "<matplotlib.axes._subplots.AxesSubplot at 0x7fd32837a0f0>"
      ]
     },
     "execution_count": 14,
     "metadata": {},
     "output_type": "execute_result"
    },
    {
     "data": {
      "image/png": "[encoded data removed]",
      "text/plain": [
       "<matplotlib.figure.Figure at 0x7fd10e1b68d0>"
      ]
     },
     "metadata": {},
     "output_type": "display_data"
    }
   ],
   "source": [
    "s1 = active_psc_records.groupby('company_number').size()\n",
    "s1.to_csv('data/viz/distribution_of_psc_count_per_company.csv',index=False)\n",
    "sns.distplot(s1)"
   ]
  },
  {
   "cell_type": "markdown",
   "metadata": {},
   "source": [
    "### How many active companies to which the PSC regime applies have not filed a PSC statement or a PSC of any kind?"
   ]
  },
  {
   "cell_type": "markdown",
   "metadata": {},
   "source": [
    "- This does not imply that all these companies are non-compliant. Some companies, for instance, will have been incorporated within 4 weeks of the 1st of March 2018. The PSC regime requires companies to notify Companies House of their PSCs within 28 days."
   ]
  },
  {
   "cell_type": "code",
   "execution_count": 15,
   "metadata": {},
   "outputs": [
    {
     "data": {
      "text/plain": [
       "160118"
      ]
     },
     "execution_count": 15,
     "metadata": {},
     "output_type": "execute_result"
    }
   ],
   "source": [
    "active_companies_psc_applies_unique_count -  active_psc_records_unique_company_count - active_psc_statements_unique_company_count"
   ]
  },
  {
   "cell_type": "markdown",
   "metadata": {},
   "source": [
    "### What types of control do PSCs exercise over companies?"
   ]
  },
  {
   "cell_type": "markdown",
   "metadata": {},
   "source": [
    "#### Grouped list"
   ]
  },
  {
   "cell_type": "code",
   "execution_count": 16,
   "metadata": {
    "scrolled": true
   },
   "outputs": [
    {
     "data": {
      "text/html": [
       "<div>\n",
       "<style>\n",
       "    .dataframe thead tr:only-child th {\n",
       "        text-align: right;\n",
       "    }\n",
       "\n",
       "    .dataframe thead th {\n",
       "        text-align: left;\n",
       "    }\n",
       "\n",
       "    .dataframe tbody tr th {\n",
       "        vertical-align: top;\n",
       "    }\n",
       "</style>\n",
       "<table border=\"1\" class=\"dataframe\">\n",
       "  <thead>\n",
       "    <tr style=\"text-align: right;\">\n",
       "      <th></th>\n",
       "      <th>proportion</th>\n",
       "      <th>count</th>\n",
       "    </tr>\n",
       "    <tr>\n",
       "      <th>types_of_control</th>\n",
       "      <th></th>\n",
       "      <th></th>\n",
       "    </tr>\n",
       "  </thead>\n",
       "  <tbody>\n",
       "    <tr>\n",
       "      <th>Ownership of shares</th>\n",
       "      <td>0.46</td>\n",
       "      <td>4252086</td>\n",
       "    </tr>\n",
       "    <tr>\n",
       "      <th>Right to appoint and remove directors, partners or other persons</th>\n",
       "      <td>0.16</td>\n",
       "      <td>1499324</td>\n",
       "    </tr>\n",
       "    <tr>\n",
       "      <th>Right to share surplus assets</th>\n",
       "      <td>0.01</td>\n",
       "      <td>48901</td>\n",
       "    </tr>\n",
       "    <tr>\n",
       "      <th>Significant influence or control</th>\n",
       "      <td>0.10</td>\n",
       "      <td>885722</td>\n",
       "    </tr>\n",
       "    <tr>\n",
       "      <th>Voting rights</th>\n",
       "      <td>0.28</td>\n",
       "      <td>2547338</td>\n",
       "    </tr>\n",
       "  </tbody>\n",
       "</table>\n",
       "</div>"
      ],
      "text/plain": [
       "                                                             proportion  \\\n",
       "types_of_control                                                          \n",
       "Ownership of shares                                                0.46   \n",
       "Right to appoint and remove directors, partners...                 0.16   \n",
       "Right to share surplus assets                                      0.01   \n",
       "Significant influence or control                                   0.10   \n",
       "Voting rights                                                      0.28   \n",
       "\n",
       "                                                      count  \n",
       "types_of_control                                             \n",
       "Ownership of shares                                 4252086  \n",
       "Right to appoint and remove directors, partners...  1499324  \n",
       "Right to share surplus assets                         48901  \n",
       "Significant influence or control                     885722  \n",
       "Voting rights                                       2547338  "
      ]
     },
     "execution_count": 16,
     "metadata": {},
     "output_type": "execute_result"
    }
   ],
   "source": [
    "control_type_mapping = {'ownership-of-shares': 'Ownership of shares', 'right-to-appoint-and-remove': \\\n",
    "                        'Right to appoint and remove directors, partners or other persons', 'voting-rights': 'Voting rights', 'significant-influence-or-control':\\\n",
    "                        'Significant influence or control','right-to-share-surplus-assets': 'Right to share surplus assets'}\n",
    "temp_df = proportion_and_count(active_psc_controls,'nature_of_control',len(active_psc_controls)).reset_index()\n",
    "temp_df['grouped'] = temp_df['index'].apply(group_string)\n",
    "temp_df = temp_df.groupby('grouped').sum()\n",
    "temp_df.to_csv('data/viz/types_of_control.csv')\n",
    "temp_df.index.names = ['types_of_control']\n",
    "temp_df"
   ]
  },
  {
   "cell_type": "markdown",
   "metadata": {},
   "source": [
    "#### Top 10 using Companies House more granular categories given in the original data"
   ]
  },
  {
   "cell_type": "code",
   "execution_count": 17,
   "metadata": {},
   "outputs": [
    {
     "data": {
      "text/html": [
       "<div>\n",
       "<style>\n",
       "    .dataframe thead tr:only-child th {\n",
       "        text-align: right;\n",
       "    }\n",
       "\n",
       "    .dataframe thead th {\n",
       "        text-align: left;\n",
       "    }\n",
       "\n",
       "    .dataframe tbody tr th {\n",
       "        vertical-align: top;\n",
       "    }\n",
       "</style>\n",
       "<table border=\"1\" class=\"dataframe\">\n",
       "  <thead>\n",
       "    <tr style=\"text-align: right;\">\n",
       "      <th></th>\n",
       "      <th>proportion</th>\n",
       "      <th>count</th>\n",
       "    </tr>\n",
       "  </thead>\n",
       "  <tbody>\n",
       "    <tr>\n",
       "      <th>ownership-of-shares-75-to-100-percent</th>\n",
       "      <td>0.23</td>\n",
       "      <td>2159983</td>\n",
       "    </tr>\n",
       "    <tr>\n",
       "      <th>ownership-of-shares-25-to-50-percent</th>\n",
       "      <td>0.18</td>\n",
       "      <td>1620717</td>\n",
       "    </tr>\n",
       "    <tr>\n",
       "      <th>right-to-appoint-and-remove-directors</th>\n",
       "      <td>0.14</td>\n",
       "      <td>1291247</td>\n",
       "    </tr>\n",
       "    <tr>\n",
       "      <th>voting-rights-75-to-100-percent</th>\n",
       "      <td>0.13</td>\n",
       "      <td>1212615</td>\n",
       "    </tr>\n",
       "    <tr>\n",
       "      <th>voting-rights-25-to-50-percent</th>\n",
       "      <td>0.10</td>\n",
       "      <td>954685</td>\n",
       "    </tr>\n",
       "    <tr>\n",
       "      <th>significant-influence-or-control</th>\n",
       "      <td>0.07</td>\n",
       "      <td>643035</td>\n",
       "    </tr>\n",
       "    <tr>\n",
       "      <th>ownership-of-shares-50-to-75-percent</th>\n",
       "      <td>0.03</td>\n",
       "      <td>266469</td>\n",
       "    </tr>\n",
       "    <tr>\n",
       "      <th>voting-rights-50-to-75-percent</th>\n",
       "      <td>0.02</td>\n",
       "      <td>143104</td>\n",
       "    </tr>\n",
       "    <tr>\n",
       "      <th>significant-influence-or-control-as-firm</th>\n",
       "      <td>0.02</td>\n",
       "      <td>139255</td>\n",
       "    </tr>\n",
       "    <tr>\n",
       "      <th>right-to-appoint-and-remove-directors-as-firm</th>\n",
       "      <td>0.01</td>\n",
       "      <td>115360</td>\n",
       "    </tr>\n",
       "  </tbody>\n",
       "</table>\n",
       "</div>"
      ],
      "text/plain": [
       "                                                        proportion    count\n",
       "ownership-of-shares-75-to-100-percent                         0.23  2159983\n",
       "ownership-of-shares-25-to-50-percent                          0.18  1620717\n",
       "right-to-appoint-and-remove-directors                         0.14  1291247\n",
       "voting-rights-75-to-100-percent                               0.13  1212615\n",
       "voting-rights-25-to-50-percent                                0.10   954685\n",
       "significant-influence-or-control                              0.07   643035\n",
       "ownership-of-shares-50-to-75-percent                          0.03   266469\n",
       "voting-rights-50-to-75-percent                                0.02   143104\n",
       "significant-influence-or-control-as-firm                      0.02   139255\n",
       "right-to-appoint-and-remove-directors-as-firm                 0.01   115360"
      ]
     },
     "execution_count": 17,
     "metadata": {},
     "output_type": "execute_result"
    }
   ],
   "source": [
    "proportion_and_count(active_psc_controls,'nature_of_control',len(active_psc_controls)).head(10)"
   ]
  },
  {
   "cell_type": "markdown",
   "metadata": {},
   "source": [
    "### How many companies currently declare they are controlled by trusts in some way?"
   ]
  },
  {
   "cell_type": "code",
   "execution_count": 18,
   "metadata": {},
   "outputs": [
    {
     "data": {
      "text/plain": [
       "143939"
      ]
     },
     "execution_count": 18,
     "metadata": {},
     "output_type": "execute_result"
    }
   ],
   "source": [
    "len(active_psc_controls[active_psc_controls.nature_of_control.str.contains('trust')].company_number.unique())"
   ]
  },
  {
   "cell_type": "markdown",
   "metadata": {},
   "source": [
    "### What are the nationalities of PSCs?"
   ]
  },
  {
   "cell_type": "markdown",
   "metadata": {},
   "source": [
    "- Nationalities are often inconsistently spelt and are occassionally overlapping e.g. Cornish and British."
   ]
  },
  {
   "cell_type": "code",
   "execution_count": 19,
   "metadata": {},
   "outputs": [
    {
     "data": {
      "text/html": [
       "<div>\n",
       "<style>\n",
       "    .dataframe thead tr:only-child th {\n",
       "        text-align: right;\n",
       "    }\n",
       "\n",
       "    .dataframe thead th {\n",
       "        text-align: left;\n",
       "    }\n",
       "\n",
       "    .dataframe tbody tr th {\n",
       "        vertical-align: top;\n",
       "    }\n",
       "</style>\n",
       "<table border=\"1\" class=\"dataframe\">\n",
       "  <thead>\n",
       "    <tr style=\"text-align: right;\">\n",
       "      <th></th>\n",
       "      <th>proportion</th>\n",
       "      <th>count</th>\n",
       "    </tr>\n",
       "  </thead>\n",
       "  <tbody>\n",
       "    <tr>\n",
       "      <th>British</th>\n",
       "      <td>0.80</td>\n",
       "      <td>3430078</td>\n",
       "    </tr>\n",
       "    <tr>\n",
       "      <th>English</th>\n",
       "      <td>0.03</td>\n",
       "      <td>109318</td>\n",
       "    </tr>\n",
       "    <tr>\n",
       "      <th>Irish</th>\n",
       "      <td>0.01</td>\n",
       "      <td>58255</td>\n",
       "    </tr>\n",
       "    <tr>\n",
       "      <th>Polish</th>\n",
       "      <td>0.01</td>\n",
       "      <td>46948</td>\n",
       "    </tr>\n",
       "    <tr>\n",
       "      <th>Indian</th>\n",
       "      <td>0.01</td>\n",
       "      <td>43022</td>\n",
       "    </tr>\n",
       "  </tbody>\n",
       "</table>\n",
       "</div>"
      ],
      "text/plain": [
       "                  proportion    count\n",
       "British                 0.80  3430078\n",
       "English                 0.03   109318\n",
       "Irish                   0.01    58255\n",
       "Polish                  0.01    46948\n",
       "Indian                  0.01    43022"
      ]
     },
     "execution_count": 19,
     "metadata": {},
     "output_type": "execute_result"
    }
   ],
   "source": [
    "temp_df = proportion_and_count(active_psc_records,'nationality',len(active_psc_records[active_psc_records.kind == 'individual-person-with-significant-control']))\n",
    "temp_df['count'].head(5).to_csv('data/viz/nationalities.csv',index=False)\n",
    "temp_df.head(5)"
   ]
  },
  {
   "cell_type": "markdown",
   "metadata": {},
   "source": [
    "### What are the different types of PSC in the register?"
   ]
  },
  {
   "cell_type": "markdown",
   "metadata": {},
   "source": [
    "- Denominator of proportion is PSC records (does not include companies that have filed PSC statements e.g. no PSC)\n",
    "- Count is for PSC records not for the number of unique companies"
   ]
  },
  {
   "cell_type": "code",
   "execution_count": 20,
   "metadata": {},
   "outputs": [
    {
     "data": {
      "text/html": [
       "<div>\n",
       "<style>\n",
       "    .dataframe thead tr:only-child th {\n",
       "        text-align: right;\n",
       "    }\n",
       "\n",
       "    .dataframe thead th {\n",
       "        text-align: left;\n",
       "    }\n",
       "\n",
       "    .dataframe tbody tr th {\n",
       "        vertical-align: top;\n",
       "    }\n",
       "</style>\n",
       "<table border=\"1\" class=\"dataframe\">\n",
       "  <thead>\n",
       "    <tr style=\"text-align: right;\">\n",
       "      <th></th>\n",
       "      <th>proportion</th>\n",
       "      <th>count</th>\n",
       "    </tr>\n",
       "  </thead>\n",
       "  <tbody>\n",
       "    <tr>\n",
       "      <th>individual-person-with-significant-control</th>\n",
       "      <td>0.92</td>\n",
       "      <td>4267666</td>\n",
       "    </tr>\n",
       "    <tr>\n",
       "      <th>corporate-entity-person-with-significant-control</th>\n",
       "      <td>0.08</td>\n",
       "      <td>350158</td>\n",
       "    </tr>\n",
       "    <tr>\n",
       "      <th>legal-person-person-with-significant-control</th>\n",
       "      <td>0.00</td>\n",
       "      <td>5571</td>\n",
       "    </tr>\n",
       "    <tr>\n",
       "      <th>super-secure-person-with-significant-control</th>\n",
       "      <td>0.00</td>\n",
       "      <td>199</td>\n",
       "    </tr>\n",
       "  </tbody>\n",
       "</table>\n",
       "</div>"
      ],
      "text/plain": [
       "                                                           proportion    count\n",
       "individual-person-with-significant-control                       0.92  4267666\n",
       "corporate-entity-person-with-significant-control                 0.08   350158\n",
       "legal-person-person-with-significant-control                     0.00     5571\n",
       "super-secure-person-with-significant-control                     0.00      199"
      ]
     },
     "execution_count": 20,
     "metadata": {},
     "output_type": "execute_result"
    }
   ],
   "source": [
    "temp_df = proportion_and_count(active_psc_records,'kind',len(active_psc_records))\n",
    "temp_df.to_csv('data/viz/types_of_psc.csv')\n",
    "temp_df"
   ]
  },
  {
   "cell_type": "markdown",
   "metadata": {},
   "source": [
    "### How many companies have claimed a trading exemption of some kind?"
   ]
  },
  {
   "cell_type": "markdown",
   "metadata": {},
   "source": [
    "- Many of these companies are not eligible for trading exemptions but have been classified as claiming one in any case"
   ]
  },
  {
   "cell_type": "code",
   "execution_count": 21,
   "metadata": {},
   "outputs": [
    {
     "data": {
      "text/plain": [
       "58"
      ]
     },
     "execution_count": 21,
     "metadata": {},
     "output_type": "execute_result"
    }
   ],
   "source": [
    "len(trading_exemption_records.company_number.unique())"
   ]
  },
  {
   "cell_type": "markdown",
   "metadata": {},
   "source": [
    "Types of exemption:"
   ]
  },
  {
   "cell_type": "code",
   "execution_count": 22,
   "metadata": {},
   "outputs": [
    {
     "data": {
      "text/plain": [
       "psc-exempt-as-trading-on-regulated-market    29\n",
       "psc-exempt-as-shares-admitted-on-market      29\n",
       "dtype: int64"
      ]
     },
     "execution_count": 22,
     "metadata": {},
     "output_type": "execute_result"
    }
   ],
   "source": [
    "trading_exemption_records.apply(lambda x: x['exemptions.psc_exempt_as_shares_admitted_on_market.exemption_type'] if not pd.isnull(x['exemptions.psc_exempt_as_shares_admitted_on_market.exemption_type']) else x['exemptions.psc_exempt_as_trading_on_regulated_market.exemption_type'],axis=1 ).value_counts()"
   ]
  },
  {
   "cell_type": "markdown",
   "metadata": {},
   "source": [
    "Examples of companies with a trading exemption:"
   ]
  },
  {
   "cell_type": "code",
   "execution_count": 23,
   "metadata": {},
   "outputs": [
    {
     "data": {
      "text/html": [
       "<div>\n",
       "<style>\n",
       "    .dataframe thead tr:only-child th {\n",
       "        text-align: right;\n",
       "    }\n",
       "\n",
       "    .dataframe thead th {\n",
       "        text-align: left;\n",
       "    }\n",
       "\n",
       "    .dataframe tbody tr th {\n",
       "        vertical-align: top;\n",
       "    }\n",
       "</style>\n",
       "<table border=\"1\" class=\"dataframe\">\n",
       "  <thead>\n",
       "    <tr style=\"text-align: right;\">\n",
       "      <th></th>\n",
       "      <th>CompanyNumber</th>\n",
       "      <th>CompanyName</th>\n",
       "      <th>URI</th>\n",
       "    </tr>\n",
       "  </thead>\n",
       "  <tbody>\n",
       "    <tr>\n",
       "      <th>96279</th>\n",
       "      <td>09128417</td>\n",
       "      <td>AAWIN U.K LTD</td>\n",
       "      <td>http://business.data.gov.uk/id/company/09128417</td>\n",
       "    </tr>\n",
       "    <tr>\n",
       "      <th>114063</th>\n",
       "      <td>07123187</td>\n",
       "      <td>ACACIA MINING PLC</td>\n",
       "      <td>http://business.data.gov.uk/id/company/07123187</td>\n",
       "    </tr>\n",
       "    <tr>\n",
       "      <th>137263</th>\n",
       "      <td>09338148</td>\n",
       "      <td>ADAPTIMMUNE THERAPEUTICS PLC</td>\n",
       "      <td>http://business.data.gov.uk/id/company/09338148</td>\n",
       "    </tr>\n",
       "    <tr>\n",
       "      <th>220447</th>\n",
       "      <td>09788714</td>\n",
       "      <td>ALMUTLAQ LTD</td>\n",
       "      <td>http://business.data.gov.uk/id/company/09788714</td>\n",
       "    </tr>\n",
       "    <tr>\n",
       "      <th>222317</th>\n",
       "      <td>09965297</td>\n",
       "      <td>ALPHA FINANCIAL MARKETS CONSULTING PLC</td>\n",
       "      <td>http://business.data.gov.uk/id/company/09965297</td>\n",
       "    </tr>\n",
       "  </tbody>\n",
       "</table>\n",
       "</div>"
      ],
      "text/plain": [
       "       CompanyNumber                             CompanyName  \\\n",
       "96279       09128417                           AAWIN U.K LTD   \n",
       "114063      07123187                       ACACIA MINING PLC   \n",
       "137263      09338148            ADAPTIMMUNE THERAPEUTICS PLC   \n",
       "220447      09788714                            ALMUTLAQ LTD   \n",
       "222317      09965297  ALPHA FINANCIAL MARKETS CONSULTING PLC   \n",
       "\n",
       "                                                    URI  \n",
       "96279   http://business.data.gov.uk/id/company/09128417  \n",
       "114063  http://business.data.gov.uk/id/company/07123187  \n",
       "137263  http://business.data.gov.uk/id/company/09338148  \n",
       "220447  http://business.data.gov.uk/id/company/09788714  \n",
       "222317  http://business.data.gov.uk/id/company/09965297  "
      ]
     },
     "execution_count": 23,
     "metadata": {},
     "output_type": "execute_result"
    }
   ],
   "source": [
    "examples = active_companies[active_companies.CompanyNumber.isin(trading_exemption_records.company_number)]\n",
    "examples.to_csv('data/for_further_investigation/trading_exemptions.csv')\n",
    "examples[['CompanyNumber','CompanyName','URI']].head(5)"
   ]
  },
  {
   "cell_type": "markdown",
   "metadata": {},
   "source": [
    "### What are the reasons given as to why a company is unable to file a PSC in its statement?"
   ]
  },
  {
   "cell_type": "markdown",
   "metadata": {},
   "source": [
    "- Denominator of proportion is all PSC statements"
   ]
  },
  {
   "cell_type": "code",
   "execution_count": 24,
   "metadata": {},
   "outputs": [
    {
     "data": {
      "text/html": [
       "<div>\n",
       "<style>\n",
       "    .dataframe thead tr:only-child th {\n",
       "        text-align: right;\n",
       "    }\n",
       "\n",
       "    .dataframe thead th {\n",
       "        text-align: left;\n",
       "    }\n",
       "\n",
       "    .dataframe tbody tr th {\n",
       "        vertical-align: top;\n",
       "    }\n",
       "</style>\n",
       "<table border=\"1\" class=\"dataframe\">\n",
       "  <thead>\n",
       "    <tr style=\"text-align: right;\">\n",
       "      <th></th>\n",
       "      <th>proportion</th>\n",
       "      <th>count</th>\n",
       "    </tr>\n",
       "  </thead>\n",
       "  <tbody>\n",
       "    <tr>\n",
       "      <th>no-individual-or-entity-with-signficant-control</th>\n",
       "      <td>0.90</td>\n",
       "      <td>333658</td>\n",
       "    </tr>\n",
       "    <tr>\n",
       "      <th>steps-to-find-psc-not-yet-completed</th>\n",
       "      <td>0.04</td>\n",
       "      <td>14166</td>\n",
       "    </tr>\n",
       "    <tr>\n",
       "      <th>psc-details-not-confirmed</th>\n",
       "      <td>0.02</td>\n",
       "      <td>9009</td>\n",
       "    </tr>\n",
       "    <tr>\n",
       "      <th>psc-exists-but-not-identified</th>\n",
       "      <td>0.02</td>\n",
       "      <td>7326</td>\n",
       "    </tr>\n",
       "    <tr>\n",
       "      <th>steps-to-find-psc-not-yet-completed-partnership</th>\n",
       "      <td>0.01</td>\n",
       "      <td>4921</td>\n",
       "    </tr>\n",
       "    <tr>\n",
       "      <th>no-individual-or-entity-with-signficant-control-partnership</th>\n",
       "      <td>0.00</td>\n",
       "      <td>1361</td>\n",
       "    </tr>\n",
       "    <tr>\n",
       "      <th>psc-details-not-confirmed-partnership</th>\n",
       "      <td>0.00</td>\n",
       "      <td>651</td>\n",
       "    </tr>\n",
       "    <tr>\n",
       "      <th>psc-exists-but-not-identified-partnership</th>\n",
       "      <td>0.00</td>\n",
       "      <td>500</td>\n",
       "    </tr>\n",
       "    <tr>\n",
       "      <th>psc-contacted-but-no-response</th>\n",
       "      <td>0.00</td>\n",
       "      <td>204</td>\n",
       "    </tr>\n",
       "    <tr>\n",
       "      <th>restrictions-notice-issued-to-psc</th>\n",
       "      <td>0.00</td>\n",
       "      <td>13</td>\n",
       "    </tr>\n",
       "    <tr>\n",
       "      <th>psc-has-failed-to-confirm-changed-details</th>\n",
       "      <td>0.00</td>\n",
       "      <td>1</td>\n",
       "    </tr>\n",
       "    <tr>\n",
       "      <th>psc-contacted-but-no-response-partnership</th>\n",
       "      <td>0.00</td>\n",
       "      <td>1</td>\n",
       "    </tr>\n",
       "  </tbody>\n",
       "</table>\n",
       "</div>"
      ],
      "text/plain": [
       "                                                             proportion  \\\n",
       "no-individual-or-entity-with-signficant-control                    0.90   \n",
       "steps-to-find-psc-not-yet-completed                                0.04   \n",
       "psc-details-not-confirmed                                          0.02   \n",
       "psc-exists-but-not-identified                                      0.02   \n",
       "steps-to-find-psc-not-yet-completed-partnership                    0.01   \n",
       "no-individual-or-entity-with-signficant-control...                 0.00   \n",
       "psc-details-not-confirmed-partnership                              0.00   \n",
       "psc-exists-but-not-identified-partnership                          0.00   \n",
       "psc-contacted-but-no-response                                      0.00   \n",
       "restrictions-notice-issued-to-psc                                  0.00   \n",
       "psc-has-failed-to-confirm-changed-details                          0.00   \n",
       "psc-contacted-but-no-response-partnership                          0.00   \n",
       "\n",
       "                                                     count  \n",
       "no-individual-or-entity-with-signficant-control     333658  \n",
       "steps-to-find-psc-not-yet-completed                  14166  \n",
       "psc-details-not-confirmed                             9009  \n",
       "psc-exists-but-not-identified                         7326  \n",
       "steps-to-find-psc-not-yet-completed-partnership       4921  \n",
       "no-individual-or-entity-with-signficant-control...    1361  \n",
       "psc-details-not-confirmed-partnership                  651  \n",
       "psc-exists-but-not-identified-partnership              500  \n",
       "psc-contacted-but-no-response                          204  \n",
       "restrictions-notice-issued-to-psc                       13  \n",
       "psc-has-failed-to-confirm-changed-details                1  \n",
       "psc-contacted-but-no-response-partnership                1  "
      ]
     },
     "execution_count": 24,
     "metadata": {},
     "output_type": "execute_result"
    }
   ],
   "source": [
    "proportion_and_count(active_psc_statements,'statement',len(active_psc_statements))"
   ]
  },
  {
   "cell_type": "markdown",
   "metadata": {},
   "source": [
    "### How many companies are disclosing a statement that they have no PSC?"
   ]
  },
  {
   "cell_type": "markdown",
   "metadata": {},
   "source": [
    "- This includes only companies (and partnerships) that explicilty declare in their statement that they have no PSC ('no-individual-or-entity-with-signficant-control')\t"
   ]
  },
  {
   "cell_type": "code",
   "execution_count": 25,
   "metadata": {},
   "outputs": [
    {
     "data": {
      "text/plain": [
       "335010"
      ]
     },
     "execution_count": 25,
     "metadata": {},
     "output_type": "execute_result"
    }
   ],
   "source": [
    "len(active_psc_statements[active_psc_statements.statement.str.contains('no-individual-or-entity-with-signficant-control')].company_number.unique())"
   ]
  },
  {
   "cell_type": "markdown",
   "metadata": {},
   "source": [
    "### Number of companies that have a no PSC statement or a no PSC statment at the \"top of a chain\""
   ]
  },
  {
   "cell_type": "markdown",
   "metadata": {},
   "source": [
    "- Requires Neo4J graph database connections. See Github repositry on how we built the graph and script for doing so."
   ]
  },
  {
   "cell_type": "code",
   "execution_count": 26,
   "metadata": {},
   "outputs": [
    {
     "name": "stdout",
     "output_type": "stream",
     "text": [
      "381052\n",
      "Additional companies due to network effect: 46042\n"
     ]
    }
   ],
   "source": [
    "no_psc_top_of_chain = pd.DataFrame(graph.run(\"MATCH p=(c1:Company)<-[:CONTROLS*0..]-(c2:Company)-[:STATES]-(s:Statement)\\\n",
    "WHERE s.statement CONTAINS 'no-individual-or-entity-with-signficant-control'\\\n",
    "RETURN DISTINCT (c1.company_number)\").data())\n",
    "print(len(no_psc_top_of_chain))\n",
    "print(\"Additional companies due to network effect: \" + str(len(no_psc_top_of_chain) - len(active_psc_statements[active_psc_statements.statement.str.contains('no-individual-or-entity-with-signficant-control')].company_number.unique())))"
   ]
  },
  {
   "cell_type": "markdown",
   "metadata": {},
   "source": [
    "### How many PSCs are there per company?"
   ]
  },
  {
   "cell_type": "markdown",
   "metadata": {},
   "source": [
    "- For companies that have not filed a PSC we assign a zero"
   ]
  },
  {
   "cell_type": "code",
   "execution_count": 27,
   "metadata": {},
   "outputs": [
    {
     "data": {
      "text/plain": [
       "count           4,096,049.00\n",
       "mean                    1.13\n",
       "std                     0.71\n",
       "min                     0.00\n",
       "25%                     1.00\n",
       "50%                     1.00\n",
       "75%                     1.00\n",
       "max                    63.00\n",
       "Name: count, dtype: float64"
      ]
     },
     "execution_count": 27,
     "metadata": {},
     "output_type": "execute_result"
    }
   ],
   "source": [
    "record_counts = pd.DataFrame(active_psc_records.groupby('company_number')['name'].count()).reset_index()\n",
    "record_counts.columns = ['company_number','count']\n",
    "temp_df = pd.merge(record_counts,active_companies_psc_applies_df,left_on='company_number',right_on='CompanyNumber',how='right')\n",
    "temp_df['count'] = temp_df['count'].fillna(0)\n",
    "temp_df['count'].describe()"
   ]
  },
  {
   "cell_type": "markdown",
   "metadata": {},
   "source": [
    "### What proportion of companies are struggling to find their PSC?"
   ]
  },
  {
   "cell_type": "markdown",
   "metadata": {},
   "source": [
    "- The numerator for proportions is companies per type that have filed *either* a PSC record or a statement. We refer to this in the briefing as \"being on the Register\". The denominator for proportions is active companies of that type. "
   ]
  },
  {
   "cell_type": "code",
   "execution_count": 28,
   "metadata": {},
   "outputs": [
    {
     "name": "stdout",
     "output_type": "stream",
     "text": [
      "Overall average of steps to find PSC statements not completed: 0.005\n"
     ]
    },
    {
     "data": {
      "text/html": [
       "<div>\n",
       "<style>\n",
       "    .dataframe thead tr:only-child th {\n",
       "        text-align: right;\n",
       "    }\n",
       "\n",
       "    .dataframe thead th {\n",
       "        text-align: left;\n",
       "    }\n",
       "\n",
       "    .dataframe tbody tr th {\n",
       "        vertical-align: top;\n",
       "    }\n",
       "</style>\n",
       "<table border=\"1\" class=\"dataframe\">\n",
       "  <thead>\n",
       "    <tr style=\"text-align: right;\">\n",
       "      <th></th>\n",
       "      <th>number_of_companies_steps_to_find_psc_not_completed</th>\n",
       "      <th>totals</th>\n",
       "      <th>proportion_of_comapanies_steps_to_find_psc_not_completed</th>\n",
       "    </tr>\n",
       "    <tr>\n",
       "      <th>company_type</th>\n",
       "      <th></th>\n",
       "      <th></th>\n",
       "      <th></th>\n",
       "    </tr>\n",
       "  </thead>\n",
       "  <tbody>\n",
       "    <tr>\n",
       "      <th>Limited Partnership for Scotland</th>\n",
       "      <td>4,743.00</td>\n",
       "      <td>13454</td>\n",
       "      <td>0.35</td>\n",
       "    </tr>\n",
       "    <tr>\n",
       "      <th>Limited Liability Partnership for England &amp; Wales</th>\n",
       "      <td>591.00</td>\n",
       "      <td>48516</td>\n",
       "      <td>0.01</td>\n",
       "    </tr>\n",
       "    <tr>\n",
       "      <th>Limited Liability Partnership for Scotland</th>\n",
       "      <td>24.00</td>\n",
       "      <td>2969</td>\n",
       "      <td>0.01</td>\n",
       "    </tr>\n",
       "    <tr>\n",
       "      <th>England &amp; Wales Company</th>\n",
       "      <td>13,003.00</td>\n",
       "      <td>3599972</td>\n",
       "      <td>0.00</td>\n",
       "    </tr>\n",
       "    <tr>\n",
       "      <th>Scottish Company</th>\n",
       "      <td>400.00</td>\n",
       "      <td>199872</td>\n",
       "      <td>0.00</td>\n",
       "    </tr>\n",
       "  </tbody>\n",
       "</table>\n",
       "</div>"
      ],
      "text/plain": [
       "                                                   number_of_companies_steps_to_find_psc_not_completed  \\\n",
       "company_type                                                                                             \n",
       "Limited Partnership for Scotland                                                            4,743.00     \n",
       "Limited Liability Partnership for England & Wales                                             591.00     \n",
       "Limited Liability Partnership for Scotland                                                     24.00     \n",
       "England & Wales Company                                                                    13,003.00     \n",
       "Scottish Company                                                                              400.00     \n",
       "\n",
       "                                                    totals  \\\n",
       "company_type                                                 \n",
       "Limited Partnership for Scotland                     13454   \n",
       "Limited Liability Partnership for England & Wales    48516   \n",
       "Limited Liability Partnership for Scotland            2969   \n",
       "England & Wales Company                            3599972   \n",
       "Scottish Company                                    199872   \n",
       "\n",
       "                                                   proportion_of_comapanies_steps_to_find_psc_not_completed  \n",
       "company_type                                                                                                 \n",
       "Limited Partnership for Scotland                                                                0.35         \n",
       "Limited Liability Partnership for England & Wales                                               0.01         \n",
       "Limited Liability Partnership for Scotland                                                      0.01         \n",
       "England & Wales Company                                                                         0.00         \n",
       "Scottish Company                                                                                0.00         "
      ]
     },
     "execution_count": 28,
     "metadata": {},
     "output_type": "execute_result"
    }
   ],
   "source": [
    "##Variation across company typesdes)\n",
    "active_psc_statements['steps_to_find_psc_not_completed'] = active_psc_statements.statement.str.contains('steps-to-find-psc-not-yet-completed')\n",
    "company_type_totals_combined = pd.DataFrame(active_combined_statements_records.groupby('company_type').agg(lambda x: len(x.unique()))['company_number'])\n",
    "company_type_totals_combined.columns = ['totals']\n",
    "temp_df = active_psc_statements.pivot_table(index='company_type',columns='steps_to_find_psc_not_completed',values='company_number',aggfunc=lambda x: len(x.unique()))\n",
    "temp_df = pd.merge(temp_df,company_type_totals_combined,left_index=True,right_index=True)\n",
    "temp_df['proportion'] = temp_df[True] / temp_df['totals']\n",
    "temp_df = temp_df[[True,'totals','proportion']].fillna(0)\n",
    "temp_df.columns = ['number_of_companies_steps_to_find_psc_not_completed','totals','proportion_of_comapanies_steps_to_find_psc_not_completed']\n",
    "print(\"Overall average of steps to find PSC statements not completed: \" + str(round(len(active_psc_statements[active_psc_statements.statement.str.contains('steps-to-find-psc-not-yet-completed')].company_number.unique()) / active_companies_psc_applies_unique_count,3)))\n",
    "temp_df = temp_df[temp_df['number_of_companies_steps_to_find_psc_not_completed'] > 10].sort_values(by='proportion_of_comapanies_steps_to_find_psc_not_completed',ascending=False)\n",
    "temp_df.to_csv('data/viz/steps_to_find_psc.csv')\n",
    "temp_df"
   ]
  },
  {
   "cell_type": "markdown",
   "metadata": {},
   "source": [
    "## Issues with data quality in the PSC register"
   ]
  },
  {
   "cell_type": "markdown",
   "metadata": {},
   "source": [
    "### Is it possible to report that you have no PSC while also reporting a PSC that is currently active?"
   ]
  },
  {
   "cell_type": "code",
   "execution_count": 29,
   "metadata": {},
   "outputs": [
    {
     "name": "stdout",
     "output_type": "stream",
     "text": [
      "It's possible!\n"
     ]
    }
   ],
   "source": [
    "if len(active_psc_records[(active_psc_records.company_number.isin(active_psc_statements[active_psc_statements.statement.str.contains('no-individual-or-entity-with-signficant-control')]\\\n",
    "                                            .company_number))]) > 0:\n",
    "    print('It\\'s possible!')\n",
    "else:\n",
    "    print('Not possible!')"
   ]
  },
  {
   "cell_type": "code",
   "execution_count": 30,
   "metadata": {},
   "outputs": [
    {
     "name": "stdout",
     "output_type": "stream",
     "text": [
      "Some examples:\n"
     ]
    },
    {
     "data": {
      "text/html": [
       "<div>\n",
       "<style>\n",
       "    .dataframe thead tr:only-child th {\n",
       "        text-align: right;\n",
       "    }\n",
       "\n",
       "    .dataframe thead th {\n",
       "        text-align: left;\n",
       "    }\n",
       "\n",
       "    .dataframe tbody tr th {\n",
       "        vertical-align: top;\n",
       "    }\n",
       "</style>\n",
       "<table border=\"1\" class=\"dataframe\">\n",
       "  <thead>\n",
       "    <tr style=\"text-align: right;\">\n",
       "      <th></th>\n",
       "      <th>CompanyNumber</th>\n",
       "      <th>CompanyName</th>\n",
       "      <th>URI</th>\n",
       "    </tr>\n",
       "  </thead>\n",
       "  <tbody>\n",
       "    <tr>\n",
       "      <th>69</th>\n",
       "      <td>10492362</td>\n",
       "      <td>\"DGS UK\" LTD</td>\n",
       "      <td>http://business.data.gov.uk/id/company/10492362</td>\n",
       "    </tr>\n",
       "    <tr>\n",
       "      <th>168</th>\n",
       "      <td>10288253</td>\n",
       "      <td>\"SCORPION (UK) LMIMITED\" LIMITED</td>\n",
       "      <td>http://business.data.gov.uk/id/company/10288253</td>\n",
       "    </tr>\n",
       "    <tr>\n",
       "      <th>875</th>\n",
       "      <td>10363806</td>\n",
       "      <td>007 TRANSPORT LIMITED</td>\n",
       "      <td>http://business.data.gov.uk/id/company/10363806</td>\n",
       "    </tr>\n",
       "    <tr>\n",
       "      <th>2732</th>\n",
       "      <td>04040715</td>\n",
       "      <td>1 SYDENHAM ROAD COTHAM MANAGEMENT COMPANY LIMITED</td>\n",
       "      <td>http://business.data.gov.uk/id/company/04040715</td>\n",
       "    </tr>\n",
       "    <tr>\n",
       "      <th>3052</th>\n",
       "      <td>10600091</td>\n",
       "      <td>1-2-KICK LTD</td>\n",
       "      <td>http://business.data.gov.uk/id/company/10600091</td>\n",
       "    </tr>\n",
       "  </tbody>\n",
       "</table>\n",
       "</div>"
      ],
      "text/plain": [
       "     CompanyNumber                                        CompanyName  \\\n",
       "69        10492362                                       \"DGS UK\" LTD   \n",
       "168       10288253                   \"SCORPION (UK) LMIMITED\" LIMITED   \n",
       "875       10363806                              007 TRANSPORT LIMITED   \n",
       "2732      04040715  1 SYDENHAM ROAD COTHAM MANAGEMENT COMPANY LIMITED   \n",
       "3052      10600091                                       1-2-KICK LTD   \n",
       "\n",
       "                                                  URI  \n",
       "69    http://business.data.gov.uk/id/company/10492362  \n",
       "168   http://business.data.gov.uk/id/company/10288253  \n",
       "875   http://business.data.gov.uk/id/company/10363806  \n",
       "2732  http://business.data.gov.uk/id/company/04040715  \n",
       "3052  http://business.data.gov.uk/id/company/10600091  "
      ]
     },
     "execution_count": 30,
     "metadata": {},
     "output_type": "execute_result"
    }
   ],
   "source": [
    "##Some examples of these companies\n",
    "no_psc_and_psc = active_psc_records[(active_psc_records.company_number.isin(active_psc_statements[active_psc_statements.statement == 'no-individual-or-entity-with-signficant-control']\\\n",
    "                                            .company_number))]['company_number']\n",
    "print(\"Some examples:\")\n",
    "active_companies[active_companies.CompanyNumber.isin(no_psc_and_psc)].to_csv('data/for_further_investigation/no_psc_and_psc.csv')\n",
    "active_companies[active_companies.CompanyNumber.isin(no_psc_and_psc)][['CompanyNumber','CompanyName','URI']].head(5)"
   ]
  },
  {
   "cell_type": "markdown",
   "metadata": {},
   "source": [
    "### Implausible dates of birth"
   ]
  },
  {
   "cell_type": "code",
   "execution_count": 31,
   "metadata": {},
   "outputs": [
    {
     "data": {
      "text/plain": [
       "<matplotlib.axes._subplots.AxesSubplot at 0x7fcfc20f3208>"
      ]
     },
     "execution_count": 31,
     "metadata": {},
     "output_type": "execute_result"
    },
    {
     "data": {
      "image/png": "[encoded data removed]",
      "text/plain": [
       "<matplotlib.figure.Figure at 0x7fcfc20f38d0>"
      ]
     },
     "metadata": {},
     "output_type": "display_data"
    }
   ],
   "source": [
    "##Plot histrogram of dates of birth\n",
    "active_psc_records.month_year_birth.hist(figsize=(20,5),bins=50)"
   ]
  },
  {
   "cell_type": "code",
   "execution_count": 95,
   "metadata": {},
   "outputs": [
    {
     "name": "stdout",
     "output_type": "stream",
     "text": [
      "   age  count\n",
      "2  -48      1\n",
      "1    0    655\n",
      "0    1   3096\n",
      "Total: 3752\n"
     ]
    }
   ],
   "source": [
    "two_years_ago = datetime.strptime('2018-03-01','%Y-%m-%d') - relativedelta(years=2)\n",
    "##PSCs under the age of 10\n",
    "very_young_pscs = active_psc_records[active_psc_records.month_year_birth > two_years_ago]\n",
    "##Breakdown by age\n",
    "temp_df = very_young_pscs.month_year_birth.apply(lambda x: relativedelta(datetime.strptime('2018-03-01','%Y-%m-%d'), x).years).value_counts()\n",
    "temp_df = pd.DataFrame(temp_df).reset_index()\n",
    "temp_df.columns = ['age','count']\n",
    "s1 = temp_df.sort_values(by='age')\n",
    "print(s1)\n",
    "print('Total: ' + str(s1.sum()['count']))"
   ]
  },
  {
   "cell_type": "code",
   "execution_count": 33,
   "metadata": {},
   "outputs": [
    {
     "name": "stdout",
     "output_type": "stream",
     "text": [
      "   age  count\n",
      "2  139      1\n",
      "1  142      1\n",
      "3  153      1\n",
      "4  160      1\n",
      "7  224      1\n",
      "5  227      1\n",
      "0  319      3\n",
      "6  321      1\n",
      "Total: 10\n"
     ]
    }
   ],
   "source": [
    "hundredandtwentyfive_years_ago = datetime.strptime('2018-03-01','%Y-%m-%d') - relativedelta(years=125)\n",
    "##PSCs over the age of 125\n",
    "very_old_pscs = active_psc_records[active_psc_records.month_year_birth < hundredandtwentyfive_years_ago]\n",
    "##Breakdown by age\n",
    "temp_df = very_old_pscs.month_year_birth.apply(lambda x: relativedelta(datetime.strptime('2018-03-01','%Y-%m-%d'), x).years).value_counts()\n",
    "temp_df = pd.DataFrame(temp_df).reset_index()\n",
    "temp_df.columns = ['age','count']\n",
    "s1 = temp_df.sort_values(by='age')\n",
    "print(s1)\n",
    "print('Total: '  + str(s1['count'].sum()))"
   ]
  },
  {
   "cell_type": "code",
   "execution_count": 34,
   "metadata": {},
   "outputs": [
    {
     "name": "stdout",
     "output_type": "stream",
     "text": [
      "Some examples of companies with very old PSCs:\n"
     ]
    },
    {
     "data": {
      "text/html": [
       "<div>\n",
       "<style>\n",
       "    .dataframe thead tr:only-child th {\n",
       "        text-align: right;\n",
       "    }\n",
       "\n",
       "    .dataframe thead th {\n",
       "        text-align: left;\n",
       "    }\n",
       "\n",
       "    .dataframe tbody tr th {\n",
       "        vertical-align: top;\n",
       "    }\n",
       "</style>\n",
       "<table border=\"1\" class=\"dataframe\">\n",
       "  <thead>\n",
       "    <tr style=\"text-align: right;\">\n",
       "      <th></th>\n",
       "      <th>CompanyNumber</th>\n",
       "      <th>CompanyName</th>\n",
       "      <th>URI</th>\n",
       "    </tr>\n",
       "  </thead>\n",
       "  <tbody>\n",
       "    <tr>\n",
       "      <th>15457</th>\n",
       "      <td>11175651</td>\n",
       "      <td>1969 LTD</td>\n",
       "      <td>http://business.data.gov.uk/id/company/11175651</td>\n",
       "    </tr>\n",
       "    <tr>\n",
       "      <th>260797</th>\n",
       "      <td>11159652</td>\n",
       "      <td>ANDYH CONSULTING LTD</td>\n",
       "      <td>http://business.data.gov.uk/id/company/11159652</td>\n",
       "    </tr>\n",
       "    <tr>\n",
       "      <th>313876</th>\n",
       "      <td>11023217</td>\n",
       "      <td>ARR BUILDING SERVICES LTD</td>\n",
       "      <td>http://business.data.gov.uk/id/company/11023217</td>\n",
       "    </tr>\n",
       "    <tr>\n",
       "      <th>1900245</th>\n",
       "      <td>11083546</td>\n",
       "      <td>J &amp; S CRYPTO SERVICE LTD.</td>\n",
       "      <td>http://business.data.gov.uk/id/company/11083546</td>\n",
       "    </tr>\n",
       "    <tr>\n",
       "      <th>2024361</th>\n",
       "      <td>10914802</td>\n",
       "      <td>K &amp; T CHAPMAN DRIVING SERVICES LTD</td>\n",
       "      <td>http://business.data.gov.uk/id/company/10914802</td>\n",
       "    </tr>\n",
       "  </tbody>\n",
       "</table>\n",
       "</div>"
      ],
      "text/plain": [
       "        CompanyNumber                         CompanyName  \\\n",
       "15457        11175651                            1969 LTD   \n",
       "260797       11159652                ANDYH CONSULTING LTD   \n",
       "313876       11023217           ARR BUILDING SERVICES LTD   \n",
       "1900245      11083546           J & S CRYPTO SERVICE LTD.   \n",
       "2024361      10914802  K & T CHAPMAN DRIVING SERVICES LTD   \n",
       "\n",
       "                                                     URI  \n",
       "15457    http://business.data.gov.uk/id/company/11175651  \n",
       "260797   http://business.data.gov.uk/id/company/11159652  \n",
       "313876   http://business.data.gov.uk/id/company/11023217  \n",
       "1900245  http://business.data.gov.uk/id/company/11083546  \n",
       "2024361  http://business.data.gov.uk/id/company/10914802  "
      ]
     },
     "execution_count": 34,
     "metadata": {},
     "output_type": "execute_result"
    }
   ],
   "source": [
    "print('Some examples of companies with very old PSCs:')\n",
    "active_companies[active_companies.CompanyNumber.isin(very_old_pscs.company_number.unique())][['CompanyNumber','CompanyName','URI']].head(5)"
   ]
  },
  {
   "cell_type": "markdown",
   "metadata": {},
   "source": [
    "#### The addresses which have the most companies with very young PSCs registered there"
   ]
  },
  {
   "cell_type": "code",
   "execution_count": 35,
   "metadata": {},
   "outputs": [
    {
     "data": {
      "text/plain": [
       "first_and_postcode\n",
       "CARY CHAMBERS-TQ2 5EL                 45\n",
       "CHURCHILL HOUSE-EC1V 9BW              32\n",
       "71-75 SHELTON STREET-WC2H 9JQ         16\n",
       "27 OLD GLOUCESTER STREET-WC1N 3AX     10\n",
       "KEMP HOUSE-EC1V 2NX                   10\n",
       "101 WANSTEAD PARK ROAD-IG1 3TH        10\n",
       "20-22 WENLOCK ROAD-N1 7GU              8\n",
       "FIRST FLOOR, TELECOM HOUSE-BN1 6AF     8\n",
       "42 WRIGHT LANE-IP5 2FA                 8\n",
       "2/4 ASH LANE-BN16 3BZ                  7\n",
       "Name: CompanyNumber, dtype: int64"
      ]
     },
     "execution_count": 35,
     "metadata": {},
     "output_type": "execute_result"
    }
   ],
   "source": [
    "young_co_numbers = very_young_pscs.company_number\n",
    "temp_df = active_companies[active_companies.CompanyNumber.isin(young_co_numbers)].groupby(['first_and_postcode'])['CompanyNumber']\\\n",
    "        .agg(lambda x: len(x.unique())).sort_values(ascending=False).head(10)\n",
    "temp_df"
   ]
  },
  {
   "cell_type": "markdown",
   "metadata": {},
   "source": [
    "## Indicators of the extent possible non-compliance to the PSC regime"
   ]
  },
  {
   "cell_type": "markdown",
   "metadata": {},
   "source": [
    "### Potential nominee PSCs"
   ]
  },
  {
   "cell_type": "markdown",
   "metadata": {},
   "source": [
    "#### Which PSCs currently control the most number of companies?"
   ]
  },
  {
   "cell_type": "code",
   "execution_count": 44,
   "metadata": {},
   "outputs": [
    {
     "data": {
      "text/html": [
       "<div>\n",
       "<style>\n",
       "    .dataframe thead tr:only-child th {\n",
       "        text-align: right;\n",
       "    }\n",
       "\n",
       "    .dataframe thead th {\n",
       "        text-align: left;\n",
       "    }\n",
       "\n",
       "    .dataframe tbody tr th {\n",
       "        vertical-align: top;\n",
       "    }\n",
       "</style>\n",
       "<table border=\"1\" class=\"dataframe\">\n",
       "  <thead>\n",
       "    <tr style=\"text-align: right;\">\n",
       "      <th></th>\n",
       "      <th></th>\n",
       "      <th></th>\n",
       "      <th></th>\n",
       "      <th>company_number</th>\n",
       "    </tr>\n",
       "    <tr>\n",
       "      <th>name_elements.forename</th>\n",
       "      <th>name_elements.surname</th>\n",
       "      <th>month_year_birth</th>\n",
       "      <th>address.postal_code</th>\n",
       "      <th></th>\n",
       "    </tr>\n",
       "  </thead>\n",
       "  <tbody>\n",
       "    <tr>\n",
       "      <th>Michael</th>\n",
       "      <th>Gleissner</th>\n",
       "      <th>1969-04-01</th>\n",
       "      <th>CT20 2RD</th>\n",
       "      <td>1193</td>\n",
       "    </tr>\n",
       "    <tr>\n",
       "      <th>Peter</th>\n",
       "      <th>Valaitis</th>\n",
       "      <th>1950-11-01</th>\n",
       "      <th>BS9 3BY</th>\n",
       "      <td>997</td>\n",
       "    </tr>\n",
       "    <tr>\n",
       "      <th>Waris</th>\n",
       "      <th>Khan</th>\n",
       "      <th>1979-02-01</th>\n",
       "      <th>W1G 9QR</th>\n",
       "      <td>639</td>\n",
       "    </tr>\n",
       "    <tr>\n",
       "      <th>Michael</th>\n",
       "      <th>Sandles</th>\n",
       "      <th>1961-10-01</th>\n",
       "      <th>NN8 1BZ</th>\n",
       "      <td>483</td>\n",
       "    </tr>\n",
       "    <tr>\n",
       "      <th>Jonathan</th>\n",
       "      <th>Hughes</th>\n",
       "      <th>1952-04-01</th>\n",
       "      <th>BA12 9BR</th>\n",
       "      <td>469</td>\n",
       "    </tr>\n",
       "    <tr>\n",
       "      <th>Terence</th>\n",
       "      <th>Dunne</th>\n",
       "      <th>1945-01-01</th>\n",
       "      <th>LS7 4RA</th>\n",
       "      <td>413</td>\n",
       "    </tr>\n",
       "    <tr>\n",
       "      <th>Mary</th>\n",
       "      <th>Perkins</th>\n",
       "      <th>1944-02-01</th>\n",
       "      <th>GY6 8YP</th>\n",
       "      <td>389</td>\n",
       "    </tr>\n",
       "    <tr>\n",
       "      <th>Douglas</th>\n",
       "      <th>Perkins</th>\n",
       "      <th>1943-04-01</th>\n",
       "      <th>GY6 8YP</th>\n",
       "      <td>387</td>\n",
       "    </tr>\n",
       "    <tr>\n",
       "      <th>Darren</th>\n",
       "      <th>Symes</th>\n",
       "      <th>1958-10-01</th>\n",
       "      <th>N11 3NE</th>\n",
       "      <td>386</td>\n",
       "    </tr>\n",
       "    <tr>\n",
       "      <th>Terence</th>\n",
       "      <th>Dunne</th>\n",
       "      <th>1945-01-01</th>\n",
       "      <th>LS14 1AB</th>\n",
       "      <td>334</td>\n",
       "    </tr>\n",
       "  </tbody>\n",
       "</table>\n",
       "</div>"
      ],
      "text/plain": [
       "                                                                                   company_number\n",
       "name_elements.forename name_elements.surname month_year_birth address.postal_code                \n",
       "Michael                Gleissner             1969-04-01       CT20 2RD                       1193\n",
       "Peter                  Valaitis              1950-11-01       BS9 3BY                         997\n",
       "Waris                  Khan                  1979-02-01       W1G 9QR                         639\n",
       "Michael                Sandles               1961-10-01       NN8 1BZ                         483\n",
       "Jonathan               Hughes                1952-04-01       BA12 9BR                        469\n",
       "Terence                Dunne                 1945-01-01       LS7 4RA                         413\n",
       "Mary                   Perkins               1944-02-01       GY6 8YP                         389\n",
       "Douglas                Perkins               1943-04-01       GY6 8YP                         387\n",
       "Darren                 Symes                 1958-10-01       N11 3NE                         386\n",
       "Terence                Dunne                 1945-01-01       LS14 1AB                        334"
      ]
     },
     "execution_count": 44,
     "metadata": {},
     "output_type": "execute_result"
    }
   ],
   "source": [
    "temp_df = active_psc_records.groupby(['name_elements.forename','name_elements.surname','month_year_birth','address.postal_code'])[['company_number']]\\\n",
    "    .agg(unique_company_count).sort_values(by='company_number',ascending=False)\n",
    "temp_df_for_viz = temp_df.copy()\n",
    "temp_df_for_viz = temp_df_for_viz.reset_index()\n",
    "temp_df_for_viz['Name'] = temp_df_for_viz['name_elements.forename'] + ' ' + temp_df_for_viz['name_elements.surname']\n",
    "temp_df_for_viz[['Name','company_number']].head(10).to_csv('data/viz/top_10_pscs.csv',index=False)\n",
    "temp_df.head(10)"
   ]
  },
  {
   "cell_type": "markdown",
   "metadata": {},
   "source": [
    "#### How many PSCs control over 100 companies?"
   ]
  },
  {
   "cell_type": "code",
   "execution_count": 45,
   "metadata": {},
   "outputs": [
    {
     "data": {
      "text/plain": [
       "31"
      ]
     },
     "execution_count": 45,
     "metadata": {},
     "output_type": "execute_result"
    }
   ],
   "source": [
    "temp_df = temp_df[temp_df.company_number > 100]\n",
    "temp_df.dropna(inplace=True)\n",
    "len(temp_df)"
   ]
  },
  {
   "cell_type": "code",
   "execution_count": 47,
   "metadata": {},
   "outputs": [
    {
     "name": "stdout",
     "output_type": "stream",
     "text": [
      "('Michael', 'Gleissner', Timestamp('1969-04-01 00:00:00'), 'CT20 2RD')\n",
      "('Peter', 'Valaitis', Timestamp('1950-11-01 00:00:00'), 'BS9 3BY')\n",
      "('Waris', 'Khan', Timestamp('1979-02-01 00:00:00'), 'W1G 9QR')\n",
      "('Michael', 'Sandles', Timestamp('1961-10-01 00:00:00'), 'NN8 1BZ')\n",
      "('Jonathan', 'Hughes', Timestamp('1952-04-01 00:00:00'), 'BA12 9BR')\n",
      "('Terence', 'Dunne', Timestamp('1945-01-01 00:00:00'), 'LS7 4RA')\n",
      "('Mary', 'Perkins', Timestamp('1944-02-01 00:00:00'), 'GY6 8YP')\n",
      "('Douglas', 'Perkins', Timestamp('1943-04-01 00:00:00'), 'GY6 8YP')\n",
      "('Darren', 'Symes', Timestamp('1958-10-01 00:00:00'), 'N11 3NE')\n",
      "('Terence', 'Dunne', Timestamp('1945-01-01 00:00:00'), 'LS14 1AB')\n",
      "('Bryan', 'Thornton', Timestamp('1955-07-01 00:00:00'), 'DN6 8DA')\n",
      "('Carole', 'Dean', Timestamp('1963-03-01 00:00:00'), 'EC1A 9EJ')\n",
      "('Steven', 'Mahony', Timestamp('1968-01-01 00:00:00'), 'WV13 2HA')\n",
      "('Terry', 'Dunne', Timestamp('1945-01-01 00:00:00'), 'LS7 4RA')\n",
      "('Ronald', 'Richards', Timestamp('1945-01-01 00:00:00'), 'B25 8TS')\n",
      "('Brendan', 'Walton', Timestamp('1951-01-01 00:00:00'), 'IM8 1DL')\n",
      "('David', 'Dean', Timestamp('1962-06-01 00:00:00'), 'EC1A 9EJ')\n",
      "('Alexander', 'Costello', Timestamp('1981-11-01 00:00:00'), 'CV7 8JL')\n",
      "('Nicholas', 'Stevenson', Timestamp('1957-12-01 00:00:00'), 'IM8 1DL')\n",
      "('Andrew', 'Leighton', Timestamp('1949-10-01 00:00:00'), 'W1K 4QW')\n",
      "('Sebastian', 'Clark', Timestamp('1974-02-01 00:00:00'), 'CB11 3DG')\n",
      "('Virginia', 'Clark', Timestamp('1947-01-01 00:00:00'), 'CB11 3DG')\n",
      "('Sonia', 'Millar', Timestamp('1962-03-01 00:00:00'), 'BT9 6AF')\n",
      "('Martin', 'Shortland', Timestamp('1948-03-01 00:00:00'), 'TN4 8BG')\n",
      "('Jochen', 'Huels', Timestamp('1967-06-01 00:00:00'), '80799')\n",
      "('Scott', 'Thorpe', Timestamp('1985-07-01 00:00:00'), 'S60 2LN')\n",
      "('Graham', 'Cowan', Timestamp('1943-06-01 00:00:00'), 'WD6 3EW')\n",
      "('Jodie', 'Hide', Timestamp('1984-10-01 00:00:00'), 'AL4 9SY')\n",
      "('Ceri', 'John', Timestamp('1955-07-01 00:00:00'), 'CF31 1LR')\n",
      "('Steven', 'Longman', Timestamp('1969-04-01 00:00:00'), 'DA10 0AD')\n",
      "('Michael', 'Howell', Timestamp('1964-07-01 00:00:00'), 'TN4 8BG')\n"
     ]
    }
   ],
   "source": [
    "##Export companies controlled by PSCs that control over 100 companies into an Excel spreadsheet \n",
    "g = active_psc_records.groupby(['name_elements.forename','name_elements.surname','month_year_birth','address.postal_code'])\n",
    "writer = pd.ExcelWriter('data/for_further_investigation/popular_pscs.xlsx')\n",
    "for index, row in temp_df.iterrows():\n",
    "    temp_df_2 = g.get_group(index).drop('CompanyNumber',axis=1)\n",
    "    name = list(index)[:2]\n",
    "    name = '_'.join(name)\n",
    "    temp_df_3 = pd.merge(active_companies[['CompanyNumber','CompanyName','IncorporationDate']],temp_df_2,left_on='CompanyNumber',right_on='company_number')\n",
    "    temp_df_3 = temp_df_3.drop('CompanyNumber',axis=1)\n",
    "    temp_df_3['IncorporationDate'] = pd.to_datetime(temp_df_3['IncorporationDate'],format='%d/%m/%Y',errors='coerce') \n",
    "    temp_df_3.to_excel(writer,name,index=False)\n",
    "    print(index)\n",
    "writer.save()"
   ]
  },
  {
   "cell_type": "markdown",
   "metadata": {},
   "source": [
    "### How many companies are controlled by PSCs that control over 100 companies?"
   ]
  },
  {
   "cell_type": "code",
   "execution_count": 48,
   "metadata": {},
   "outputs": [
    {
     "data": {
      "text/plain": [
       "9199"
      ]
     },
     "execution_count": 48,
     "metadata": {},
     "output_type": "execute_result"
    }
   ],
   "source": [
    "len(controlled_by_popular_person(active_psc_records,100).company_number.unique())"
   ]
  },
  {
   "cell_type": "markdown",
   "metadata": {},
   "source": [
    "### How many companies are directed by individuals that direct over 100 companies?"
   ]
  },
  {
   "cell_type": "markdown",
   "metadata": {},
   "source": [
    "- Officers data was sourced from [OpenCorporates](https://opencorporates.com)"
   ]
  },
  {
   "cell_type": "code",
   "execution_count": 49,
   "metadata": {},
   "outputs": [
    {
     "name": "stderr",
     "output_type": "stream",
     "text": [
      "/usr/local/lib/python3.5/dist-packages/IPython/core/interactiveshell.py:2728: DtypeWarning: Columns (1,4,5,13,15,16,23,26,27,29) have mixed types. Specify dtype option on import or set low_memory=False.\n",
      "  interactivity=interactivity, compiler=compiler, result=result)\n"
     ]
    }
   ],
   "source": [
    "##Load in officers data\n",
    "officers = pd.read_csv('data/outputs/active_officers.csv')\n",
    "officers.company_number = officers.company_number.astype(str)"
   ]
  },
  {
   "cell_type": "code",
   "execution_count": 50,
   "metadata": {},
   "outputs": [
    {
     "data": {
      "text/plain": [
       "141778"
      ]
     },
     "execution_count": 50,
     "metadata": {},
     "output_type": "execute_result"
    }
   ],
   "source": [
    "len(directed_by_popular_person(officers,100).company_number.unique())"
   ]
  },
  {
   "cell_type": "markdown",
   "metadata": {},
   "source": [
    "### Number of directors that direct over 100 companies"
   ]
  },
  {
   "cell_type": "code",
   "execution_count": 51,
   "metadata": {},
   "outputs": [
    {
     "data": {
      "text/plain": [
       "802"
      ]
     },
     "execution_count": 51,
     "metadata": {},
     "output_type": "execute_result"
    }
   ],
   "source": [
    "temp_df = officers[(officers.type == 'Person') & (officers.position == 'director')].groupby(['first_name','last_name','partial_date_of_birth','address.postal_code'])[['company_number']].agg(unique_company_count).sort_values(by='company_number',ascending=False)\n",
    "temp_df = temp_df[temp_df.company_number > 100]\n",
    "temp_df = temp_df.reset_index()\n",
    "temp_df.dropna(inplace=True)\n",
    "len(temp_df)"
   ]
  },
  {
   "cell_type": "markdown",
   "metadata": {},
   "source": [
    "### Corporate PSCs that are likely not to be Relevant Legal Entities"
   ]
  },
  {
   "cell_type": "markdown",
   "metadata": {},
   "source": [
    "#### Number of companies controlled by companies that are registered or located in countries without recognised stock exchanges (i.e. not in in the European Economic Area, Japan, Israel, Switzerland, USA)"
   ]
  },
  {
   "cell_type": "code",
   "execution_count": 52,
   "metadata": {},
   "outputs": [
    {
     "data": {
      "text/plain": [
       "10150"
      ]
     },
     "execution_count": 52,
     "metadata": {},
     "output_type": "execute_result"
    }
   ],
   "source": [
    "non_rle_pscs = active_psc_records[active_psc_records.non_rle_country == True]\n",
    "len(non_rle_pscs.company_number.unique())"
   ]
  },
  {
   "cell_type": "markdown",
   "metadata": {},
   "source": [
    "#### Number and proportion of likely non-RLE PSCs that are located or registered in secrecy jurisdictions"
   ]
  },
  {
   "cell_type": "code",
   "execution_count": 53,
   "metadata": {},
   "outputs": [
    {
     "data": {
      "text/plain": [
       "7645"
      ]
     },
     "execution_count": 53,
     "metadata": {},
     "output_type": "execute_result"
    }
   ],
   "source": [
    "len(non_rle_pscs[non_rle_pscs.secret_base == True])"
   ]
  },
  {
   "cell_type": "code",
   "execution_count": 54,
   "metadata": {},
   "outputs": [
    {
     "data": {
      "text/plain": [
       "0.7229998108568186"
      ]
     },
     "execution_count": 54,
     "metadata": {},
     "output_type": "execute_result"
    }
   ],
   "source": [
    "len(non_rle_pscs[non_rle_pscs.secret_base == True]) / len(non_rle_pscs)"
   ]
  },
  {
   "cell_type": "markdown",
   "metadata": {},
   "source": [
    "#### How many companies declare that at least one of their PSCs are companies in secrecy jurisdictions? "
   ]
  },
  {
   "cell_type": "code",
   "execution_count": 55,
   "metadata": {},
   "outputs": [
    {
     "data": {
      "text/plain": [
       "11559"
      ]
     },
     "execution_count": 55,
     "metadata": {},
     "output_type": "execute_result"
    }
   ],
   "source": [
    "secret_corporate_pscs = active_psc_records[(active_psc_records.secret_base == True) & (active_psc_records.kind == 'corporate-entity-person-with-significant-control') & (active_psc_records['identification.legal_form'] != 'Public Limited Company')].copy()\n",
    "len(secret_corporate_pscs.company_number.unique())"
   ]
  },
  {
   "cell_type": "markdown",
   "metadata": {},
   "source": [
    "#### How many companies are controlled directly or indirectly by companies that are registered or located in countries where they are unlikely to be RLEs?"
   ]
  },
  {
   "cell_type": "code",
   "execution_count": 56,
   "metadata": {},
   "outputs": [
    {
     "data": {
      "text/plain": [
       "13672"
      ]
     },
     "execution_count": 56,
     "metadata": {},
     "output_type": "execute_result"
    }
   ],
   "source": [
    "list_of_non_rle_companies = non_rle_pscs.company_number.unique().tolist()\n",
    "non_rle_company_at_top_of_chain = pd.DataFrame(graph.run(\"MATCH p=(c1:Company)<-[:CONTROLS*0..]-(c2:Company)\\\n",
    "WHERE c2.uid IN {list_of_non_rle_companies}\\\n",
    "RETURN DISTINCT (c1.company_number)\",list_of_non_rle_companies=list_of_non_rle_companies).data())\n",
    "len(non_rle_company_at_top_of_chain)"
   ]
  },
  {
   "cell_type": "markdown",
   "metadata": {},
   "source": [
    "#### How many companies are controlled by a non-RLE company, directly or indirectly, which is also based in a secrecy jurisdiction?"
   ]
  },
  {
   "cell_type": "markdown",
   "metadata": {},
   "source": [
    "- This step uses the Neo4J graph we created. See the Github repo for an explanationa nd the script for building teh graph database."
   ]
  },
  {
   "cell_type": "code",
   "execution_count": 57,
   "metadata": {},
   "outputs": [
    {
     "data": {
      "text/plain": [
       "10047"
      ]
     },
     "execution_count": 57,
     "metadata": {},
     "output_type": "execute_result"
    }
   ],
   "source": [
    "list_of_non_rle_and_secret_base_pscs = non_rle_pscs[non_rle_pscs.secret_base == True].company_number.unique().tolist()\n",
    "non_rle_company_and_secret_base_at_top_of_chain = pd.DataFrame(graph.run(\"MATCH p=(c1:Company)<-[:CONTROLS*0..]-(c2:Company)\\\n",
    "WHERE c2.uid IN {list_of_non_rle_companies_with_secret_base}\\\n",
    "RETURN DISTINCT (c1.company_number)\",list_of_non_rle_companies_with_secret_base=list_of_non_rle_and_secret_base_pscs).data())\n",
    "len(non_rle_company_and_secret_base_at_top_of_chain)"
   ]
  },
  {
   "cell_type": "markdown",
   "metadata": {},
   "source": [
    "#### How many companies are controlled directly or indirectly by a company based in a secrecy jurisdiction?"
   ]
  },
  {
   "cell_type": "code",
   "execution_count": 58,
   "metadata": {},
   "outputs": [],
   "source": [
    "list_of_secretly_controlled_companies = secret_corporate_pscs.company_number.unique().tolist()"
   ]
  },
  {
   "cell_type": "code",
   "execution_count": 59,
   "metadata": {},
   "outputs": [
    {
     "data": {
      "text/plain": [
       "16782"
      ]
     },
     "execution_count": 59,
     "metadata": {},
     "output_type": "execute_result"
    }
   ],
   "source": [
    "secret_company_at_top_of_chain = pd.DataFrame(graph.run(\"MATCH p=(c1:Company)<-[:CONTROLS*0..]-(c2:Company)\\\n",
    "WHERE c2.uid IN {list_of_secretly_controlled_companies}\\\n",
    "RETURN DISTINCT (c1.company_number)\",list_of_secretly_controlled_companies=list_of_secretly_controlled_companies).data())\n",
    "len(secret_company_at_top_of_chain)"
   ]
  },
  {
   "cell_type": "markdown",
   "metadata": {},
   "source": [
    "#### What are the most popular registered addresses of companies that likely have non-RLE foreign corporate PSCs?"
   ]
  },
  {
   "cell_type": "markdown",
   "metadata": {},
   "source": [
    "##### Overall counts"
   ]
  },
  {
   "cell_type": "code",
   "execution_count": 60,
   "metadata": {},
   "outputs": [
    {
     "data": {
      "text/plain": [
       "first_and_postcode\n",
       "1 BURWOOD PLACE-W2 2UT                                       442\n",
       "71-75 SHELTON STREET-WC2H 9JQ                                 97\n",
       "9 GOLDEN SQUARE-W1F 9HZ                                       95\n",
       "20-22 WENLOCK ROAD-N1 7GU                                     91\n",
       "EPSOM AVENUE-SK9 3RN                                          76\n",
       "27 OLD GLOUCESTER STREET-WC1N 3AX                             64\n",
       "1 TOWERS PLACE-TW9 1EG                                        46\n",
       "KEMP HOUSE-EC1V 2NX                                           45\n",
       "PO BOX 5 WILLOW HOUSE-CH60 0FW                                40\n",
       "SUITE 1, 3RD FLOOR-SW1Y 4LB                                   28\n",
       "100 GEORGE STREET-W1U 8NU                                     26\n",
       "50 LOTHIAN ROAD-EH3 9WJ                                       26\n",
       "814 LEIGH ROAD-SL1 4BD                                        26\n",
       "SHERBOURNE HOUSE UNIT 2-HA2 0LH                               25\n",
       "99 BISHOPSGATE-EC2M 3XD                                       25\n",
       "ELSCOT HOUSE-N3 2JU                                           24\n",
       "13 JOHN PRINCE'S STREET-W1G 0JR                               24\n",
       "MILLSHAW-LS11 8EG                                             24\n",
       "THIRD FLOOR NORTH, 224-236 WALWORTH ROAD, LONDON-SE17 1JE     22\n",
       "272 BATH STREET-G2 4JR                                        21\n",
       "Name: CompanyNumber, dtype: int64"
      ]
     },
     "execution_count": 60,
     "metadata": {},
     "output_type": "execute_result"
    }
   ],
   "source": [
    "temp_company_numbers = non_rle_pscs.company_number\n",
    "most_common_addresses_for_non_rle_pscs = active_companies[active_companies.CompanyNumber.isin(temp_company_numbers)].groupby(['first_and_postcode'])['CompanyNumber']\\\n",
    "        .agg(lambda x: len(x.unique())).sort_values(ascending=False)\n",
    "most_common_addresses_for_non_rle_pscs.head(20)"
   ]
  },
  {
   "cell_type": "markdown",
   "metadata": {},
   "source": [
    "##### Proportion of companies registered at a given address"
   ]
  },
  {
   "cell_type": "markdown",
   "metadata": {},
   "source": [
    "- This table gives some more detail per address. Many of the non-RLE corporate PSCs control many companies at a single address. This table gives information on how many unique non-RLE corporate PSCs control companies at a single address."
   ]
  },
  {
   "cell_type": "code",
   "execution_count": 62,
   "metadata": {},
   "outputs": [
    {
     "data": {
      "text/html": [
       "<div>\n",
       "<style>\n",
       "    .dataframe thead tr:only-child th {\n",
       "        text-align: right;\n",
       "    }\n",
       "\n",
       "    .dataframe thead th {\n",
       "        text-align: left;\n",
       "    }\n",
       "\n",
       "    .dataframe tbody tr th {\n",
       "        vertical-align: top;\n",
       "    }\n",
       "</style>\n",
       "<table border=\"1\" class=\"dataframe\">\n",
       "  <thead>\n",
       "    <tr style=\"text-align: right;\">\n",
       "      <th></th>\n",
       "      <th>non_rle_pscs</th>\n",
       "      <th>unique_psc_names</th>\n",
       "      <th>total_companies</th>\n",
       "      <th>proportion_of_non_rle</th>\n",
       "    </tr>\n",
       "  </thead>\n",
       "  <tbody>\n",
       "    <tr>\n",
       "      <th>9 GOLDEN SQUARE-W1F 9HZ</th>\n",
       "      <td>95</td>\n",
       "      <td>3</td>\n",
       "      <td>102</td>\n",
       "      <td>0.93</td>\n",
       "    </tr>\n",
       "    <tr>\n",
       "      <th>1 BURWOOD PLACE-W2 2UT</th>\n",
       "      <td>442</td>\n",
       "      <td>4</td>\n",
       "      <td>486</td>\n",
       "      <td>0.91</td>\n",
       "    </tr>\n",
       "    <tr>\n",
       "      <th>1 TOWERS PLACE-TW9 1EG</th>\n",
       "      <td>46</td>\n",
       "      <td>2</td>\n",
       "      <td>55</td>\n",
       "      <td>0.84</td>\n",
       "    </tr>\n",
       "    <tr>\n",
       "      <th>814 LEIGH ROAD-SL1 4BD</th>\n",
       "      <td>26</td>\n",
       "      <td>1</td>\n",
       "      <td>32</td>\n",
       "      <td>0.81</td>\n",
       "    </tr>\n",
       "    <tr>\n",
       "      <th>SHERBOURNE HOUSE UNIT 2-HA2 0LH</th>\n",
       "      <td>25</td>\n",
       "      <td>1</td>\n",
       "      <td>31</td>\n",
       "      <td>0.81</td>\n",
       "    </tr>\n",
       "    <tr>\n",
       "      <th>MILLSHAW-LS11 8EG</th>\n",
       "      <td>24</td>\n",
       "      <td>1</td>\n",
       "      <td>44</td>\n",
       "      <td>0.55</td>\n",
       "    </tr>\n",
       "    <tr>\n",
       "      <th>THIRD FLOOR NORTH, 224-236 WALWORTH ROAD, LONDON-SE17 1JE</th>\n",
       "      <td>22</td>\n",
       "      <td>4</td>\n",
       "      <td>42</td>\n",
       "      <td>0.52</td>\n",
       "    </tr>\n",
       "    <tr>\n",
       "      <th>99 BISHOPSGATE-EC2M 3XD</th>\n",
       "      <td>25</td>\n",
       "      <td>2</td>\n",
       "      <td>94</td>\n",
       "      <td>0.27</td>\n",
       "    </tr>\n",
       "    <tr>\n",
       "      <th>100 GEORGE STREET-W1U 8NU</th>\n",
       "      <td>26</td>\n",
       "      <td>2</td>\n",
       "      <td>140</td>\n",
       "      <td>0.19</td>\n",
       "    </tr>\n",
       "    <tr>\n",
       "      <th>EPSOM AVENUE-SK9 3RN</th>\n",
       "      <td>76</td>\n",
       "      <td>2</td>\n",
       "      <td>426</td>\n",
       "      <td>0.18</td>\n",
       "    </tr>\n",
       "    <tr>\n",
       "      <th>ELSCOT HOUSE-N3 2JU</th>\n",
       "      <td>24</td>\n",
       "      <td>9</td>\n",
       "      <td>333</td>\n",
       "      <td>0.07</td>\n",
       "    </tr>\n",
       "    <tr>\n",
       "      <th>13 JOHN PRINCE'S STREET-W1G 0JR</th>\n",
       "      <td>24</td>\n",
       "      <td>21</td>\n",
       "      <td>380</td>\n",
       "      <td>0.06</td>\n",
       "    </tr>\n",
       "    <tr>\n",
       "      <th>PO BOX 5 WILLOW HOUSE-CH60 0FW</th>\n",
       "      <td>40</td>\n",
       "      <td>2</td>\n",
       "      <td>1349</td>\n",
       "      <td>0.03</td>\n",
       "    </tr>\n",
       "    <tr>\n",
       "      <th>SUITE 1, 3RD FLOOR-SW1Y 4LB</th>\n",
       "      <td>28</td>\n",
       "      <td>29</td>\n",
       "      <td>1208</td>\n",
       "      <td>0.02</td>\n",
       "    </tr>\n",
       "    <tr>\n",
       "      <th>27 OLD GLOUCESTER STREET-WC1N 3AX</th>\n",
       "      <td>64</td>\n",
       "      <td>64</td>\n",
       "      <td>8091</td>\n",
       "      <td>0.01</td>\n",
       "    </tr>\n",
       "    <tr>\n",
       "      <th>50 LOTHIAN ROAD-EH3 9WJ</th>\n",
       "      <td>26</td>\n",
       "      <td>19</td>\n",
       "      <td>3733</td>\n",
       "      <td>0.01</td>\n",
       "    </tr>\n",
       "    <tr>\n",
       "      <th>272 BATH STREET-G2 4JR</th>\n",
       "      <td>21</td>\n",
       "      <td>22</td>\n",
       "      <td>3618</td>\n",
       "      <td>0.01</td>\n",
       "    </tr>\n",
       "    <tr>\n",
       "      <th>71-75 SHELTON STREET-WC2H 9JQ</th>\n",
       "      <td>97</td>\n",
       "      <td>91</td>\n",
       "      <td>19466</td>\n",
       "      <td>0.00</td>\n",
       "    </tr>\n",
       "    <tr>\n",
       "      <th>KEMP HOUSE-EC1V 2NX</th>\n",
       "      <td>45</td>\n",
       "      <td>48</td>\n",
       "      <td>14745</td>\n",
       "      <td>0.00</td>\n",
       "    </tr>\n",
       "    <tr>\n",
       "      <th>20-22 WENLOCK ROAD-N1 7GU</th>\n",
       "      <td>91</td>\n",
       "      <td>88</td>\n",
       "      <td>32889</td>\n",
       "      <td>0.00</td>\n",
       "    </tr>\n",
       "  </tbody>\n",
       "</table>\n",
       "</div>"
      ],
      "text/plain": [
       "                                                    non_rle_pscs  \\\n",
       "9 GOLDEN SQUARE-W1F 9HZ                                       95   \n",
       "1 BURWOOD PLACE-W2 2UT                                       442   \n",
       "1 TOWERS PLACE-TW9 1EG                                        46   \n",
       "814 LEIGH ROAD-SL1 4BD                                        26   \n",
       "SHERBOURNE HOUSE UNIT 2-HA2 0LH                               25   \n",
       "MILLSHAW-LS11 8EG                                             24   \n",
       "THIRD FLOOR NORTH, 224-236 WALWORTH ROAD, LONDO...            22   \n",
       "99 BISHOPSGATE-EC2M 3XD                                       25   \n",
       "100 GEORGE STREET-W1U 8NU                                     26   \n",
       "EPSOM AVENUE-SK9 3RN                                          76   \n",
       "ELSCOT HOUSE-N3 2JU                                           24   \n",
       "13 JOHN PRINCE'S STREET-W1G 0JR                               24   \n",
       "PO BOX 5 WILLOW HOUSE-CH60 0FW                                40   \n",
       "SUITE 1, 3RD FLOOR-SW1Y 4LB                                   28   \n",
       "27 OLD GLOUCESTER STREET-WC1N 3AX                             64   \n",
       "50 LOTHIAN ROAD-EH3 9WJ                                       26   \n",
       "272 BATH STREET-G2 4JR                                        21   \n",
       "71-75 SHELTON STREET-WC2H 9JQ                                 97   \n",
       "KEMP HOUSE-EC1V 2NX                                           45   \n",
       "20-22 WENLOCK ROAD-N1 7GU                                     91   \n",
       "\n",
       "                                                    unique_psc_names  \\\n",
       "9 GOLDEN SQUARE-W1F 9HZ                                            3   \n",
       "1 BURWOOD PLACE-W2 2UT                                             4   \n",
       "1 TOWERS PLACE-TW9 1EG                                             2   \n",
       "814 LEIGH ROAD-SL1 4BD                                             1   \n",
       "SHERBOURNE HOUSE UNIT 2-HA2 0LH                                    1   \n",
       "MILLSHAW-LS11 8EG                                                  1   \n",
       "THIRD FLOOR NORTH, 224-236 WALWORTH ROAD, LONDO...                 4   \n",
       "99 BISHOPSGATE-EC2M 3XD                                            2   \n",
       "100 GEORGE STREET-W1U 8NU                                          2   \n",
       "EPSOM AVENUE-SK9 3RN                                               2   \n",
       "ELSCOT HOUSE-N3 2JU                                                9   \n",
       "13 JOHN PRINCE'S STREET-W1G 0JR                                   21   \n",
       "PO BOX 5 WILLOW HOUSE-CH60 0FW                                     2   \n",
       "SUITE 1, 3RD FLOOR-SW1Y 4LB                                       29   \n",
       "27 OLD GLOUCESTER STREET-WC1N 3AX                                 64   \n",
       "50 LOTHIAN ROAD-EH3 9WJ                                           19   \n",
       "272 BATH STREET-G2 4JR                                            22   \n",
       "71-75 SHELTON STREET-WC2H 9JQ                                     91   \n",
       "KEMP HOUSE-EC1V 2NX                                               48   \n",
       "20-22 WENLOCK ROAD-N1 7GU                                         88   \n",
       "\n",
       "                                                    total_companies  \\\n",
       "9 GOLDEN SQUARE-W1F 9HZ                                         102   \n",
       "1 BURWOOD PLACE-W2 2UT                                          486   \n",
       "1 TOWERS PLACE-TW9 1EG                                           55   \n",
       "814 LEIGH ROAD-SL1 4BD                                           32   \n",
       "SHERBOURNE HOUSE UNIT 2-HA2 0LH                                  31   \n",
       "MILLSHAW-LS11 8EG                                                44   \n",
       "THIRD FLOOR NORTH, 224-236 WALWORTH ROAD, LONDO...               42   \n",
       "99 BISHOPSGATE-EC2M 3XD                                          94   \n",
       "100 GEORGE STREET-W1U 8NU                                       140   \n",
       "EPSOM AVENUE-SK9 3RN                                            426   \n",
       "ELSCOT HOUSE-N3 2JU                                             333   \n",
       "13 JOHN PRINCE'S STREET-W1G 0JR                                 380   \n",
       "PO BOX 5 WILLOW HOUSE-CH60 0FW                                 1349   \n",
       "SUITE 1, 3RD FLOOR-SW1Y 4LB                                    1208   \n",
       "27 OLD GLOUCESTER STREET-WC1N 3AX                              8091   \n",
       "50 LOTHIAN ROAD-EH3 9WJ                                        3733   \n",
       "272 BATH STREET-G2 4JR                                         3618   \n",
       "71-75 SHELTON STREET-WC2H 9JQ                                 19466   \n",
       "KEMP HOUSE-EC1V 2NX                                           14745   \n",
       "20-22 WENLOCK ROAD-N1 7GU                                     32889   \n",
       "\n",
       "                                                    proportion_of_non_rle  \n",
       "9 GOLDEN SQUARE-W1F 9HZ                                              0.93  \n",
       "1 BURWOOD PLACE-W2 2UT                                               0.91  \n",
       "1 TOWERS PLACE-TW9 1EG                                               0.84  \n",
       "814 LEIGH ROAD-SL1 4BD                                               0.81  \n",
       "SHERBOURNE HOUSE UNIT 2-HA2 0LH                                      0.81  \n",
       "MILLSHAW-LS11 8EG                                                    0.55  \n",
       "THIRD FLOOR NORTH, 224-236 WALWORTH ROAD, LONDO...                   0.52  \n",
       "99 BISHOPSGATE-EC2M 3XD                                              0.27  \n",
       "100 GEORGE STREET-W1U 8NU                                            0.19  \n",
       "EPSOM AVENUE-SK9 3RN                                                 0.18  \n",
       "ELSCOT HOUSE-N3 2JU                                                  0.07  \n",
       "13 JOHN PRINCE'S STREET-W1G 0JR                                      0.06  \n",
       "PO BOX 5 WILLOW HOUSE-CH60 0FW                                       0.03  \n",
       "SUITE 1, 3RD FLOOR-SW1Y 4LB                                          0.02  \n",
       "27 OLD GLOUCESTER STREET-WC1N 3AX                                    0.01  \n",
       "50 LOTHIAN ROAD-EH3 9WJ                                              0.01  \n",
       "272 BATH STREET-G2 4JR                                               0.01  \n",
       "71-75 SHELTON STREET-WC2H 9JQ                                        0.00  \n",
       "KEMP HOUSE-EC1V 2NX                                                  0.00  \n",
       "20-22 WENLOCK ROAD-N1 7GU                                            0.00  "
      ]
     },
     "execution_count": 62,
     "metadata": {},
     "output_type": "execute_result"
    }
   ],
   "source": [
    "unique_companies_in_non_rle_psc_count = non_rle_pscs.groupby(['first_and_postcode'])['name']\\\n",
    "        .agg(lambda x: len(x.unique())).sort_values(ascending=False)\n",
    "most_common_registered_addresses = active_companies.groupby(['first_and_postcode'])['CompanyNumber']\\\n",
    "    .agg(lambda x: len(x.unique()))\n",
    "##Filter Series so that the companies with secret PSCs and the overall company counts are the same length\n",
    "temp_s = most_common_registered_addresses[most_common_registered_addresses.index.isin(most_common_addresses_for_non_rle_pscs.index)]\n",
    "temp_df = pd.concat([most_common_addresses_for_non_rle_pscs,unique_companies_in_non_rle_psc_count,temp_s],axis=1)\n",
    "temp_df.columns = ['non_rle_pscs','unique_psc_names','total_companies']\n",
    "temp_df['proportion_of_non_rle'] = temp_df.non_rle_pscs / temp_df.total_companies\n",
    "temp_df[temp_df.non_rle_pscs > 20].sort_values(by='proportion_of_non_rle',ascending=False)"
   ]
  },
  {
   "cell_type": "markdown",
   "metadata": {},
   "source": [
    "#### What are the most popular registered addresses of companies that have corproate PSCs in secrecy jurisdictions?"
   ]
  },
  {
   "cell_type": "markdown",
   "metadata": {},
   "source": [
    "##### Overall counts"
   ]
  },
  {
   "cell_type": "code",
   "execution_count": 63,
   "metadata": {},
   "outputs": [
    {
     "data": {
      "text/plain": [
       "first_and_postcode\n",
       "71-75 SHELTON STREET-WC2H 9JQ                                113\n",
       "20-22 WENLOCK ROAD-N1 7GU                                    100\n",
       "EPSOM AVENUE-SK9 3RN                                          79\n",
       "27 OLD GLOUCESTER STREET-WC1N 3AX                             76\n",
       "80 SIDNEY STREET-CT19 6HQ                                     53\n",
       "KEMP HOUSE-EC1V 2NX                                           47\n",
       "1 TOWERS PLACE-TW9 1EG                                        46\n",
       "50 LOTHIAN ROAD-EH3 9WJ                                       45\n",
       "SUITE 1, 3RD FLOOR-SW1Y 4LB                                   34\n",
       "262 BEDFONT LANE-TW14 9NU                                     28\n",
       "5 BROADGATE-EC2M 2QS                                          27\n",
       "1 KINGS AVENUE-N21 3NA                                        27\n",
       "13 JOHN PRINCE'S STREET-W1G 0JR                               26\n",
       "HILL HOUSE-EC4A 3TR                                           26\n",
       "100 GEORGE STREET-W1U 8NU                                     26\n",
       "ELSCOT HOUSE-N3 2JU                                           25\n",
       "116 DUKE STREET-L1 5JW                                        23\n",
       "SHERBOURNE HOUSE UNIT 2-HA2 0LH                               23\n",
       "THIRD FLOOR NORTH, 224-236 WALWORTH ROAD, LONDON-SE17 1JE     22\n",
       "272 BATH STREET-G2 4JR                                        22\n",
       "Name: CompanyNumber, dtype: int64"
      ]
     },
     "execution_count": 63,
     "metadata": {},
     "output_type": "execute_result"
    }
   ],
   "source": [
    "temp_company_numbers = secret_corporate_pscs.company_number\n",
    "most_common_addresses_for_secret_pscs = active_companies[active_companies.CompanyNumber.isin(temp_company_numbers)].groupby(['first_and_postcode'])['CompanyNumber']\\\n",
    "        .agg(lambda x: len(x.unique())).sort_values(ascending=False)\n",
    "most_common_addresses_for_secret_pscs.head(20)"
   ]
  },
  {
   "cell_type": "markdown",
   "metadata": {},
   "source": [
    "##### Proportion of companies registered at a given address"
   ]
  },
  {
   "cell_type": "code",
   "execution_count": 64,
   "metadata": {},
   "outputs": [],
   "source": [
    "unique_companies_in_secret_psc_count = secret_corporate_pscs.groupby(['first_and_postcode'])['name']\\\n",
    "        .agg(lambda x: len(x.unique())).sort_values(ascending=False)"
   ]
  },
  {
   "cell_type": "code",
   "execution_count": 65,
   "metadata": {},
   "outputs": [
    {
     "data": {
      "text/html": [
       "<div>\n",
       "<style>\n",
       "    .dataframe thead tr:only-child th {\n",
       "        text-align: right;\n",
       "    }\n",
       "\n",
       "    .dataframe thead th {\n",
       "        text-align: left;\n",
       "    }\n",
       "\n",
       "    .dataframe tbody tr th {\n",
       "        vertical-align: top;\n",
       "    }\n",
       "</style>\n",
       "<table border=\"1\" class=\"dataframe\">\n",
       "  <thead>\n",
       "    <tr style=\"text-align: right;\">\n",
       "      <th></th>\n",
       "      <th>secret_companies</th>\n",
       "      <th>unique_psc_names</th>\n",
       "      <th>total_companies</th>\n",
       "      <th>proportion_of_secret</th>\n",
       "    </tr>\n",
       "  </thead>\n",
       "  <tbody>\n",
       "    <tr>\n",
       "      <th>1 TOWERS PLACE-TW9 1EG</th>\n",
       "      <td>46</td>\n",
       "      <td>2</td>\n",
       "      <td>55</td>\n",
       "      <td>0.84</td>\n",
       "    </tr>\n",
       "    <tr>\n",
       "      <th>SHERBOURNE HOUSE UNIT 2-HA2 0LH</th>\n",
       "      <td>23</td>\n",
       "      <td>1</td>\n",
       "      <td>31</td>\n",
       "      <td>0.74</td>\n",
       "    </tr>\n",
       "    <tr>\n",
       "      <th>5 BROADGATE-EC2M 2QS</th>\n",
       "      <td>27</td>\n",
       "      <td>1</td>\n",
       "      <td>44</td>\n",
       "      <td>0.61</td>\n",
       "    </tr>\n",
       "    <tr>\n",
       "      <th>MID CITY PLACE-WC1V 6BA</th>\n",
       "      <td>22</td>\n",
       "      <td>3</td>\n",
       "      <td>39</td>\n",
       "      <td>0.56</td>\n",
       "    </tr>\n",
       "    <tr>\n",
       "      <th>THIRD FLOOR NORTH, 224-236 WALWORTH ROAD, LONDON-SE17 1JE</th>\n",
       "      <td>22</td>\n",
       "      <td>4</td>\n",
       "      <td>42</td>\n",
       "      <td>0.52</td>\n",
       "    </tr>\n",
       "    <tr>\n",
       "      <th>80 SIDNEY STREET-CT19 6HQ</th>\n",
       "      <td>53</td>\n",
       "      <td>52</td>\n",
       "      <td>277</td>\n",
       "      <td>0.19</td>\n",
       "    </tr>\n",
       "    <tr>\n",
       "      <th>100 GEORGE STREET-W1U 8NU</th>\n",
       "      <td>26</td>\n",
       "      <td>2</td>\n",
       "      <td>140</td>\n",
       "      <td>0.19</td>\n",
       "    </tr>\n",
       "    <tr>\n",
       "      <th>EPSOM AVENUE-SK9 3RN</th>\n",
       "      <td>79</td>\n",
       "      <td>3</td>\n",
       "      <td>426</td>\n",
       "      <td>0.19</td>\n",
       "    </tr>\n",
       "    <tr>\n",
       "      <th>262 BEDFONT LANE-TW14 9NU</th>\n",
       "      <td>28</td>\n",
       "      <td>27</td>\n",
       "      <td>288</td>\n",
       "      <td>0.10</td>\n",
       "    </tr>\n",
       "    <tr>\n",
       "      <th>ELSCOT HOUSE-N3 2JU</th>\n",
       "      <td>25</td>\n",
       "      <td>10</td>\n",
       "      <td>333</td>\n",
       "      <td>0.08</td>\n",
       "    </tr>\n",
       "    <tr>\n",
       "      <th>13 JOHN PRINCE'S STREET-W1G 0JR</th>\n",
       "      <td>26</td>\n",
       "      <td>24</td>\n",
       "      <td>380</td>\n",
       "      <td>0.07</td>\n",
       "    </tr>\n",
       "    <tr>\n",
       "      <th>116 DUKE STREET-L1 5JW</th>\n",
       "      <td>23</td>\n",
       "      <td>7</td>\n",
       "      <td>365</td>\n",
       "      <td>0.06</td>\n",
       "    </tr>\n",
       "    <tr>\n",
       "      <th>HILL HOUSE-EC4A 3TR</th>\n",
       "      <td>26</td>\n",
       "      <td>18</td>\n",
       "      <td>622</td>\n",
       "      <td>0.04</td>\n",
       "    </tr>\n",
       "    <tr>\n",
       "      <th>SUITE 1, 3RD FLOOR-SW1Y 4LB</th>\n",
       "      <td>34</td>\n",
       "      <td>34</td>\n",
       "      <td>1208</td>\n",
       "      <td>0.03</td>\n",
       "    </tr>\n",
       "    <tr>\n",
       "      <th>1 KINGS AVENUE-N21 3NA</th>\n",
       "      <td>27</td>\n",
       "      <td>26</td>\n",
       "      <td>1621</td>\n",
       "      <td>0.02</td>\n",
       "    </tr>\n",
       "    <tr>\n",
       "      <th>50 LOTHIAN ROAD-EH3 9WJ</th>\n",
       "      <td>45</td>\n",
       "      <td>23</td>\n",
       "      <td>3733</td>\n",
       "      <td>0.01</td>\n",
       "    </tr>\n",
       "    <tr>\n",
       "      <th>THE APEX-CV1 3PP</th>\n",
       "      <td>21</td>\n",
       "      <td>10</td>\n",
       "      <td>1770</td>\n",
       "      <td>0.01</td>\n",
       "    </tr>\n",
       "    <tr>\n",
       "      <th>27 OLD GLOUCESTER STREET-WC1N 3AX</th>\n",
       "      <td>76</td>\n",
       "      <td>78</td>\n",
       "      <td>8091</td>\n",
       "      <td>0.01</td>\n",
       "    </tr>\n",
       "    <tr>\n",
       "      <th>272 BATH STREET-G2 4JR</th>\n",
       "      <td>22</td>\n",
       "      <td>23</td>\n",
       "      <td>3618</td>\n",
       "      <td>0.01</td>\n",
       "    </tr>\n",
       "    <tr>\n",
       "      <th>71-75 SHELTON STREET-WC2H 9JQ</th>\n",
       "      <td>113</td>\n",
       "      <td>106</td>\n",
       "      <td>19466</td>\n",
       "      <td>0.01</td>\n",
       "    </tr>\n",
       "    <tr>\n",
       "      <th>KEMP HOUSE-EC1V 2NX</th>\n",
       "      <td>47</td>\n",
       "      <td>50</td>\n",
       "      <td>14745</td>\n",
       "      <td>0.00</td>\n",
       "    </tr>\n",
       "    <tr>\n",
       "      <th>20-22 WENLOCK ROAD-N1 7GU</th>\n",
       "      <td>100</td>\n",
       "      <td>99</td>\n",
       "      <td>32889</td>\n",
       "      <td>0.00</td>\n",
       "    </tr>\n",
       "  </tbody>\n",
       "</table>\n",
       "</div>"
      ],
      "text/plain": [
       "                                                    secret_companies  \\\n",
       "1 TOWERS PLACE-TW9 1EG                                            46   \n",
       "SHERBOURNE HOUSE UNIT 2-HA2 0LH                                   23   \n",
       "5 BROADGATE-EC2M 2QS                                              27   \n",
       "MID CITY PLACE-WC1V 6BA                                           22   \n",
       "THIRD FLOOR NORTH, 224-236 WALWORTH ROAD, LONDO...                22   \n",
       "80 SIDNEY STREET-CT19 6HQ                                         53   \n",
       "100 GEORGE STREET-W1U 8NU                                         26   \n",
       "EPSOM AVENUE-SK9 3RN                                              79   \n",
       "262 BEDFONT LANE-TW14 9NU                                         28   \n",
       "ELSCOT HOUSE-N3 2JU                                               25   \n",
       "13 JOHN PRINCE'S STREET-W1G 0JR                                   26   \n",
       "116 DUKE STREET-L1 5JW                                            23   \n",
       "HILL HOUSE-EC4A 3TR                                               26   \n",
       "SUITE 1, 3RD FLOOR-SW1Y 4LB                                       34   \n",
       "1 KINGS AVENUE-N21 3NA                                            27   \n",
       "50 LOTHIAN ROAD-EH3 9WJ                                           45   \n",
       "THE APEX-CV1 3PP                                                  21   \n",
       "27 OLD GLOUCESTER STREET-WC1N 3AX                                 76   \n",
       "272 BATH STREET-G2 4JR                                            22   \n",
       "71-75 SHELTON STREET-WC2H 9JQ                                    113   \n",
       "KEMP HOUSE-EC1V 2NX                                               47   \n",
       "20-22 WENLOCK ROAD-N1 7GU                                        100   \n",
       "\n",
       "                                                    unique_psc_names  \\\n",
       "1 TOWERS PLACE-TW9 1EG                                             2   \n",
       "SHERBOURNE HOUSE UNIT 2-HA2 0LH                                    1   \n",
       "5 BROADGATE-EC2M 2QS                                               1   \n",
       "MID CITY PLACE-WC1V 6BA                                            3   \n",
       "THIRD FLOOR NORTH, 224-236 WALWORTH ROAD, LONDO...                 4   \n",
       "80 SIDNEY STREET-CT19 6HQ                                         52   \n",
       "100 GEORGE STREET-W1U 8NU                                          2   \n",
       "EPSOM AVENUE-SK9 3RN                                               3   \n",
       "262 BEDFONT LANE-TW14 9NU                                         27   \n",
       "ELSCOT HOUSE-N3 2JU                                               10   \n",
       "13 JOHN PRINCE'S STREET-W1G 0JR                                   24   \n",
       "116 DUKE STREET-L1 5JW                                             7   \n",
       "HILL HOUSE-EC4A 3TR                                               18   \n",
       "SUITE 1, 3RD FLOOR-SW1Y 4LB                                       34   \n",
       "1 KINGS AVENUE-N21 3NA                                            26   \n",
       "50 LOTHIAN ROAD-EH3 9WJ                                           23   \n",
       "THE APEX-CV1 3PP                                                  10   \n",
       "27 OLD GLOUCESTER STREET-WC1N 3AX                                 78   \n",
       "272 BATH STREET-G2 4JR                                            23   \n",
       "71-75 SHELTON STREET-WC2H 9JQ                                    106   \n",
       "KEMP HOUSE-EC1V 2NX                                               50   \n",
       "20-22 WENLOCK ROAD-N1 7GU                                         99   \n",
       "\n",
       "                                                    total_companies  \\\n",
       "1 TOWERS PLACE-TW9 1EG                                           55   \n",
       "SHERBOURNE HOUSE UNIT 2-HA2 0LH                                  31   \n",
       "5 BROADGATE-EC2M 2QS                                             44   \n",
       "MID CITY PLACE-WC1V 6BA                                          39   \n",
       "THIRD FLOOR NORTH, 224-236 WALWORTH ROAD, LONDO...               42   \n",
       "80 SIDNEY STREET-CT19 6HQ                                       277   \n",
       "100 GEORGE STREET-W1U 8NU                                       140   \n",
       "EPSOM AVENUE-SK9 3RN                                            426   \n",
       "262 BEDFONT LANE-TW14 9NU                                       288   \n",
       "ELSCOT HOUSE-N3 2JU                                             333   \n",
       "13 JOHN PRINCE'S STREET-W1G 0JR                                 380   \n",
       "116 DUKE STREET-L1 5JW                                          365   \n",
       "HILL HOUSE-EC4A 3TR                                             622   \n",
       "SUITE 1, 3RD FLOOR-SW1Y 4LB                                    1208   \n",
       "1 KINGS AVENUE-N21 3NA                                         1621   \n",
       "50 LOTHIAN ROAD-EH3 9WJ                                        3733   \n",
       "THE APEX-CV1 3PP                                               1770   \n",
       "27 OLD GLOUCESTER STREET-WC1N 3AX                              8091   \n",
       "272 BATH STREET-G2 4JR                                         3618   \n",
       "71-75 SHELTON STREET-WC2H 9JQ                                 19466   \n",
       "KEMP HOUSE-EC1V 2NX                                           14745   \n",
       "20-22 WENLOCK ROAD-N1 7GU                                     32889   \n",
       "\n",
       "                                                    proportion_of_secret  \n",
       "1 TOWERS PLACE-TW9 1EG                                              0.84  \n",
       "SHERBOURNE HOUSE UNIT 2-HA2 0LH                                     0.74  \n",
       "5 BROADGATE-EC2M 2QS                                                0.61  \n",
       "MID CITY PLACE-WC1V 6BA                                             0.56  \n",
       "THIRD FLOOR NORTH, 224-236 WALWORTH ROAD, LONDO...                  0.52  \n",
       "80 SIDNEY STREET-CT19 6HQ                                           0.19  \n",
       "100 GEORGE STREET-W1U 8NU                                           0.19  \n",
       "EPSOM AVENUE-SK9 3RN                                                0.19  \n",
       "262 BEDFONT LANE-TW14 9NU                                           0.10  \n",
       "ELSCOT HOUSE-N3 2JU                                                 0.08  \n",
       "13 JOHN PRINCE'S STREET-W1G 0JR                                     0.07  \n",
       "116 DUKE STREET-L1 5JW                                              0.06  \n",
       "HILL HOUSE-EC4A 3TR                                                 0.04  \n",
       "SUITE 1, 3RD FLOOR-SW1Y 4LB                                         0.03  \n",
       "1 KINGS AVENUE-N21 3NA                                              0.02  \n",
       "50 LOTHIAN ROAD-EH3 9WJ                                             0.01  \n",
       "THE APEX-CV1 3PP                                                    0.01  \n",
       "27 OLD GLOUCESTER STREET-WC1N 3AX                                   0.01  \n",
       "272 BATH STREET-G2 4JR                                              0.01  \n",
       "71-75 SHELTON STREET-WC2H 9JQ                                       0.01  \n",
       "KEMP HOUSE-EC1V 2NX                                                 0.00  \n",
       "20-22 WENLOCK ROAD-N1 7GU                                           0.00  "
      ]
     },
     "execution_count": 65,
     "metadata": {},
     "output_type": "execute_result"
    }
   ],
   "source": [
    "most_common_registered_addresses = active_companies.groupby(['first_and_postcode'])['CompanyNumber']\\\n",
    "    .agg(lambda x: len(x.unique()))\n",
    "##Filter Series so that the companies with secret PSCs and the overall company counts are the same length\n",
    "temp_s = most_common_registered_addresses[most_common_registered_addresses.index.isin(most_common_addresses_for_secret_pscs.index)]\n",
    "temp_df = pd.concat([most_common_addresses_for_secret_pscs,unique_companies_in_secret_psc_count,temp_s],axis=1)\n",
    "temp_df.columns = ['secret_companies','unique_psc_names','total_companies']\n",
    "temp_df['proportion_of_secret'] = temp_df.secret_companies / temp_df.total_companies\n",
    "temp_df[temp_df.secret_companies > 20].sort_values(by='proportion_of_secret',ascending=False)"
   ]
  },
  {
   "cell_type": "markdown",
   "metadata": {},
   "source": [
    "#### What are the most popular secrecy jurisdictions for corporate PSCs to be registered?"
   ]
  },
  {
   "cell_type": "code",
   "execution_count": 66,
   "metadata": {},
   "outputs": [
    {
     "data": {
      "text/plain": [
       "Netherlands               1322\n",
       "Switzerland               1012\n",
       "British Virgin Islands     829\n",
       "Japan                      810\n",
       "Isle Of Man                655\n",
       "Jersey                     628\n",
       "Guernsey                   620\n",
       "Hong Kong                  463\n",
       "Cyprus                     386\n",
       "China                      368\n",
       "Singapore                  333\n",
       "Bermuda                    311\n",
       "United Kingdom             294\n",
       "Gibraltar                  257\n",
       "Cayman Islands             238\n",
       "Channel Islands            234\n",
       "England                    234\n",
       "Malta                      231\n",
       "Seychelles                 211\n",
       "Belize                     197\n",
       "Name: address.country, dtype: int64"
      ]
     },
     "execution_count": 66,
     "metadata": {},
     "output_type": "execute_result"
    }
   ],
   "source": [
    "secret_corporate_pscs['address.country'].value_counts().head(20)"
   ]
  },
  {
   "cell_type": "markdown",
   "metadata": {},
   "source": [
    "#### How many companies declare that *all* of their PSCs are companies based in secrecy jurisdictions?"
   ]
  },
  {
   "cell_type": "code",
   "execution_count": 67,
   "metadata": {},
   "outputs": [
    {
     "data": {
      "text/plain": [
       "9493"
      ]
     },
     "execution_count": 67,
     "metadata": {},
     "output_type": "execute_result"
    }
   ],
   "source": [
    "##Reduce DataFrame as the transform function is very expensive on the whole dataset\n",
    "temp_df = active_psc_records[active_psc_records.company_number.isin(secret_corporate_pscs.company_number)]\n",
    "len(temp_df[temp_df.groupby('company_number').secret_base.transform(all)].company_number.unique())"
   ]
  },
  {
   "cell_type": "markdown",
   "metadata": {},
   "source": [
    "### Filing \"no PSC\" statements"
   ]
  },
  {
   "cell_type": "markdown",
   "metadata": {},
   "source": [
    "#### How does the proportion of no PSC statements vary across different company types?"
   ]
  },
  {
   "cell_type": "markdown",
   "metadata": {},
   "source": [
    "- This only concerns companies (and partnerships) who have filed statements explicitly saying that they have no PSC (\"no-individual-or-entity-with-signficant-control\")\n",
    "- Denominator of proportions are all active companies of a company type that have filed *either* a statement or a PSC (in the briefing we refer to this as being \"on the Register\")"
   ]
  },
  {
   "cell_type": "code",
   "execution_count": 68,
   "metadata": {},
   "outputs": [
    {
     "name": "stdout",
     "output_type": "stream",
     "text": [
      "Overall average of no PSC statements for companies: 0.08\n"
     ]
    },
    {
     "data": {
      "text/html": [
       "<div>\n",
       "<style>\n",
       "    .dataframe thead tr:only-child th {\n",
       "        text-align: right;\n",
       "    }\n",
       "\n",
       "    .dataframe thead th {\n",
       "        text-align: left;\n",
       "    }\n",
       "\n",
       "    .dataframe tbody tr th {\n",
       "        vertical-align: top;\n",
       "    }\n",
       "</style>\n",
       "<table border=\"1\" class=\"dataframe\">\n",
       "  <thead>\n",
       "    <tr style=\"text-align: right;\">\n",
       "      <th></th>\n",
       "      <th>number_of_companies_no_psc_statement</th>\n",
       "      <th>totals</th>\n",
       "      <th>proportion_of_comapnies_no_psc_statement</th>\n",
       "    </tr>\n",
       "    <tr>\n",
       "      <th>company_type</th>\n",
       "      <th></th>\n",
       "      <th></th>\n",
       "      <th></th>\n",
       "    </tr>\n",
       "  </thead>\n",
       "  <tbody>\n",
       "    <tr>\n",
       "      <th>Limited Liability Partnership for Scotland</th>\n",
       "      <td>449.00</td>\n",
       "      <td>2969</td>\n",
       "      <td>0.15</td>\n",
       "    </tr>\n",
       "    <tr>\n",
       "      <th>Limited Liability Partnership for Northern Ireland</th>\n",
       "      <td>93.00</td>\n",
       "      <td>625</td>\n",
       "      <td>0.15</td>\n",
       "    </tr>\n",
       "    <tr>\n",
       "      <th>Limited Liability Partnership for England &amp; Wales</th>\n",
       "      <td>6,606.00</td>\n",
       "      <td>48516</td>\n",
       "      <td>0.14</td>\n",
       "    </tr>\n",
       "    <tr>\n",
       "      <th>Limited Partnership for Scotland</th>\n",
       "      <td>1,361.00</td>\n",
       "      <td>13454</td>\n",
       "      <td>0.10</td>\n",
       "    </tr>\n",
       "    <tr>\n",
       "      <th>England &amp; Wales Company</th>\n",
       "      <td>305,925.00</td>\n",
       "      <td>3599972</td>\n",
       "      <td>0.08</td>\n",
       "    </tr>\n",
       "    <tr>\n",
       "      <th>Scottish Company</th>\n",
       "      <td>14,932.00</td>\n",
       "      <td>199872</td>\n",
       "      <td>0.07</td>\n",
       "    </tr>\n",
       "  </tbody>\n",
       "</table>\n",
       "</div>"
      ],
      "text/plain": [
       "                                                    number_of_companies_no_psc_statement  \\\n",
       "company_type                                                                               \n",
       "Limited Liability Partnership for Scotland                                        449.00   \n",
       "Limited Liability Partnership for Northern Ireland                                 93.00   \n",
       "Limited Liability Partnership for England & Wales                               6,606.00   \n",
       "Limited Partnership for Scotland                                                1,361.00   \n",
       "England & Wales Company                                                       305,925.00   \n",
       "Scottish Company                                                               14,932.00   \n",
       "\n",
       "                                                     totals  \\\n",
       "company_type                                                  \n",
       "Limited Liability Partnership for Scotland             2969   \n",
       "Limited Liability Partnership for Northern Ireland      625   \n",
       "Limited Liability Partnership for England & Wales     48516   \n",
       "Limited Partnership for Scotland                      13454   \n",
       "England & Wales Company                             3599972   \n",
       "Scottish Company                                     199872   \n",
       "\n",
       "                                                    proportion_of_comapnies_no_psc_statement  \n",
       "company_type                                                                                  \n",
       "Limited Liability Partnership for Scotland                                              0.15  \n",
       "Limited Liability Partnership for Northern Ireland                                      0.15  \n",
       "Limited Liability Partnership for England & Wales                                       0.14  \n",
       "Limited Partnership for Scotland                                                        0.10  \n",
       "England & Wales Company                                                                 0.08  \n",
       "Scottish Company                                                                        0.07  "
      ]
     },
     "execution_count": 68,
     "metadata": {},
     "output_type": "execute_result"
    }
   ],
   "source": [
    "##Variation across company typesdes)\n",
    "active_psc_statements['no_psc_statement'] = active_psc_statements.statement.str.contains('no-individual-or-entity-with-signficant-control')\n",
    "company_type_totals_combined = pd.DataFrame(active_combined_statements_records.groupby('company_type').agg(lambda x: len(x.unique()))['company_number'])\n",
    "company_type_totals_combined.columns = ['totals']\n",
    "temp_df = active_psc_statements.pivot_table(index='company_type',columns='no_psc_statement',values='company_number',aggfunc=lambda x: len(x.unique()))\n",
    "temp_df = pd.merge(temp_df,company_type_totals_combined,left_index=True,right_index=True)\n",
    "temp_df['proportion'] = temp_df[True] / temp_df['totals']\n",
    "temp_df = temp_df[[True,'totals','proportion']].fillna(0)\n",
    "temp_df.columns = ['number_of_companies_no_psc_statement','totals','proportion_of_comapnies_no_psc_statement']\n",
    "print(\"Overall average of no PSC statements for companies: \" + str(round(len(active_psc_statements[active_psc_statements.statement.str.contains('no-individual-or-entity-with-signficant-control')].company_number.unique()) / active_companies_psc_applies_unique_count,2)))\n",
    "temp_df[temp_df['number_of_companies_no_psc_statement'] > 10].sort_values(by='proportion_of_comapnies_no_psc_statement',ascending=False)"
   ]
  },
  {
   "cell_type": "markdown",
   "metadata": {},
   "source": [
    "#### Which addresses have the largest volume and proportion of no PSC filings?"
   ]
  },
  {
   "cell_type": "code",
   "execution_count": 69,
   "metadata": {},
   "outputs": [],
   "source": [
    "active_psc_statements = pd.merge(active_psc_statements,active_companies[['CompanyNumber','first_and_postcode']],left_on='company_number',right_on='CompanyNumber')\n",
    "most_common_registered_addresses_for_no_psc_companies = active_psc_statements[active_psc_statements.statement.str.contains('no-individual-or-entity-with-signficant-control')].groupby(['first_and_postcode'])['company_number'].agg(lambda x: len(x.unique()))\n",
    "temp_s = most_common_registered_addresses[most_common_registered_addresses.index.isin(most_common_registered_addresses_for_no_psc_companies.index)]"
   ]
  },
  {
   "cell_type": "code",
   "execution_count": 70,
   "metadata": {},
   "outputs": [
    {
     "data": {
      "text/html": [
       "<div>\n",
       "<style>\n",
       "    .dataframe thead tr:only-child th {\n",
       "        text-align: right;\n",
       "    }\n",
       "\n",
       "    .dataframe thead th {\n",
       "        text-align: left;\n",
       "    }\n",
       "\n",
       "    .dataframe tbody tr th {\n",
       "        vertical-align: top;\n",
       "    }\n",
       "</style>\n",
       "<table border=\"1\" class=\"dataframe\">\n",
       "  <thead>\n",
       "    <tr style=\"text-align: right;\">\n",
       "      <th></th>\n",
       "      <th>number_no_psc</th>\n",
       "      <th>total_companies</th>\n",
       "      <th>proportion_no_psc</th>\n",
       "    </tr>\n",
       "    <tr>\n",
       "      <th>first_and_postcode</th>\n",
       "      <th></th>\n",
       "      <th></th>\n",
       "      <th></th>\n",
       "    </tr>\n",
       "  </thead>\n",
       "  <tbody>\n",
       "    <tr>\n",
       "      <th>GROUND FLOOR, DISCOVERY HOUSE-SK4 5BH</th>\n",
       "      <td>138</td>\n",
       "      <td>139</td>\n",
       "      <td>0.99</td>\n",
       "    </tr>\n",
       "    <tr>\n",
       "      <th>METROHOUSE-LS10 2RU</th>\n",
       "      <td>114</td>\n",
       "      <td>115</td>\n",
       "      <td>0.99</td>\n",
       "    </tr>\n",
       "    <tr>\n",
       "      <th>5A WESTGATE-LS24 9AB</th>\n",
       "      <td>239</td>\n",
       "      <td>243</td>\n",
       "      <td>0.98</td>\n",
       "    </tr>\n",
       "    <tr>\n",
       "      <th>METRO HOUSE 57 PEPPER ROAD-LS10 2RU</th>\n",
       "      <td>261</td>\n",
       "      <td>266</td>\n",
       "      <td>0.98</td>\n",
       "    </tr>\n",
       "    <tr>\n",
       "      <th>HILLCREST ESTATE MANAGEMENT LIMITED 5 GROVE ROAD-BS6 6UJ</th>\n",
       "      <td>150</td>\n",
       "      <td>153</td>\n",
       "      <td>0.98</td>\n",
       "    </tr>\n",
       "    <tr>\n",
       "      <th>METRO HOUSE-LS10 2RU</th>\n",
       "      <td>637</td>\n",
       "      <td>652</td>\n",
       "      <td>0.98</td>\n",
       "    </tr>\n",
       "    <tr>\n",
       "      <th>106 HIGH STREET-SG1 3DW</th>\n",
       "      <td>127</td>\n",
       "      <td>130</td>\n",
       "      <td>0.98</td>\n",
       "    </tr>\n",
       "    <tr>\n",
       "      <th>C/O RENDALL AND RITTNER LIMITED PORTSOKEN HOUSE-EC3N 1LJ</th>\n",
       "      <td>118</td>\n",
       "      <td>121</td>\n",
       "      <td>0.98</td>\n",
       "    </tr>\n",
       "    <tr>\n",
       "      <th>25 GLOVER ROAD-HA5 1LQ</th>\n",
       "      <td>116</td>\n",
       "      <td>119</td>\n",
       "      <td>0.97</td>\n",
       "    </tr>\n",
       "    <tr>\n",
       "      <th>19 BALBY ROAD-DN4 0RA</th>\n",
       "      <td>212</td>\n",
       "      <td>218</td>\n",
       "      <td>0.97</td>\n",
       "    </tr>\n",
       "  </tbody>\n",
       "</table>\n",
       "</div>"
      ],
      "text/plain": [
       "                                                    number_no_psc  \\\n",
       "first_and_postcode                                                  \n",
       "GROUND FLOOR, DISCOVERY HOUSE-SK4 5BH                         138   \n",
       "METROHOUSE-LS10 2RU                                           114   \n",
       "5A WESTGATE-LS24 9AB                                          239   \n",
       "METRO HOUSE 57 PEPPER ROAD-LS10 2RU                           261   \n",
       "HILLCREST ESTATE MANAGEMENT LIMITED 5 GROVE ROA...            150   \n",
       "METRO HOUSE-LS10 2RU                                          637   \n",
       "106 HIGH STREET-SG1 3DW                                       127   \n",
       "C/O RENDALL AND RITTNER LIMITED PORTSOKEN HOUSE...            118   \n",
       "25 GLOVER ROAD-HA5 1LQ                                        116   \n",
       "19 BALBY ROAD-DN4 0RA                                         212   \n",
       "\n",
       "                                                    total_companies  \\\n",
       "first_and_postcode                                                    \n",
       "GROUND FLOOR, DISCOVERY HOUSE-SK4 5BH                           139   \n",
       "METROHOUSE-LS10 2RU                                             115   \n",
       "5A WESTGATE-LS24 9AB                                            243   \n",
       "METRO HOUSE 57 PEPPER ROAD-LS10 2RU                             266   \n",
       "HILLCREST ESTATE MANAGEMENT LIMITED 5 GROVE ROA...              153   \n",
       "METRO HOUSE-LS10 2RU                                            652   \n",
       "106 HIGH STREET-SG1 3DW                                         130   \n",
       "C/O RENDALL AND RITTNER LIMITED PORTSOKEN HOUSE...              121   \n",
       "25 GLOVER ROAD-HA5 1LQ                                          119   \n",
       "19 BALBY ROAD-DN4 0RA                                           218   \n",
       "\n",
       "                                                      proportion_no_psc  \n",
       "first_and_postcode                                                       \n",
       "GROUND FLOOR, DISCOVERY HOUSE-SK4 5BH                              0.99  \n",
       "METROHOUSE-LS10 2RU                                                0.99  \n",
       "5A WESTGATE-LS24 9AB                                               0.98  \n",
       "METRO HOUSE 57 PEPPER ROAD-LS10 2RU                                0.98  \n",
       "HILLCREST ESTATE MANAGEMENT LIMITED 5 GROVE ROA...                 0.98  \n",
       "METRO HOUSE-LS10 2RU                                               0.98  \n",
       "106 HIGH STREET-SG1 3DW                                            0.98  \n",
       "C/O RENDALL AND RITTNER LIMITED PORTSOKEN HOUSE...                 0.98  \n",
       "25 GLOVER ROAD-HA5 1LQ                                             0.97  \n",
       "19 BALBY ROAD-DN4 0RA                                              0.97  "
      ]
     },
     "execution_count": 70,
     "metadata": {},
     "output_type": "execute_result"
    }
   ],
   "source": [
    "temp_df = pd.concat([most_common_registered_addresses_for_no_psc_companies,temp_s],axis=1)\n",
    "temp_df.columns = ['number_no_psc','total_companies']\n",
    "temp_df['proportion_no_psc'] = temp_df['number_no_psc'] / temp_df['total_companies']\n",
    "temp_df[temp_df.total_companies > 100].sort_values(by='proportion_no_psc',ascending=False).head(10)"
   ]
  },
  {
   "cell_type": "code",
   "execution_count": 71,
   "metadata": {},
   "outputs": [
    {
     "data": {
      "text/plain": [
       "<matplotlib.axes._subplots.AxesSubplot at 0x7fd0d84a0160>"
      ]
     },
     "execution_count": 71,
     "metadata": {},
     "output_type": "execute_result"
    },
    {
     "data": {
      "image/png": "[encoded data removed]",
      "text/plain": [
       "<matplotlib.figure.Figure at 0x7fcb905534a8>"
      ]
     },
     "metadata": {},
     "output_type": "display_data"
    }
   ],
   "source": [
    "##Distribution of the proportion of companies with a corporate secret PSC at an address\n",
    "sns.distplot(temp_df[temp_df.total_companies > 100].proportion_no_psc)"
   ]
  },
  {
   "cell_type": "code",
   "execution_count": 72,
   "metadata": {},
   "outputs": [
    {
     "data": {
      "text/plain": [
       "count               2,813.00\n",
       "mean                    0.07\n",
       "std                     0.14\n",
       "min                     0.00\n",
       "25%                     0.01\n",
       "50%                     0.03\n",
       "75%                     0.07\n",
       "max                     0.99\n",
       "Name: proportion_no_psc, dtype: float64"
      ]
     },
     "execution_count": 72,
     "metadata": {},
     "output_type": "execute_result"
    }
   ],
   "source": [
    "temp_df[temp_df.total_companies > 100].proportion_no_psc.describe()"
   ]
  },
  {
   "cell_type": "markdown",
   "metadata": {},
   "source": [
    "### Circular control structure"
   ]
  },
  {
   "cell_type": "markdown",
   "metadata": {},
   "source": [
    "#### How many unique companies are part of circular control structures?"
   ]
  },
  {
   "cell_type": "markdown",
   "metadata": {},
   "source": [
    "- Circular control structures can be part of larger structures, so one can't neccessarily infer that if a company is part of such a structure that there is not a human PSC disclosed eslewhere in the corporate structure\n",
    "- This figure includes companies that control themselves"
   ]
  },
  {
   "cell_type": "code",
   "execution_count": 73,
   "metadata": {},
   "outputs": [
    {
     "data": {
      "text/plain": [
       "328"
      ]
     },
     "execution_count": 73,
     "metadata": {},
     "output_type": "execute_result"
    }
   ],
   "source": [
    "circle_companies = pd.DataFrame(graph.run(\"MATCH p=(c1:Company)<-[:CONTROLS*1..]-(c1:Company)\\\n",
    "RETURN DISTINCT (c1.company_number)\").data())\n",
    "active_companies[active_companies.CompanyNumber.isin(circle_companies['(c1.company_number)'])].to_csv('data/for_further_investigation/circular_ownership.csv')\n",
    "len(circle_companies)"
   ]
  },
  {
   "cell_type": "markdown",
   "metadata": {},
   "source": [
    "## Company factories"
   ]
  },
  {
   "cell_type": "markdown",
   "metadata": {},
   "source": [
    "### What are the most common registered addresses for active companies?"
   ]
  },
  {
   "cell_type": "code",
   "execution_count": 74,
   "metadata": {},
   "outputs": [
    {
     "data": {
      "text/plain": [
       "first_and_postcode\n",
       "20-22 WENLOCK ROAD-N1 7GU                   32889\n",
       "71-75 SHELTON STREET-WC2H 9JQ               19466\n",
       "KEMP HOUSE-EC1V 2NX                         14745\n",
       "BRUNEL HOUSE 340 FIRECREST COURT-WA1 1RG    11335\n",
       "27 OLD GLOUCESTER STREET-WC1N 3AX            8091\n",
       "FIRST FLOOR, TELECOM HOUSE-BN1 6AF           6969\n",
       "STRON HOUSE-SW1Y 5EA                         6495\n",
       "1ST FLOOR-EC1A 9EJ                           5563\n",
       "69 GREAT HAMPTON STREET-B18 6EW              5497\n",
       "2 STAMFORD SQUARE-SW15 2BF                   4641\n",
       "Name: CompanyNumber, dtype: int64"
      ]
     },
     "execution_count": 74,
     "metadata": {},
     "output_type": "execute_result"
    }
   ],
   "source": [
    "most_common_registered_addresses.sort_values(ascending=False).head(10)"
   ]
  },
  {
   "cell_type": "markdown",
   "metadata": {},
   "source": [
    "### Which addresses have the largest number of PSCs registered there (looking at active and inactive companies)?"
   ]
  },
  {
   "cell_type": "markdown",
   "metadata": {},
   "source": [
    "- Unusually, we are looking over the whole PSC dataset here and not just those PSCs that are active."
   ]
  },
  {
   "cell_type": "code",
   "execution_count": 75,
   "metadata": {},
   "outputs": [
    {
     "data": {
      "text/html": [
       "<div>\n",
       "<style>\n",
       "    .dataframe thead tr:only-child th {\n",
       "        text-align: right;\n",
       "    }\n",
       "\n",
       "    .dataframe thead th {\n",
       "        text-align: left;\n",
       "    }\n",
       "\n",
       "    .dataframe tbody tr th {\n",
       "        vertical-align: top;\n",
       "    }\n",
       "</style>\n",
       "<table border=\"1\" class=\"dataframe\">\n",
       "  <thead>\n",
       "    <tr style=\"text-align: right;\">\n",
       "      <th></th>\n",
       "      <th></th>\n",
       "      <th></th>\n",
       "      <th></th>\n",
       "      <th>company_number</th>\n",
       "    </tr>\n",
       "    <tr>\n",
       "      <th>address.address_line_1</th>\n",
       "      <th>address.address_line_2</th>\n",
       "      <th>address.country</th>\n",
       "      <th>address.postal_code</th>\n",
       "      <th></th>\n",
       "    </tr>\n",
       "  </thead>\n",
       "  <tbody>\n",
       "    <tr>\n",
       "      <th>340 Firecrest Court</th>\n",
       "      <th>Centre Park</th>\n",
       "      <th>United Kingdom</th>\n",
       "      <th>WA1 1RG</th>\n",
       "      <td>6825</td>\n",
       "    </tr>\n",
       "    <tr>\n",
       "      <th>Coy Pond Business Pk</th>\n",
       "      <th>Ingworth Road</th>\n",
       "      <th>United Kingdom</th>\n",
       "      <th>BH12 1JY</th>\n",
       "      <td>2344</td>\n",
       "    </tr>\n",
       "    <tr>\n",
       "      <th>Shelton Street</th>\n",
       "      <th>Covent Garden</th>\n",
       "      <th>United Kingdom</th>\n",
       "      <th>WC2H 9JQ</th>\n",
       "      <td>1822</td>\n",
       "    </tr>\n",
       "    <tr>\n",
       "      <th>118 High Street</th>\n",
       "      <th>Purley</th>\n",
       "      <th>United Kingdom</th>\n",
       "      <th>CR8 2AD</th>\n",
       "      <td>1636</td>\n",
       "    </tr>\n",
       "    <tr>\n",
       "      <th>Shelton Street</th>\n",
       "      <th>Covent Garden</th>\n",
       "      <th>England</th>\n",
       "      <th>WC2H 9JQ</th>\n",
       "      <td>1451</td>\n",
       "    </tr>\n",
       "    <tr>\n",
       "      <th>Ivor Place</th>\n",
       "      <th>Lower Ground</th>\n",
       "      <th>England</th>\n",
       "      <th>NW1 6EA</th>\n",
       "      <td>822</td>\n",
       "    </tr>\n",
       "    <tr>\n",
       "      <th>Troon Way Business Centre</th>\n",
       "      <th>Humberstone Lane</th>\n",
       "      <th>England</th>\n",
       "      <th>LE4 9HA</th>\n",
       "      <td>738</td>\n",
       "    </tr>\n",
       "    <tr>\n",
       "      <th>Ashton Farm</th>\n",
       "      <th>4 High Street</th>\n",
       "      <th>United Kingdom</th>\n",
       "      <th>S66 7AL</th>\n",
       "      <td>687</td>\n",
       "    </tr>\n",
       "    <tr>\n",
       "      <th>Everdene House</th>\n",
       "      <th>Deansleigh Road</th>\n",
       "      <th>United Kingdom</th>\n",
       "      <th>BH7 7DU</th>\n",
       "      <td>686</td>\n",
       "    </tr>\n",
       "    <tr>\n",
       "      <th>Coy Pond Business Park</th>\n",
       "      <th>Ingworth Road</th>\n",
       "      <th>United Kingdom</th>\n",
       "      <th>BH12 1JY</th>\n",
       "      <td>679</td>\n",
       "    </tr>\n",
       "  </tbody>\n",
       "</table>\n",
       "</div>"
      ],
      "text/plain": [
       "                                                                                      company_number\n",
       "address.address_line_1    address.address_line_2 address.country address.postal_code                \n",
       "340 Firecrest Court       Centre Park            United Kingdom  WA1 1RG                        6825\n",
       "Coy Pond Business Pk      Ingworth Road          United Kingdom  BH12 1JY                       2344\n",
       "Shelton Street            Covent Garden          United Kingdom  WC2H 9JQ                       1822\n",
       "118 High Street           Purley                 United Kingdom  CR8 2AD                        1636\n",
       "Shelton Street            Covent Garden          England         WC2H 9JQ                       1451\n",
       "Ivor Place                Lower Ground           England         NW1 6EA                         822\n",
       "Troon Way Business Centre Humberstone Lane       England         LE4 9HA                         738\n",
       "Ashton Farm               4 High Street          United Kingdom  S66 7AL                         687\n",
       "Everdene House            Deansleigh Road        United Kingdom  BH7 7DU                         686\n",
       "Coy Pond Business Park    Ingworth Road          United Kingdom  BH12 1JY                        679"
      ]
     },
     "execution_count": 75,
     "metadata": {},
     "output_type": "execute_result"
    }
   ],
   "source": [
    "address_fields = ['address.address_line_1', 'address.address_line_2', 'address.country', 'address.postal_code']\n",
    "active_psc_records.groupby(address_fields)[['company_number']]\\\n",
    "    .agg(unique_company_count).sort_values(by='company_number',ascending=False).head(10)"
   ]
  },
  {
   "cell_type": "markdown",
   "metadata": {},
   "source": [
    "## Scottlish Limited Partnerships (SLPs) and the PSC regime"
   ]
  },
  {
   "cell_type": "code",
   "execution_count": 76,
   "metadata": {},
   "outputs": [],
   "source": [
    "slps = active_companies[active_companies['company_type'] == 'Limited Partnership for Scotland']"
   ]
  },
  {
   "cell_type": "markdown",
   "metadata": {},
   "source": [
    "### Total number of SLPs in active companies dataset"
   ]
  },
  {
   "cell_type": "markdown",
   "metadata": {},
   "source": [
    "- SLPs do not have to log their dissolution in the same way as Limited Companies. Therefore, many of the SLPs in the active companies dataset are in fact dissolved, however there is no way of distinguishing them in the data available to us."
   ]
  },
  {
   "cell_type": "code",
   "execution_count": 77,
   "metadata": {},
   "outputs": [
    {
     "data": {
      "text/plain": [
       "31857"
      ]
     },
     "execution_count": 77,
     "metadata": {},
     "output_type": "execute_result"
    }
   ],
   "source": [
    "len(slps.CompanyNumber.unique())"
   ]
  },
  {
   "cell_type": "markdown",
   "metadata": {},
   "source": [
    "### Most popular registered addresses for SLPs"
   ]
  },
  {
   "cell_type": "code",
   "execution_count": 78,
   "metadata": {},
   "outputs": [
    {
     "data": {
      "text/plain": [
       "first_and_postcode\n",
       "50 LOTHIAN ROAD-EH3 9WJ               2755\n",
       "44 MAIN STREET-ML11 0QW               2560\n",
       "272 BATH STREET-G2 4JR                1644\n",
       "SUITE 1-EH7 5JA                       1619\n",
       "SUITE 1-EH2 1JE                       1505\n",
       "101 ROSE STREET SOUTH LANE-EH2 3JG     956\n",
       "39/5 GRANTON CRESCENT-EH5 1BN          825\n",
       "12 SOUTH BRIDGE-EH1 1DD                820\n",
       "SUITE 2-EH3 6SW                        802\n",
       "1/2 35 TAITS LANE-DD2 1DZ              703\n",
       "OFFICE 1-G41 3JA                       581\n",
       "SUITE 1-ML11 0QW                       436\n",
       "SUMMIT HOUSE-EH6 7BD                   360\n",
       "84 PARK ROAD-KY11 2JL                  344\n",
       "45 ROSEHAUGH ROAD-IV3 8SW              321\n",
       "SUITE 6-EH7 5JA                        310\n",
       "EDINBURGH QUAY-EH3 9AG                 292\n",
       "SUITE 2-EH7 5JA                        277\n",
       "69 BRUNSWICK STREET-EH7 5HT            256\n",
       "CENTRE OFFICE-EH1 3SA                  232\n",
       "Name: CompanyNumber, dtype: int64"
      ]
     },
     "execution_count": 78,
     "metadata": {},
     "output_type": "execute_result"
    }
   ],
   "source": [
    "most_common_registered_addresses_slps = active_companies[active_companies['company_type'] == 'Limited Partnership for Scotland'].groupby(['first_and_postcode'])['CompanyNumber']\\\n",
    "    .agg(lambda x: len(x.unique())).sort_values(ascending=False).head(20)\n",
    "most_common_registered_addresses_slps.to_excel('data/for_further_investigation/top_20_slp_addresses.xlsx')\n",
    "most_common_registered_addresses_slps"
   ]
  },
  {
   "cell_type": "code",
   "execution_count": 79,
   "metadata": {},
   "outputs": [
    {
     "data": {
      "text/plain": [
       "RegAddress.PostCode\n",
       "ML11 0QW    3279\n",
       "EH3 9WJ     2769\n",
       "EH7 5JA     2454\n",
       "G2 4JR      1683\n",
       "EH2 1JE     1507\n",
       "EH6 7BD     1262\n",
       "EH1 1DD     1023\n",
       "EH3 6SW     1018\n",
       "EH2 3JG      980\n",
       "G2 1QX       924\n",
       "EH5 1BN      832\n",
       "KA7 1UB      723\n",
       "DD2 1DZ      708\n",
       "G41 3JA      615\n",
       "KY16 9UR     463\n",
       "EH6 8HH      368\n",
       "KY11 2JL     344\n",
       "FK8 1AL      324\n",
       "IV3 8SW      321\n",
       "EH3 9AG      296\n",
       "Name: CompanyNumber, dtype: int64"
      ]
     },
     "execution_count": 79,
     "metadata": {},
     "output_type": "execute_result"
    }
   ],
   "source": [
    "most_common_registered_postcodes_slps = active_companies[active_companies['company_type'] == 'Limited Partnership for Scotland'].groupby(['RegAddress.PostCode'])['CompanyNumber']\\\n",
    "    .agg(lambda x: len(x.unique())).sort_values(ascending=False).head(20)\n",
    "most_common_registered_postcodes_slps.to_excel('data/for_further_investigation/top_20_slp_postcodes.xlsx')\n",
    "most_common_registered_postcodes_slps"
   ]
  },
  {
   "cell_type": "markdown",
   "metadata": {},
   "source": [
    "### Incorporation rate of SLPs"
   ]
  },
  {
   "cell_type": "code",
   "execution_count": 80,
   "metadata": {},
   "outputs": [
    {
     "name": "stdout",
     "output_type": "stream",
     "text": [
      "Drop from peak SLP incorproation to last quarter of 2015: 0.815968289921\n"
     ]
    },
    {
     "data": {
      "image/png": "[encoded data removed]",
      "text/plain": [
       "<matplotlib.figure.Figure at 0x7fcb67e7b550>"
      ]
     },
     "metadata": {},
     "output_type": "display_data"
    }
   ],
   "source": [
    "slp_timeseries = active_companies[active_companies['company_type'] == 'Limited Partnership for Scotland'].set_index('incorporation_date_formatted').copy()\n",
    "temp_timeseries = slp_timeseries.resample('Q').count()['CompanyNumber']\n",
    "temp_timeseries['2009':'2017'].to_csv('data/viz/slp_timeseries.csv')\n",
    "temp_timeseries.plot(figsize=(20,10),xlim=('2009-01-01','2018-01-01'))\n",
    "print('Drop from peak SLP incorproation to last quarter of 2015: '  + str(1 - (temp_timeseries['2017-12-31'] / temp_timeseries['2015-12-31'])))"
   ]
  },
  {
   "cell_type": "markdown",
   "metadata": {},
   "source": [
    "#### How does this compare to other Partnership types not covered by thge PSC legislation?"
   ]
  },
  {
   "cell_type": "code",
   "execution_count": 81,
   "metadata": {},
   "outputs": [
    {
     "data": {
      "text/plain": [
       "<matplotlib.axes._subplots.AxesSubplot at 0x7fcb90549978>"
      ]
     },
     "execution_count": 81,
     "metadata": {},
     "output_type": "execute_result"
    },
    {
     "data": {
      "image/png": "[encoded data removed]",
      "text/plain": [
       "<matplotlib.figure.Figure at 0x7fcb67e82be0>"
      ]
     },
     "metadata": {},
     "output_type": "display_data"
    }
   ],
   "source": [
    "nlp_timeseries = active_companies[active_companies['company_type'] == 'Limited Partnership for Northern Ireland'].set_index('incorporation_date_formatted').copy()\n",
    "temp_timeseries_1 = nlp_timeseries.resample('Q').count()['CompanyNumber']\n",
    "elp_timeseries = active_companies[active_companies['company_type'] == 'Limited Partnership for England & Wales'].set_index('incorporation_date_formatted').copy()\n",
    "temp_timeseries_2 = elp_timeseries.resample('Q').count()['CompanyNumber']\n",
    "elp_nlp_combined = pd.concat([temp_timeseries_1,temp_timeseries_2],axis=1)\n",
    "elp_nlp_combined.columns = ['NLP','ELP']\n",
    "elp_nlp_combined['2009':'2017'].to_csv('data/viz/elp_nlp_timeseries.csv')\n",
    "elp_nlp_combined['2009':'2017'].plot(figsize=(20,10),xlim=('2009-01-01','2018-01-01'))"
   ]
  },
  {
   "cell_type": "markdown",
   "metadata": {},
   "source": [
    "### How many and what proportion of SLPs have reported that they have at least one PSC?"
   ]
  },
  {
   "cell_type": "code",
   "execution_count": 82,
   "metadata": {},
   "outputs": [
    {
     "name": "stdout",
     "output_type": "stream",
     "text": [
      "Number of SLPs with at least one declared PSC: 6716\n",
      "Proportion of SLPs in active companies dataset that declared a PSC: 0.21\n"
     ]
    }
   ],
   "source": [
    "print('Number of SLPs with at least one declared PSC: ' + str(len(active_psc_records[active_psc_records.company_type == 'Limited Partnership for Scotland'].company_number.unique())))\n",
    "print('Proportion of SLPs in active companies dataset that declared a PSC: ' + str(round(len(active_psc_records[active_psc_records.company_type == 'Limited Partnership for Scotland'].company_number.unique()) / len(slps.CompanyNumber.unique()),2)))"
   ]
  },
  {
   "cell_type": "markdown",
   "metadata": {},
   "source": [
    "### How many and what proportion of SLPs have filed a statement of any kind?"
   ]
  },
  {
   "cell_type": "code",
   "execution_count": 83,
   "metadata": {},
   "outputs": [
    {
     "name": "stdout",
     "output_type": "stream",
     "text": [
      "Number of SLPs that have declared at least one statement: 7248\n",
      "Proportion of SLPs in active companies dataset that declared a statement: 0.23\n"
     ]
    }
   ],
   "source": [
    "print('Number of SLPs that have declared at least one statement: ' + str(len(active_psc_statements[active_psc_statements.company_number.isin(slps.CompanyNumber)].company_number.unique())))\n",
    "print('Proportion of SLPs in active companies dataset that declared a statement: ' + str(round(len(active_psc_statements[active_psc_statements.company_number.isin(slps.CompanyNumber)].company_number.unique()) / len(slps.CompanyNumber.unique()),2)))"
   ]
  },
  {
   "cell_type": "markdown",
   "metadata": {},
   "source": [
    "### What nationality are PSCs for SLPs?"
   ]
  },
  {
   "cell_type": "code",
   "execution_count": 84,
   "metadata": {},
   "outputs": [
    {
     "data": {
      "text/plain": [
       "Russian        980\n",
       "Ukrainian      945\n",
       "British        642\n",
       "Ukraine        342\n",
       "Belarusian     199\n",
       "Uzbek          158\n",
       "Latvian        144\n",
       "Azerbaijani     98\n",
       "Kazakh          75\n",
       "Moldovan        68\n",
       "Name: nationality, dtype: int64"
      ]
     },
     "execution_count": 84,
     "metadata": {},
     "output_type": "execute_result"
    }
   ],
   "source": [
    "active_psc_records[active_psc_records.company_number.isin(slps.CompanyNumber)].nationality.value_counts().head(10)"
   ]
  },
  {
   "cell_type": "markdown",
   "metadata": {},
   "source": [
    "### What proportion of SLP PSCs have an addresses or a nationality from a from  former Soviet country?"
   ]
  },
  {
   "cell_type": "code",
   "execution_count": 85,
   "metadata": {},
   "outputs": [
    {
     "name": "stdout",
     "output_type": "stream",
     "text": [
      "Number of companies (all types) with former Soviet country PSCs: 10551\n",
      "Number of SLPs with former Soviet country PSCs: 2971\n",
      "Proportion of Private Limited Company PSCs that are from former Soviet countries: 0.0\n",
      "Proportion of SLP PSCs that are from former Soviet countries: 0.44\n"
     ]
    }
   ],
   "source": [
    "soviet_countries = ['Armenia','Azerbaijan', 'Belarus', 'Estonia', 'Georgia', 'Kazakhstan', 'Kyrgyzstan', 'Latvia', 'Lithuania', 'Moldova', 'Russia', 'Russian Federation', 'Tajikistan', 'Turkmenistan', 'Ukraine', 'Uzbekistan']\n",
    "soviet_countries = [x.upper() for x in soviet_countries]\n",
    "soviet_pscs = active_psc_records[(active_psc_records.country_of_residence_normal.isin(soviet_countries)) | (active_psc_records.address_country_normal.isin(soviet_countries))]\n",
    "print('Number of companies (all types) with former Soviet country PSCs: ' + str(len(soviet_pscs.company_number.unique())))\n",
    "print('Number of SLPs with former Soviet country PSCs: ' + str(len(soviet_pscs[soviet_pscs.company_number.str.startswith('SL')].company_number.unique())))     \n",
    "##Proportion of SLPs that reported which have at least one Soviet PSC (just using PSC data)\n",
    "private_limited_company_numbers = active_companies[active_companies.CompanyCategory == 'Private Limited Company'].CompanyNumber.unique()\n",
    "print('Proportion of Private Limited Company PSCs that are from former Soviet countries: ' +  str(round(len(active_psc_records[(active_psc_records.company_number.isin(private_limited_company_numbers) & (active_psc_records.company_number.str.startswith('SL')))].company_number.unique()) / len(active_psc_records.company_number.unique()),2)))\n",
    "print('Proportion of SLP PSCs that are from former Soviet countries: ' +  str(round(len(active_psc_records[(active_psc_records.company_number.isin(soviet_pscs.company_number.unique()) & (active_psc_records.company_number.str.startswith('SL')))].company_number.unique()) / len(active_psc_records[active_psc_records.company_number.str.startswith('SL')].company_number.unique()),2))) "
   ]
  },
  {
   "cell_type": "markdown",
   "metadata": {},
   "source": [
    " - Proportions are over just those companies that hvae filed a PSC"
   ]
  },
  {
   "cell_type": "code",
   "execution_count": 86,
   "metadata": {},
   "outputs": [
    {
     "name": "stdout",
     "output_type": "stream",
     "text": [
      "Overall percentage of Soviet PSCs for all companies: 0.003\n"
     ]
    },
    {
     "data": {
      "text/html": [
       "<div>\n",
       "<style>\n",
       "    .dataframe thead tr:only-child th {\n",
       "        text-align: right;\n",
       "    }\n",
       "\n",
       "    .dataframe thead th {\n",
       "        text-align: left;\n",
       "    }\n",
       "\n",
       "    .dataframe tbody tr th {\n",
       "        vertical-align: top;\n",
       "    }\n",
       "</style>\n",
       "<table border=\"1\" class=\"dataframe\">\n",
       "  <thead>\n",
       "    <tr style=\"text-align: right;\">\n",
       "      <th></th>\n",
       "      <th>number_companies_with_a_former_soviet_psc</th>\n",
       "      <th>total_companies</th>\n",
       "      <th>proportion_of_companies_with_a_former_soviet_psc</th>\n",
       "    </tr>\n",
       "    <tr>\n",
       "      <th>company_type</th>\n",
       "      <th></th>\n",
       "      <th></th>\n",
       "      <th></th>\n",
       "    </tr>\n",
       "  </thead>\n",
       "  <tbody>\n",
       "    <tr>\n",
       "      <th>Limited Partnership for Scotland</th>\n",
       "      <td>2,971.00</td>\n",
       "      <td>6716</td>\n",
       "      <td>0.44</td>\n",
       "    </tr>\n",
       "    <tr>\n",
       "      <th>Limited Liability Partnership for Scotland</th>\n",
       "      <td>154.00</td>\n",
       "      <td>2498</td>\n",
       "      <td>0.06</td>\n",
       "    </tr>\n",
       "    <tr>\n",
       "      <th>Limited Liability Partnership for England &amp; Wales</th>\n",
       "      <td>2,180.00</td>\n",
       "      <td>41179</td>\n",
       "      <td>0.05</td>\n",
       "    </tr>\n",
       "    <tr>\n",
       "      <th>European Company (Societas Europaea) for England &amp; Wales</th>\n",
       "      <td>1.00</td>\n",
       "      <td>24</td>\n",
       "      <td>0.04</td>\n",
       "    </tr>\n",
       "    <tr>\n",
       "      <th>Limited Liability Partnership for Northern Ireland</th>\n",
       "      <td>16.00</td>\n",
       "      <td>521</td>\n",
       "      <td>0.03</td>\n",
       "    </tr>\n",
       "    <tr>\n",
       "      <th>England &amp; Wales Company</th>\n",
       "      <td>5,019.00</td>\n",
       "      <td>3279516</td>\n",
       "      <td>0.00</td>\n",
       "    </tr>\n",
       "    <tr>\n",
       "      <th>Scottish Company</th>\n",
       "      <td>197.00</td>\n",
       "      <td>184821</td>\n",
       "      <td>0.00</td>\n",
       "    </tr>\n",
       "    <tr>\n",
       "      <th>Unregistered Companies (S 1043 - Not Cos Act) for England &amp; Wales</th>\n",
       "      <td>0.00</td>\n",
       "      <td>12</td>\n",
       "      <td>0.00</td>\n",
       "    </tr>\n",
       "    <tr>\n",
       "      <th>Unregistered Companies (S 1043 Not Cos Act) for Scotland</th>\n",
       "      <td>0.00</td>\n",
       "      <td>4</td>\n",
       "      <td>0.00</td>\n",
       "    </tr>\n",
       "  </tbody>\n",
       "</table>\n",
       "</div>"
      ],
      "text/plain": [
       "                                                    number_companies_with_a_former_soviet_psc  \\\n",
       "company_type                                                                                    \n",
       "Limited Partnership for Scotland                                                     2,971.00   \n",
       "Limited Liability Partnership for Scotland                                             154.00   \n",
       "Limited Liability Partnership for England & Wales                                    2,180.00   \n",
       "European Company (Societas Europaea) for Englan...                                       1.00   \n",
       "Limited Liability Partnership for Northern Ireland                                      16.00   \n",
       "England & Wales Company                                                              5,019.00   \n",
       "Scottish Company                                                                       197.00   \n",
       "Unregistered Companies (S 1043 - Not Cos Act) f...                                       0.00   \n",
       "Unregistered Companies (S 1043 Not Cos Act) for...                                       0.00   \n",
       "\n",
       "                                                    total_companies  \\\n",
       "company_type                                                          \n",
       "Limited Partnership for Scotland                               6716   \n",
       "Limited Liability Partnership for Scotland                     2498   \n",
       "Limited Liability Partnership for England & Wales             41179   \n",
       "European Company (Societas Europaea) for Englan...               24   \n",
       "Limited Liability Partnership for Northern Ireland              521   \n",
       "England & Wales Company                                     3279516   \n",
       "Scottish Company                                             184821   \n",
       "Unregistered Companies (S 1043 - Not Cos Act) f...               12   \n",
       "Unregistered Companies (S 1043 Not Cos Act) for...                4   \n",
       "\n",
       "                                                    proportion_of_companies_with_a_former_soviet_psc  \n",
       "company_type                                                                                          \n",
       "Limited Partnership for Scotland                                                                0.44  \n",
       "Limited Liability Partnership for Scotland                                                      0.06  \n",
       "Limited Liability Partnership for England & Wales                                               0.05  \n",
       "European Company (Societas Europaea) for Englan...                                              0.04  \n",
       "Limited Liability Partnership for Northern Ireland                                              0.03  \n",
       "England & Wales Company                                                                         0.00  \n",
       "Scottish Company                                                                                0.00  \n",
       "Unregistered Companies (S 1043 - Not Cos Act) f...                                              0.00  \n",
       "Unregistered Companies (S 1043 Not Cos Act) for...                                              0.00  "
      ]
     },
     "execution_count": 86,
     "metadata": {},
     "output_type": "execute_result"
    }
   ],
   "source": [
    "active_psc_records['former_soviet'] = (active_psc_records.country_of_residence_normal.isin(soviet_countries)) | (active_psc_records.address_country_normal.isin(soviet_countries))\n",
    "company_type_totals = pd.DataFrame(active_psc_records.groupby('company_type').agg(lambda x: len(x.unique()))['company_number'])\n",
    "company_type_totals.columns = ['totals']\n",
    "temp_df = active_psc_records.pivot_table(index='company_type',values='company_number',columns='former_soviet',aggfunc=lambda x: len(x.unique()) )\n",
    "temp_df = pd.merge(temp_df,company_type_totals,left_index=True,right_index=True)\n",
    "temp_df['proportion'] = temp_df[True] / temp_df['totals']\n",
    "temp_df = temp_df[[True,'totals','proportion']].fillna(0)\n",
    "temp_df.columns = ['number_companies_with_a_former_soviet_psc','total_companies','proportion_of_companies_with_a_former_soviet_psc']\n",
    "print(\"Overall percentage of Soviet PSCs for all companies: \" + str(round(len(active_psc_records[active_psc_records.former_soviet == True].company_number.unique()) / len(active_psc_records.company_number.unique()),3)))\n",
    "temp_df = temp_df.sort_values(by='proportion_of_companies_with_a_former_soviet_psc',ascending=False)\n",
    "temp_df.to_csv('data/viz/former_soviet_company_types.csv')\n",
    "temp_df"
   ]
  },
  {
   "cell_type": "markdown",
   "metadata": {},
   "source": [
    "# Red flags"
   ]
  },
  {
   "cell_type": "markdown",
   "metadata": {},
   "source": [
    "In this section we encode a set of red flags that indicate risks for corruption, financial crime and money laundering based on guidance from the FATF, UK Government, OECD and past Global Witness reports, amongst other sources. More details on this in the accompanying briefing."
   ]
  },
  {
   "cell_type": "code",
   "execution_count": 87,
   "metadata": {},
   "outputs": [],
   "source": [
    "def registered_at_mailbox(df):\n",
    "    active_companies.first_and_postcode = active_companies.first_and_postcode.fillna('')\n",
    "    grouped = active_psc_records.groupby(['first_and_postcode'])\n",
    "    groups = grouped.size()\n",
    "    groups = groups[groups > 1000]\n",
    "    groups = groups.index.values\n",
    "    company_numbers = []\n",
    "    for group in groups:\n",
    "        l = grouped.get_group(group).company_number.tolist()\n",
    "        company_numbers.extend(l)\n",
    "    df['registered_at_mailbox'] = df.CompanyNumber.isin(company_numbers)\n",
    "    return df\n",
    "def controlled_by_popular_person(df):\n",
    "    grouped = active_psc_records.groupby(['name_elements.forename','name_elements.surname','month_year_birth','address.postal_code'])\n",
    "    groups = grouped.size()\n",
    "    groups = groups[groups > 100]\n",
    "    groups = groups.index.values\n",
    "    company_numbers = []\n",
    "    for group in groups:\n",
    "        l = grouped.get_group(group).company_number.tolist()\n",
    "        company_numbers.extend(l)\n",
    "    df['controlled_by_popular_person'] = df.CompanyNumber.isin(company_numbers)\n",
    "    return df\n",
    "def company_controlled_by_trust(df):\n",
    "    company_numbers = list(set(psc_controls[psc_controls.nature_of_control.str.contains('trust')].company_number.tolist()))\n",
    "    df['controlled_via_trust'] = df.CompanyNumber.isin(company_numbers)\n",
    "    return df\n",
    "def beneficial_owners_or_officers_are_based_in_secrecy_jurisdiction(df):\n",
    "    company_numbers_pscs = active_psc_records[active_psc_records.secret_base == True].company_number.unique().tolist()\n",
    "    company_numbers_officers= officers[officers.secret_base == True].company_number.unique().tolist()\n",
    "    company_numbers_combined = list(set(company_numbers_pscs + company_numbers_officers))\n",
    "    df['officer_or_psc_based_in_secrecy_jurisdiction'] = df.CompanyNumber.isin(company_numbers_combined)\n",
    "    return df\n",
    "def politician_officer_or_psc_of_company(df):\n",
    "    every_politician = pd.read_csv('data/outputs/every_politician.csv')\n",
    "    officers.join_id = officers.join_id.fillna('')\n",
    "    officers_company_numbers = officers[officers.join_id.isin(every_politician.join_id)].company_number.tolist()\n",
    "    psc_records.join_id.fillna('',inplace=True)\n",
    "    psc_company_numbers = psc_records[psc_records.join_id.isin(every_politician.join_id)].company_number.tolist()\n",
    "    company_numbers = list(set(psc_company_numbers + officers_company_numbers))\n",
    "    df['politician_officer_or_psc'] = df.CompanyNumber.isin(company_numbers)\n",
    "    return df\n",
    "def changes_name_a_lot(df):\n",
    "    d = active_companies[['CompanyNumber','first_and_postcode','PreviousName_1.CONDATE','PreviousName_1.CompanyName', 'PreviousName_2.CONDATE',\n",
    "       'PreviousName_2.CompanyName', 'PreviousName_3.CONDATE',\n",
    "       'PreviousName_3.CompanyName', 'PreviousName_4.CONDATE',\n",
    "       'PreviousName_4.CompanyName', 'PreviousName_5.CONDATE',\n",
    "       'PreviousName_5.CompanyName', 'PreviousName_6.CONDATE',\n",
    "       'PreviousName_6.CompanyName', 'PreviousName_7.CONDATE',\n",
    "       'PreviousName_7.CompanyName', 'PreviousName_8.CONDATE',\n",
    "       'PreviousName_8.CompanyName', 'PreviousName_9.CONDATE',\n",
    "       'PreviousName_9.CompanyName', 'PreviousName_10.CONDATE',\n",
    "       'PreviousName_10.CompanyName']].copy()\n",
    "    d.set_index(['CompanyNumber','first_and_postcode'],inplace=True)\n",
    "    new_columns = [x.replace('PreviousName_','') for x in d.columns]\n",
    "    new_columns = [tuple(x.split('.')) for x in new_columns]\n",
    "    d.columns = pd.MultiIndex.from_tuples(new_columns)\n",
    "    stacked_previous_names = d.stack(level=0).dropna().reset_index()\n",
    "    counts = stacked_previous_names.CompanyNumber.value_counts()\n",
    "    company_numbers = counts[counts > 5].index.tolist()\n",
    "    df['lots_of_name_changes'] = df.CompanyNumber.isin(company_numbers)\n",
    "    return df\n",
    "def disqualified_directors(df):\n",
    "    disqualified_directors = pd.read_csv('data/outputs/disqualified_directors.csv')\n",
    "    disqualified_directors.join_id = disqualified_directors.join_id.fillna('')\n",
    "    active_psc_records.join_id = active_psc_records.join_id.fillna('')\n",
    "    company_numbers = active_psc_records[active_psc_records.join_id.isin(disqualified_directors.join_id)].company_number.tolist()\n",
    "    df['disqualified_director_is_psc'] = df.CompanyNumber.isin(company_numbers)\n",
    "    return df\n",
    "def company_shares_officer_psc_or_postcode_with_suspected_ml_company(df):\n",
    "    ti_data = pd.read_csv('data/original_data/transparency_international_ml_company_data.csv')\n",
    "    ml_companies = ti_data['Company Number'].dropna().tolist()\n",
    "    query_string = 'MATCH (c1:Company)-[*2]-(c2:Company) WHERE c1.uid IN {} AND NOT c2.uid = c1.uid RETURN c2.uid'.format(ml_companies)\n",
    "    connected_companies = graph.run(query_string).data()\n",
    "    connected_companies = [x['c2.uid'] for x in connected_companies]\n",
    "    df['company_shares_officer_psc_or_postcode_with_suspected_ml_company'] = df.CompanyNumber.isin(connected_companies)\n",
    "    return df"
   ]
  },
  {
   "cell_type": "code",
   "execution_count": 88,
   "metadata": {},
   "outputs": [
    {
     "name": "stderr",
     "output_type": "stream",
     "text": [
      "/usr/local/lib/python3.5/dist-packages/IPython/core/interactiveshell.py:2850: DtypeWarning: Columns (1,3,4,13,14,17,20,23,25,26,28,29,34,35,36,38,44,47,48,56,61,66,68,69,73,76,79,84,86,87,90,92,93,96,102,107,114,117,118,128,130,136,142,143,144,149,150,153,155,158,159,165,169,170,171,173,177,183,185,187,190,193,194,196,200,203,205,206,208,212,214,215,217,220,225,227) have mixed types. Specify dtype option on import or set low_memory=False.\n",
      "  if self.run_code(code, result):\n"
     ]
    }
   ],
   "source": [
    "red_flags = [registered_at_mailbox,controlled_by_popular_person,company_controlled_by_trust,beneficial_owners_or_officers_are_based_in_secrecy_jurisdiction,politician_officer_or_psc_of_company,changes_name_a_lot,disqualified_directors,company_shares_officer_psc_or_postcode_with_suspected_ml_company]\n",
    "for function in  red_flags:\n",
    "    active_companies = function(active_companies)"
   ]
  },
  {
   "cell_type": "code",
   "execution_count": 89,
   "metadata": {},
   "outputs": [
    {
     "data": {
      "text/html": [
       "<div>\n",
       "<style>\n",
       "    .dataframe thead tr:only-child th {\n",
       "        text-align: right;\n",
       "    }\n",
       "\n",
       "    .dataframe thead th {\n",
       "        text-align: left;\n",
       "    }\n",
       "\n",
       "    .dataframe tbody tr th {\n",
       "        vertical-align: top;\n",
       "    }\n",
       "</style>\n",
       "<table border=\"1\" class=\"dataframe\">\n",
       "  <thead>\n",
       "    <tr style=\"text-align: right;\">\n",
       "      <th></th>\n",
       "      <th>number_of_companies_with_red_flag</th>\n",
       "    </tr>\n",
       "    <tr>\n",
       "      <th>red_flag</th>\n",
       "      <th></th>\n",
       "    </tr>\n",
       "  </thead>\n",
       "  <tbody>\n",
       "    <tr>\n",
       "      <th>registered_at_mailbox</th>\n",
       "      <td>208572</td>\n",
       "    </tr>\n",
       "    <tr>\n",
       "      <th>controlled_by_popular_person</th>\n",
       "      <td>9199</td>\n",
       "    </tr>\n",
       "    <tr>\n",
       "      <th>controlled_via_trust</th>\n",
       "      <td>143939</td>\n",
       "    </tr>\n",
       "    <tr>\n",
       "      <th>officer_or_psc_based_in_secrecy_jurisdiction</th>\n",
       "      <td>140409</td>\n",
       "    </tr>\n",
       "    <tr>\n",
       "      <th>politician_officer_or_psc</th>\n",
       "      <td>390</td>\n",
       "    </tr>\n",
       "    <tr>\n",
       "      <th>lots_of_name_changes</th>\n",
       "      <td>416</td>\n",
       "    </tr>\n",
       "    <tr>\n",
       "      <th>disqualified_director_is_psc</th>\n",
       "      <td>345</td>\n",
       "    </tr>\n",
       "    <tr>\n",
       "      <th>company_shares_officer_psc_or_postcode_with_suspected_ml_company</th>\n",
       "      <td>7848</td>\n",
       "    </tr>\n",
       "  </tbody>\n",
       "</table>\n",
       "</div>"
      ],
      "text/plain": [
       "                                                    number_of_companies_with_red_flag\n",
       "red_flag                                                                             \n",
       "registered_at_mailbox                                                          208572\n",
       "controlled_by_popular_person                                                     9199\n",
       "controlled_via_trust                                                           143939\n",
       "officer_or_psc_based_in_secrecy_jurisdiction                                   140409\n",
       "politician_officer_or_psc                                                         390\n",
       "lots_of_name_changes                                                              416\n",
       "disqualified_director_is_psc                                                      345\n",
       "company_shares_officer_psc_or_postcode_with_sus...                               7848"
      ]
     },
     "execution_count": 89,
     "metadata": {},
     "output_type": "execute_result"
    }
   ],
   "source": [
    "red_flag_columns = active_companies.columns[-8:]\n",
    "temp_df = pd.DataFrame(active_companies[red_flag_columns].sum(axis=0))\n",
    "temp_df.columns = ['number_of_companies_with_red_flag']\n",
    "temp_df.index.name = 'red_flag'\n",
    "temp_df"
   ]
  },
  {
   "cell_type": "markdown",
   "metadata": {},
   "source": [
    "## Distribution of the number of red flags per company"
   ]
  },
  {
   "cell_type": "code",
   "execution_count": 90,
   "metadata": {},
   "outputs": [
    {
     "data": {
      "text/plain": [
       "0    3689607\n",
       "1     420954\n",
       "2      41048\n",
       "3       2660\n",
       "4         22\n",
       "Name: sum_red_flags, dtype: int64"
      ]
     },
     "execution_count": 90,
     "metadata": {},
     "output_type": "execute_result"
    }
   ],
   "source": [
    "active_companies['sum_red_flags'] = active_companies[red_flag_columns].sum(axis=1)\n",
    "active_companies.sum_red_flags.value_counts()"
   ]
  },
  {
   "cell_type": "markdown",
   "metadata": {},
   "source": [
    "# Politicians that are PSC and/or officers"
   ]
  },
  {
   "cell_type": "markdown",
   "metadata": {},
   "source": [
    "Export a list of politicians (using data from EveryPolitician.org) that are PSCs or company officers."
   ]
  },
  {
   "cell_type": "code",
   "execution_count": 91,
   "metadata": {},
   "outputs": [],
   "source": [
    "active_psc_records = get_company_name_from_number(active_psc_records)\n",
    "politician_pscs = pd.merge(add_suffix_to_cols(active_psc_records,'ch'),add_suffix_to_cols(every_politican,'ep'),on='join_id')"
   ]
  },
  {
   "cell_type": "code",
   "execution_count": 94,
   "metadata": {},
   "outputs": [],
   "source": [
    "cols_subset = ['company_number_ch','controlled_company_name_ch' ,'address.address_line_1_ch', 'address.po_box_ch', 'address.postal_code_ch',\n",
    "       'ceased_ch', 'ceased_on_ch',\n",
    "       'country_of_residence_ch', 'name_ch',\n",
    "       'name_elements.forename_ch', 'name_elements.honours_ch',\n",
    "       'name_elements.middle_name_ch', 'name_elements.surname_ch',\n",
    "       'name_elements.title_ch', 'nationality_ch', 'natures_of_control_ch',\n",
    "       'notified_on_ch', 'company_type_ch', 'name_ep', 'country_ep','birth_date_ep',\n",
    "       'family_name_ep', 'gender_ep',\n",
    "       'given_name_ep', 'honorific_prefix_ep', 'honorific_suffix_ep',  'image_ep', 'images_ep', 'links_ep', \n",
    "       'national_identity_ep', 'other_names_ep', 'patronymic_name_ep',\n",
    "       'sort_name_ep', 'year_ep', 'month_ep', 'month_year_ep']\n",
    "politician_pscs[cols_subset].to_excel('data/for_further_investigation/psc_politicians.xlsx',index=False)"
   ]
  }
 ],
 "metadata": {
  "kernelspec": {
   "display_name": "Python 3",
   "language": "python",
   "name": "python3"
  },
  "language_info": {
   "codemirror_mode": {
    "name": "ipython",
    "version": 3
   },
   "file_extension": ".py",
   "mimetype": "text/x-python",
   "name": "python",
   "nbconvert_exporter": "python",
   "pygments_lexer": "ipython3",
   "version": "3.5.2"
  },
  "toc": {
   "nav_menu": {},
   "number_sections": true,
   "sideBar": true,
   "skip_h1_title": false,
   "title_cell": "Table of Contents",
   "title_sidebar": "Contents",
   "toc_cell": true,
   "toc_position": {
    "height": "calc(100% - 180px)",
    "left": "10px",
    "top": "150px",
    "width": "364px"
   },
   "toc_section_display": true,
   "toc_window_display": true
  }
 },
 "nbformat": 4,
 "nbformat_minor": 2
}
